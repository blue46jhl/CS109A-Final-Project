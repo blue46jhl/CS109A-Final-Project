{
 "cells": [
  {
   "cell_type": "markdown",
   "metadata": {},
   "source": [
    "# Models"
   ]
  },
  {
   "cell_type": "code",
   "execution_count": 1,
   "metadata": {},
   "outputs": [
    {
     "data": {
      "text/html": [
       "<style>\n",
       "blockquote { background: #AEDE94; }\n",
       "h1 { \n",
       "    padding-top: 25px;\n",
       "    padding-bottom: 25px;\n",
       "    text-align: left; \n",
       "    padding-left: 10px;\n",
       "    background-color: #DDDDDD; \n",
       "    color: black;\n",
       "}\n",
       "h2 { \n",
       "    padding-top: 10px;\n",
       "    padding-bottom: 10px;\n",
       "    text-align: left; \n",
       "    padding-left: 5px;\n",
       "    background-color: #EEEEEE; \n",
       "    color: black;\n",
       "}\n",
       "\n",
       "div.exercise {\n",
       "\tbackground-color: #ffcccc;\n",
       "\tborder-color: #E9967A; \t\n",
       "\tborder-left: 5px solid #800080; \n",
       "\tpadding: 0.5em;\n",
       "}\n",
       "\n",
       "span.sub-q {\n",
       "\tfont-weight: bold;\n",
       "}\n",
       "div.theme {\n",
       "\tbackground-color: #DDDDDD;\n",
       "\tborder-color: #E9967A; \t\n",
       "\tborder-left: 5px solid #800080; \n",
       "\tpadding: 0.5em;\n",
       "\tfont-size: 18pt;\n",
       "}\n",
       "div.gc { \n",
       "\tbackground-color: #AEDE94;\n",
       "\tborder-color: #E9967A; \t \n",
       "\tborder-left: 5px solid #800080; \n",
       "\tpadding: 0.5em;\n",
       "\tfont-size: 12pt;\n",
       "}\n",
       "p.q1 { \n",
       "    padding-top: 5px;\n",
       "    padding-bottom: 5px;\n",
       "    text-align: left; \n",
       "    padding-left: 5px;\n",
       "    background-color: #EEEEEE; \n",
       "    color: black;\n",
       "}\n",
       "header {\n",
       "   padding-top: 35px;\n",
       "    padding-bottom: 35px;\n",
       "    text-align: left; \n",
       "    padding-left: 10px;\n",
       "    background-color: #DDDDDD; \n",
       "    color: black;\n",
       "}\n",
       "</style>\n",
       "\n"
      ],
      "text/plain": [
       "<IPython.core.display.HTML object>"
      ]
     },
     "execution_count": 1,
     "metadata": {},
     "output_type": "execute_result"
    }
   ],
   "source": [
    "import requests\n",
    "from IPython.core.display import HTML\n",
    "styles = requests.get(\"https://raw.githubusercontent.com/Harvard-IACS/2018-CS109A/master/content/styles/cs109.css\").text\n",
    "HTML(styles)"
   ]
  },
  {
   "cell_type": "markdown",
   "metadata": {},
   "source": [
    "## Libraries"
   ]
  },
  {
   "cell_type": "code",
   "execution_count": 2,
   "metadata": {},
   "outputs": [],
   "source": [
    "import numpy as np\n",
    "import pandas as pd\n",
    "\n",
    "# import statsmodels.api as sm\n",
    "from sklearn.linear_model import LinearRegression\n",
    "from sklearn.linear_model import LogisticRegression\n",
    "from sklearn.linear_model import LogisticRegressionCV\n",
    "from sklearn.linear_model import LassoCV\n",
    "from sklearn.tree import DecisionTreeClassifier\n",
    "from sklearn.ensemble import RandomForestClassifier\n",
    "\n",
    "from sklearn.neighbors import KNeighborsClassifier\n",
    "from sklearn.model_selection import cross_val_score\n",
    "from sklearn.metrics import accuracy_score\n",
    "from sklearn.model_selection import KFold\n",
    "from sklearn.preprocessing import StandardScaler, MinMaxScaler\n",
    "from sklearn.model_selection import train_test_split\n",
    "\n",
    "import matplotlib\n",
    "import matplotlib.pyplot as plt\n",
    "%matplotlib inline\n",
    "\n",
    "import tensorflow as tf \n",
    "from tensorflow.keras.layers import Dense, Dropout \n",
    "from tensorflow.keras.models import Sequential\n",
    "from tensorflow.keras import regularizers\n",
    "\n",
    "import zipfile"
   ]
  },
  {
   "cell_type": "markdown",
   "metadata": {},
   "source": [
    "### Read, Split, and Standardize Data"
   ]
  },
  {
   "cell_type": "code",
   "execution_count": 3,
   "metadata": {
    "scrolled": true
   },
   "outputs": [],
   "source": [
    "temp = pd.read_csv('data/final_preprocessed.csv')\n",
    "df = pd.read_csv('data/final_preprocessed.csv')\n",
    "\n",
    "datetimes = pd.to_datetime(df['created_at'])\n",
    "df['year'] = [i.year for i in datetimes]\n",
    "df['month'] = [i.month for i in datetimes]\n",
    "df['day'] = [i.day for i in datetimes]\n",
    "df['hour'] = [i.hour for i in datetimes]\n",
    "\n",
    "df = df.drop(['stock_dif', 'Unnamed: 0', 'text', 'created_at', 'preproc', 'keywords', 'is_retweet','äôs', 'äôt', 'äù', 'üá'], axis = 1)\n",
    "\n",
    "X_train, X_test, y_train, y_test =train_test_split(df.loc[:, df.columns != 'stock_up'], \n",
    "                                                         df.stock_up, test_size=0.2, \n",
    "                                                         random_state = 109, \n",
    "                                                         stratify = df.stock_up)\n",
    "index = X_test.index"
   ]
  },
  {
   "cell_type": "code",
   "execution_count": 4,
   "metadata": {},
   "outputs": [],
   "source": [
    "# Standardize the data\n",
    "standard_scaler = StandardScaler()\n",
    "x_fitted_scaler = standard_scaler.fit(X_train)\n",
    "x_train_transform = x_fitted_scaler.transform(X_train)\n",
    "x_test_transform = x_fitted_scaler.transform(X_test)\n",
    "X_train = pd.DataFrame(x_train_transform, columns = X_train.columns)\n",
    "X_test = pd.DataFrame(x_test_transform, columns = X_test.columns)"
   ]
  },
  {
   "cell_type": "markdown",
   "metadata": {},
   "source": [
    "<div class='theme'> Linear Regression Model </div>"
   ]
  },
  {
   "cell_type": "markdown",
   "metadata": {},
   "source": [
    "#### Linear Model"
   ]
  },
  {
   "cell_type": "code",
   "execution_count": 5,
   "metadata": {},
   "outputs": [
    {
     "name": "stdout",
     "output_type": "stream",
     "text": [
      "Linear Model Training Set Accuracy: 59.661883231767256%\n",
      "Linear Model Testing Set Accuracy: 54.40251572327044%\n"
     ]
    }
   ],
   "source": [
    "lm = LinearRegression().fit(X_train, y_train)\n",
    "lm_pred_tr = lm.predict(X_train)\n",
    "lm_pred_test = lm.predict(X_test)\n",
    "lm_score_tr = accuracy_score(y_train,[int(round(i)) for i in lm_pred_tr])*100\n",
    "lm_score_test = accuracy_score(y_test, [int(round(i)) for i in lm_pred_test])*100\n",
    "print(\"Linear Model Training Set Accuracy:\",str(lm_score_tr)+'%')\n",
    "print(\"Linear Model Testing Set Accuracy:\",str(lm_score_test)+'%')                  "
   ]
  },
  {
   "cell_type": "code",
   "execution_count": 6,
   "metadata": {},
   "outputs": [
    {
     "data": {
      "text/plain": [
       "<matplotlib.legend.Legend at 0x1a3b217cf8>"
      ]
     },
     "execution_count": 6,
     "metadata": {},
     "output_type": "execute_result"
    },
    {
     "data": {
      "image/png": "[encoded data removed]",
      "text/plain": [
       "<Figure size 432x288 with 1 Axes>"
      ]
     },
     "metadata": {
      "needs_background": "light"
     },
     "output_type": "display_data"
    }
   ],
   "source": [
    "plt.figure()\n",
    "plt.title('Distribution of Linear Regression Model Predictions')\n",
    "plt.ylabel('Count')\n",
    "plt.xlabel('Prediction Value')\n",
    "plt.hist(lm_pred_tr, label = \"Training\")\n",
    "plt.hist(lm_pred_test, label = \"Testing\")\n",
    "plt.legend(loc = 'best')"
   ]
  },
  {
   "cell_type": "markdown",
   "metadata": {},
   "source": [
    "<div class='theme'> Multiple Logistic Regression Model </div>"
   ]
  },
  {
   "cell_type": "markdown",
   "metadata": {},
   "source": [
    "#### Simple Multiple Logistic Model"
   ]
  },
  {
   "cell_type": "code",
   "execution_count": 7,
   "metadata": {},
   "outputs": [
    {
     "name": "stdout",
     "output_type": "stream",
     "text": [
      "Simple Logistic Model Training Set Accuracy: 59.81914684489876%\n",
      "Simple Logistic Model Testing Set Accuracy: 54.166666666666664%\n"
     ]
    },
    {
     "name": "stderr",
     "output_type": "stream",
     "text": [
      "/Users/kendricknguyen/anaconda3/lib/python3.7/site-packages/sklearn/linear_model/logistic.py:432: FutureWarning: Default solver will be changed to 'lbfgs' in 0.22. Specify a solver to silence this warning.\n",
      "  FutureWarning)\n"
     ]
    }
   ],
   "source": [
    "#Training\n",
    "log_model = LogisticRegression(C=100000).fit(X_train, y_train)\n",
    "#Predict\n",
    "y_tr_pred = log_model.predict(X_train)\n",
    "y_test_pred = log_model.predict(X_test)\n",
    "#Performance Evaluation\n",
    "tr_score_log = accuracy_score(y_train, y_tr_pred)*100\n",
    "test_score_log = accuracy_score(y_test, y_test_pred)*100\n",
    "\n",
    "print(\"Simple Logistic Model Training Set Accuracy:\",str(tr_score_log)+'%')\n",
    "print(\"Simple Logistic Model Testing Set Accuracy:\",str(test_score_log)+'%')"
   ]
  },
  {
   "cell_type": "code",
   "execution_count": 8,
   "metadata": {},
   "outputs": [
    {
     "data": {
      "text/plain": [
       "Text(0.5, 0, 'Probability')"
      ]
     },
     "execution_count": 8,
     "metadata": {},
     "output_type": "execute_result"
    },
    {
     "data": {
      "image/png": "[encoded data removed]",
      "text/plain": [
       "<Figure size 432x288 with 2 Axes>"
      ]
     },
     "metadata": {
      "needs_background": "light"
     },
     "output_type": "display_data"
    }
   ],
   "source": [
    "fig, (ax1, ax2) = plt.subplots(2)\n",
    "ax1.set_title('Probability Estimate Distributions in Binary Classification')\n",
    "ax1.hist(log_model.predict_proba(X_train), label = ['0', '1'])\n",
    "ax2.hist(log_model.predict_proba(X_test), label = ['0', '1'])\n",
    "ax1.legend()\n",
    "ax2.legend()\n",
    "ax1.set_ylabel('Tweet Count')\n",
    "ax2.set_ylabel('Tweet Count')\n",
    "ax2.set_xlabel('Probability')"
   ]
  },
  {
   "cell_type": "markdown",
   "metadata": {},
   "source": [
    "#### Regularized Multiple Logistic Model"
   ]
  },
  {
   "cell_type": "code",
   "execution_count": 9,
   "metadata": {
    "scrolled": true
   },
   "outputs": [
    {
     "name": "stdout",
     "output_type": "stream",
     "text": [
      "Regularized Logistic Model Training Set Accuracy: 59.11146058580697%\n",
      "Regularized Logistic Model Testing Set Accuracy: 54.87421383647799%\n"
     ]
    }
   ],
   "source": [
    "log_model_cv = LogisticRegressionCV(penalty = 'l2', solver = 'liblinear',cv = 5, max_iter = 10000).fit(X_train, y_train)\n",
    "#Predict\n",
    "y_pred_cv = log_model_cv.predict(X_train)\n",
    "y_pred_test_cv = log_model_cv.predict(X_test)\n",
    "#Performance Evaluation\n",
    "tr_score_cv = accuracy_score(y_train, y_pred_cv)*100\n",
    "test_score_cv = accuracy_score(y_test, y_pred_test_cv)*100\n",
    "\n",
    "print(\"Regularized Logistic Model Training Set Accuracy:\",str(tr_score_cv)+'%')\n",
    "print(\"Regularized Logistic Model Testing Set Accuracy:\",str(test_score_cv)+'%')"
   ]
  },
  {
   "cell_type": "code",
   "execution_count": 10,
   "metadata": {},
   "outputs": [
    {
     "data": {
      "text/plain": [
       "Text(0.5, 0, 'Probability')"
      ]
     },
     "execution_count": 10,
     "metadata": {},
     "output_type": "execute_result"
    },
    {
     "data": {
      "image/png": "[encoded data removed]",
      "text/plain": [
       "<Figure size 432x288 with 2 Axes>"
      ]
     },
     "metadata": {
      "needs_background": "light"
     },
     "output_type": "display_data"
    }
   ],
   "source": [
    "fig, (ax1, ax2) = plt.subplots(2)\n",
    "ax1.set_title('Regularized Log Model: Probability Estimate Distributions in Binary Classification')\n",
    "ax1.hist(log_model_cv.predict_proba(X_train), label = ['0', '1'])\n",
    "ax2.hist(log_model_cv.predict_proba(X_test), label = ['0', '1'])\n",
    "ax1.legend()\n",
    "ax2.legend()\n",
    "ax1.set_ylabel('Tweet Count')\n",
    "ax2.set_ylabel('Tweet Count')\n",
    "ax2.set_xlabel('Probability')"
   ]
  },
  {
   "cell_type": "markdown",
   "metadata": {},
   "source": [
    "<div class='theme'> Random Forest Model </div>"
   ]
  },
  {
   "cell_type": "markdown",
   "metadata": {},
   "source": [
    "##### Finding the Best Depth for Random Forest Classifier"
   ]
  },
  {
   "cell_type": "code",
   "execution_count": 11,
   "metadata": {},
   "outputs": [],
   "source": [
    "def calc_meanstd(X_train, y_train, depths):\n",
    "    train_scores = {}\n",
    "    cvmeans = {}\n",
    "    cvstds = {}\n",
    "    for depth in depths:\n",
    "        model = DecisionTreeClassifier(max_depth = depth)\n",
    "        score = cross_val_score(estimator=model, X = X_train, y = y_train, cv=5, n_jobs = -1)\n",
    "        train_scores[depth] = score\n",
    "        cvmeans[depth] = score.mean()\n",
    "        cvstds[depth] = score.std()\n",
    "    return cvmeans, cvstds, train_scores\n",
    "\n",
    "cvmeans, cvstds, train_scores = calc_meanstd(X_train, y_train, depths = list(range(1,51)))\n",
    "best_depth = max(cvmeans, key=cvmeans.get)"
   ]
  },
  {
   "cell_type": "markdown",
   "metadata": {},
   "source": [
    "#### Random Forest Model"
   ]
  },
  {
   "cell_type": "code",
   "execution_count": 12,
   "metadata": {
    "scrolled": true
   },
   "outputs": [
    {
     "name": "stdout",
     "output_type": "stream",
     "text": [
      "Random Forest Model Training Accuracy Score:  65.93276980538629 %\n",
      "Random Forest Model Testing Accuracy Score:  56.68238993710691 %\n"
     ]
    }
   ],
   "source": [
    "rf_model = RandomForestClassifier(n_estimators = 50, max_depth = 6, max_features = 'sqrt').fit(X_train, y_train)\n",
    "random_forest_test_score = accuracy_score(y_test, rf_model.predict(X_test))*100\n",
    "random_forest_train_score = accuracy_score(y_train, rf_model.predict(X_train))*100\n",
    "print('Random Forest Model Training Accuracy Score: ', random_forest_train_score, '%')\n",
    "print('Random Forest Model Testing Accuracy Score: ', random_forest_test_score, '%')"
   ]
  },
  {
   "cell_type": "markdown",
   "metadata": {},
   "source": [
    "##### Visualization"
   ]
  },
  {
   "cell_type": "code",
   "execution_count": 13,
   "metadata": {},
   "outputs": [],
   "source": [
    "def graph_acc(depth):\n",
    "    testing = {}\n",
    "    training = {}\n",
    "    for i in range(depth):\n",
    "        rf = RandomForestClassifier(n_estimators = 50, max_depth = i+1, max_features = 'sqrt').fit(X_train, y_train)\n",
    "        training[i] = accuracy_score(y_train, rf.predict(X_train))\n",
    "        testing[i] = accuracy_score(y_test, rf.predict(X_test))\n",
    "    return training, testing\n",
    "tr_list, test_list = graph_acc(10)"
   ]
  },
  {
   "cell_type": "code",
   "execution_count": 14,
   "metadata": {
    "scrolled": false
   },
   "outputs": [
    {
     "data": {
      "image/png": "[encoded data removed]",
      "text/plain": [
       "<Figure size 432x288 with 1 Axes>"
      ]
     },
     "metadata": {
      "needs_background": "light"
     },
     "output_type": "display_data"
    }
   ],
   "source": [
    "plt.figure()\n",
    "plt.title('Accuracy Scores by Depth')\n",
    "plt.xlabel('depth')\n",
    "plt.ylabel('Accuracy Scores')\n",
    "plt.plot(*zip(*sorted(tr_list.items())), label = 'Training')\n",
    "plt.plot(*zip(*sorted(test_list.items())), label = 'Testing')\n",
    "plt.legend(loc = 'upper left')\n",
    "plt.show()"
   ]
  },
  {
   "cell_type": "code",
   "execution_count": 15,
   "metadata": {},
   "outputs": [
    {
     "data": {
      "text/plain": [
       "Text(0.5, 0, 'Probability')"
      ]
     },
     "execution_count": 15,
     "metadata": {},
     "output_type": "execute_result"
    },
    {
     "data": {
      "image/png": "[encoded data removed]",
      "text/plain": [
       "<Figure size 432x288 with 2 Axes>"
      ]
     },
     "metadata": {
      "needs_background": "light"
     },
     "output_type": "display_data"
    }
   ],
   "source": [
    "fig, (ax1, ax2) = plt.subplots(2)\n",
    "ax1.set_title('RF Model: Probability Estimate Distributions in Binary Classification')\n",
    "ax1.hist(rf_model.predict_proba(X_train), label = ['0', '1'])\n",
    "ax2.hist(rf_model.predict_proba(X_test), label = ['0', '1'])\n",
    "ax1.legend()\n",
    "ax2.legend()\n",
    "ax1.set_ylabel('Tweet Count')\n",
    "ax2.set_ylabel('Tweet Count')\n",
    "ax2.set_xlabel('Probability')"
   ]
  },
  {
   "cell_type": "code",
   "execution_count": 16,
   "metadata": {},
   "outputs": [],
   "source": [
    "predictions = pd.DataFrame(rf_model.predict(X_test), index = index)\n",
    "dates = pd.DataFrame(datetimes[index], index = index)\n",
    "rf_prediction = pd.concat([predictions, dates], axis = 1)\n",
    "# rf_prediction.to_csv('data/rf_prediction')"
   ]
  },
  {
   "cell_type": "markdown",
   "metadata": {},
   "source": [
    "##### Most important features from Random Forest Model"
   ]
  },
  {
   "cell_type": "code",
   "execution_count": 17,
   "metadata": {
    "scrolled": true
   },
   "outputs": [
    {
     "data": {
      "text/plain": [
       "['usa',\n",
       " 'get',\n",
       " 'world',\n",
       " 'clinton',\n",
       " 'coming',\n",
       " 'america',\n",
       " 'amp',\n",
       " 'medium',\n",
       " 'thing',\n",
       " 'month']"
      ]
     },
     "execution_count": 17,
     "metadata": {},
     "output_type": "execute_result"
    }
   ],
   "source": [
    "feature_list = dict(zip(X_train.columns.values, rf_model.feature_importances_))\n",
    "top_10_features = sorted(feature_list, key = feature_list.get, reverse = True)[:10]\n",
    "top_10_features"
   ]
  },
  {
   "cell_type": "markdown",
   "metadata": {},
   "source": [
    "<div class='theme'> Neural Network </div>"
   ]
  },
  {
   "cell_type": "code",
   "execution_count": 18,
   "metadata": {},
   "outputs": [
    {
     "name": "stdout",
     "output_type": "stream",
     "text": [
      "WARNING:tensorflow:Large dropout rate: 0.6 (>0.5). In TensorFlow 2.x, dropout() uses dropout rate instead of keep_prob. Please ensure that this is intended.\n"
     ]
    }
   ],
   "source": [
    "model = Sequential()\n",
    "model.add(Dense(16, input_shape = (152,), activation = 'relu'))\n",
    "model.add(Dense(32, activation = 'relu',kernel_regularizer=regularizers.l2(0.01)))\n",
    "model.add(Dropout(.6))\n",
    "model.add(Dense(1, activation = 'sigmoid'))\n",
    "model.compile(optimizer = 'adam',loss = 'binary_crossentropy', metrics = ['accuracy'])"
   ]
  },
  {
   "cell_type": "code",
   "execution_count": 19,
   "metadata": {},
   "outputs": [
    {
     "name": "stdout",
     "output_type": "stream",
     "text": [
      "WARNING:tensorflow:Falling back from v2 loop because of error: Failed to find data adapter that can handle input: <class 'pandas.core.frame.DataFrame'>, <class 'NoneType'>\n",
      "Train on 4069 samples, validate on 1018 samples\n",
      "Epoch 1/50\n",
      "4069/4069 [==============================] - 1s 147us/sample - loss: 0.8999 - accuracy: 0.5262 - val_loss: 0.8313 - val_accuracy: 0.5481\n",
      "Epoch 2/50\n",
      "4069/4069 [==============================] - 0s 52us/sample - loss: 0.8083 - accuracy: 0.5596 - val_loss: 0.7845 - val_accuracy: 0.5344\n",
      "Epoch 3/50\n",
      "4069/4069 [==============================] - 0s 48us/sample - loss: 0.7695 - accuracy: 0.5471 - val_loss: 0.7565 - val_accuracy: 0.5432\n",
      "Epoch 4/50\n",
      "4069/4069 [==============================] - 0s 43us/sample - loss: 0.7344 - accuracy: 0.5729 - val_loss: 0.7375 - val_accuracy: 0.5383\n",
      "Epoch 5/50\n",
      "4069/4069 [==============================] - 0s 45us/sample - loss: 0.7176 - accuracy: 0.5726 - val_loss: 0.7261 - val_accuracy: 0.5413\n",
      "Epoch 6/50\n",
      "4069/4069 [==============================] - 0s 43us/sample - loss: 0.7041 - accuracy: 0.5790 - val_loss: 0.7184 - val_accuracy: 0.5422\n",
      "Epoch 7/50\n",
      "4069/4069 [==============================] - 0s 45us/sample - loss: 0.6943 - accuracy: 0.5832 - val_loss: 0.7144 - val_accuracy: 0.5452\n",
      "Epoch 8/50\n",
      "4069/4069 [==============================] - 0s 48us/sample - loss: 0.6883 - accuracy: 0.5812 - val_loss: 0.7089 - val_accuracy: 0.5354\n",
      "Epoch 9/50\n",
      "4069/4069 [==============================] - 0s 46us/sample - loss: 0.6807 - accuracy: 0.5876 - val_loss: 0.7088 - val_accuracy: 0.5344\n",
      "Epoch 10/50\n",
      "4069/4069 [==============================] - 0s 44us/sample - loss: 0.6735 - accuracy: 0.5920 - val_loss: 0.7114 - val_accuracy: 0.5275\n",
      "Epoch 11/50\n",
      "4069/4069 [==============================] - 0s 52us/sample - loss: 0.6696 - accuracy: 0.5989 - val_loss: 0.7125 - val_accuracy: 0.5285\n",
      "Epoch 12/50\n",
      "4069/4069 [==============================] - 0s 48us/sample - loss: 0.6633 - accuracy: 0.6117 - val_loss: 0.7201 - val_accuracy: 0.5226\n",
      "Epoch 13/50\n",
      "4069/4069 [==============================] - 0s 43us/sample - loss: 0.6547 - accuracy: 0.6124 - val_loss: 0.7264 - val_accuracy: 0.5147\n",
      "Epoch 14/50\n",
      "4069/4069 [==============================] - 0s 45us/sample - loss: 0.6491 - accuracy: 0.6210 - val_loss: 0.7336 - val_accuracy: 0.5236\n",
      "Epoch 15/50\n",
      "4069/4069 [==============================] - 0s 45us/sample - loss: 0.6434 - accuracy: 0.6269 - val_loss: 0.7370 - val_accuracy: 0.5128\n",
      "Epoch 16/50\n",
      "4069/4069 [==============================] - 0s 46us/sample - loss: 0.6343 - accuracy: 0.6419 - val_loss: 0.7399 - val_accuracy: 0.5029\n",
      "Epoch 17/50\n",
      "4069/4069 [==============================] - 0s 49us/sample - loss: 0.6298 - accuracy: 0.6498 - val_loss: 0.7450 - val_accuracy: 0.5206\n",
      "Epoch 18/50\n",
      "4069/4069 [==============================] - 0s 45us/sample - loss: 0.6213 - accuracy: 0.6633 - val_loss: 0.7609 - val_accuracy: 0.5177\n",
      "Epoch 19/50\n",
      "4069/4069 [==============================] - 0s 46us/sample - loss: 0.6127 - accuracy: 0.6685 - val_loss: 0.7640 - val_accuracy: 0.5285\n",
      "Epoch 20/50\n",
      "4069/4069 [==============================] - 0s 46us/sample - loss: 0.6095 - accuracy: 0.6815 - val_loss: 0.7640 - val_accuracy: 0.5177\n",
      "Epoch 21/50\n",
      "4069/4069 [==============================] - 0s 44us/sample - loss: 0.6003 - accuracy: 0.6771 - val_loss: 0.7792 - val_accuracy: 0.5373\n",
      "Epoch 22/50\n",
      "4069/4069 [==============================] - 0s 44us/sample - loss: 0.5906 - accuracy: 0.6918 - val_loss: 0.7866 - val_accuracy: 0.5196\n",
      "Epoch 23/50\n",
      "4069/4069 [==============================] - 0s 49us/sample - loss: 0.5800 - accuracy: 0.6953 - val_loss: 0.7856 - val_accuracy: 0.5255\n",
      "Epoch 24/50\n",
      "4069/4069 [==============================] - 0s 48us/sample - loss: 0.5709 - accuracy: 0.7041 - val_loss: 0.8105 - val_accuracy: 0.5177\n",
      "Epoch 25/50\n",
      "4069/4069 [==============================] - 0s 45us/sample - loss: 0.5590 - accuracy: 0.7137 - val_loss: 0.8222 - val_accuracy: 0.5305\n",
      "Epoch 26/50\n",
      "4069/4069 [==============================] - 0s 43us/sample - loss: 0.5570 - accuracy: 0.7179 - val_loss: 0.8360 - val_accuracy: 0.5265\n",
      "Epoch 27/50\n",
      "4069/4069 [==============================] - 0s 45us/sample - loss: 0.5489 - accuracy: 0.7250 - val_loss: 0.8526 - val_accuracy: 0.5393\n",
      "Epoch 28/50\n",
      "4069/4069 [==============================] - 0s 48us/sample - loss: 0.5368 - accuracy: 0.7279 - val_loss: 0.8665 - val_accuracy: 0.5354\n",
      "Epoch 29/50\n",
      "4069/4069 [==============================] - 0s 46us/sample - loss: 0.5312 - accuracy: 0.7415 - val_loss: 0.8659 - val_accuracy: 0.5314\n",
      "Epoch 30/50\n",
      "4069/4069 [==============================] - 0s 45us/sample - loss: 0.5200 - accuracy: 0.7491 - val_loss: 0.8759 - val_accuracy: 0.5334\n",
      "Epoch 31/50\n",
      "4069/4069 [==============================] - 0s 48us/sample - loss: 0.5157 - accuracy: 0.7417 - val_loss: 0.9158 - val_accuracy: 0.5432\n",
      "Epoch 32/50\n",
      "4069/4069 [==============================] - 0s 43us/sample - loss: 0.5117 - accuracy: 0.7577 - val_loss: 0.9094 - val_accuracy: 0.5324\n",
      "Epoch 33/50\n",
      "4069/4069 [==============================] - 0s 47us/sample - loss: 0.5014 - accuracy: 0.7557 - val_loss: 0.9555 - val_accuracy: 0.5363\n",
      "Epoch 34/50\n",
      "4069/4069 [==============================] - 0s 48us/sample - loss: 0.4944 - accuracy: 0.7594 - val_loss: 0.9308 - val_accuracy: 0.5285\n",
      "Epoch 35/50\n",
      "4069/4069 [==============================] - 0s 45us/sample - loss: 0.4809 - accuracy: 0.7663 - val_loss: 0.9969 - val_accuracy: 0.5187\n",
      "Epoch 36/50\n",
      "4069/4069 [==============================] - 0s 45us/sample - loss: 0.4798 - accuracy: 0.7754 - val_loss: 0.9724 - val_accuracy: 0.5373\n",
      "Epoch 37/50\n",
      "4069/4069 [==============================] - 0s 48us/sample - loss: 0.4752 - accuracy: 0.7776 - val_loss: 1.0226 - val_accuracy: 0.5432\n",
      "Epoch 38/50\n",
      "4069/4069 [==============================] - 0s 95us/sample - loss: 0.4654 - accuracy: 0.7862 - val_loss: 1.0280 - val_accuracy: 0.5206\n",
      "Epoch 39/50\n",
      "4069/4069 [==============================] - 0s 68us/sample - loss: 0.4663 - accuracy: 0.7827 - val_loss: 1.0212 - val_accuracy: 0.5324\n",
      "Epoch 40/50\n",
      "4069/4069 [==============================] - 0s 78us/sample - loss: 0.4495 - accuracy: 0.7889 - val_loss: 1.0785 - val_accuracy: 0.5265\n",
      "Epoch 41/50\n",
      "4069/4069 [==============================] - 0s 42us/sample - loss: 0.4469 - accuracy: 0.7857 - val_loss: 1.0788 - val_accuracy: 0.5265\n",
      "Epoch 42/50\n",
      "4069/4069 [==============================] - 0s 41us/sample - loss: 0.4468 - accuracy: 0.7835 - val_loss: 1.1048 - val_accuracy: 0.5363\n",
      "Epoch 43/50\n",
      "4069/4069 [==============================] - 0s 40us/sample - loss: 0.4309 - accuracy: 0.8002 - val_loss: 1.1301 - val_accuracy: 0.5246\n",
      "Epoch 44/50\n",
      "4069/4069 [==============================] - 0s 55us/sample - loss: 0.4266 - accuracy: 0.8046 - val_loss: 1.1666 - val_accuracy: 0.5246\n",
      "Epoch 45/50\n",
      "4069/4069 [==============================] - 0s 54us/sample - loss: 0.4262 - accuracy: 0.8022 - val_loss: 1.1425 - val_accuracy: 0.5196\n",
      "Epoch 46/50\n",
      "4069/4069 [==============================] - 0s 42us/sample - loss: 0.4161 - accuracy: 0.8061 - val_loss: 1.1732 - val_accuracy: 0.5236\n",
      "Epoch 47/50\n",
      "4069/4069 [==============================] - 0s 40us/sample - loss: 0.4092 - accuracy: 0.8086 - val_loss: 1.2101 - val_accuracy: 0.5305\n",
      "Epoch 48/50\n",
      "4069/4069 [==============================] - 0s 41us/sample - loss: 0.4070 - accuracy: 0.8058 - val_loss: 1.2230 - val_accuracy: 0.5314\n",
      "Epoch 49/50\n",
      "4069/4069 [==============================] - 0s 57us/sample - loss: 0.3973 - accuracy: 0.8159 - val_loss: 1.2429 - val_accuracy: 0.5324\n",
      "Epoch 50/50\n",
      "4069/4069 [==============================] - 0s 55us/sample - loss: 0.3983 - accuracy: 0.8132 - val_loss: 1.2344 - val_accuracy: 0.5255\n"
     ]
    }
   ],
   "source": [
    "hist = model.fit(X_train, y_train, validation_split = .2, batch_size = 32, epochs = 50)"
   ]
  },
  {
   "cell_type": "markdown",
   "metadata": {},
   "source": [
    "##### Visualization"
   ]
  },
  {
   "cell_type": "code",
   "execution_count": 20,
   "metadata": {},
   "outputs": [
    {
     "data": {
      "text/plain": [
       "[<matplotlib.lines.Line2D at 0x1a3a7c2dd8>]"
      ]
     },
     "execution_count": 20,
     "metadata": {},
     "output_type": "execute_result"
    },
    {
     "data": {
      "image/png": "[encoded data removed]",
      "text/plain": [
       "<Figure size 432x288 with 1 Axes>"
      ]
     },
     "metadata": {
      "needs_background": "light"
     },
     "output_type": "display_data"
    }
   ],
   "source": [
    "plt.plot(hist.history['accuracy'])\n",
    "plt.plot(hist.history['val_accuracy'])"
   ]
  },
  {
   "cell_type": "markdown",
   "metadata": {},
   "source": [
    "##### Neural Network Results"
   ]
  },
  {
   "cell_type": "code",
   "execution_count": 21,
   "metadata": {},
   "outputs": [
    {
     "name": "stdout",
     "output_type": "stream",
     "text": [
      "WARNING:tensorflow:Falling back from v2 loop because of error: Failed to find data adapter that can handle input: <class 'pandas.core.frame.DataFrame'>, <class 'NoneType'>\n",
      "WARNING:tensorflow:Falling back from v2 loop because of error: Failed to find data adapter that can handle input: <class 'pandas.core.frame.DataFrame'>, <class 'NoneType'>\n"
     ]
    }
   ],
   "source": [
    "predictions_train = model.predict(X_train)\n",
    "predictions_test = model.predict(X_test)\n",
    "prediction = pd.DataFrame(predictions_test, index = X_test.index)\n",
    "dates = temp.iloc[X_test.index]['created_at']\n",
    "neural_predict = pd.concat([prediction, dates], axis = 1)\n",
    "# neural_predict.to_csv('data/neural_prediction')"
   ]
  },
  {
   "cell_type": "code",
   "execution_count": 22,
   "metadata": {},
   "outputs": [],
   "source": [
    "predict_tr = [1 if x > .9 else 0 for x in predictions_train]\n",
    "predict_test = [1 if x > .9 else 0 for x in predictions_test]\n",
    "nn_tr_score = accuracy_score(y_train, predict_tr)*100\n",
    "nn_test_score = accuracy_score(y_test, predict_test)*100\n",
    "# index = np.where(prediction[0] > .9)[0]\n",
    "# top_tweet = temp.iloc[np.where(prediction[0] > .90)]['text'][488]\n",
    "# print('tweet that would raise stock market is: ', top_tweet)\n",
    "# worst_tweet = temp.iloc[np.where(prediction[0] < .01)]['text'][899]\n",
    "# print('tweet that would lower stock market is: ', worst_tweet)"
   ]
  },
  {
   "cell_type": "markdown",
   "metadata": {},
   "source": [
    "# Model Results"
   ]
  },
  {
   "cell_type": "code",
   "execution_count": 23,
   "metadata": {},
   "outputs": [
    {
     "data": {
      "text/html": [
       "<div>\n",
       "<style scoped>\n",
       "    .dataframe tbody tr th:only-of-type {\n",
       "        vertical-align: middle;\n",
       "    }\n",
       "\n",
       "    .dataframe tbody tr th {\n",
       "        vertical-align: top;\n",
       "    }\n",
       "\n",
       "    .dataframe thead th {\n",
       "        text-align: right;\n",
       "    }\n",
       "</style>\n",
       "<table border=\"1\" class=\"dataframe\">\n",
       "  <thead>\n",
       "    <tr style=\"text-align: right;\">\n",
       "      <th></th>\n",
       "      <th>Training Accuracy (%)</th>\n",
       "      <th>Testing Accuracy (%)</th>\n",
       "    </tr>\n",
       "  </thead>\n",
       "  <tbody>\n",
       "    <tr>\n",
       "      <th>Linear Regression</th>\n",
       "      <td>59.661883</td>\n",
       "      <td>54.402516</td>\n",
       "    </tr>\n",
       "    <tr>\n",
       "      <th>Simple Logistic</th>\n",
       "      <td>59.819147</td>\n",
       "      <td>54.166667</td>\n",
       "    </tr>\n",
       "    <tr>\n",
       "      <th>Regularized Logistic</th>\n",
       "      <td>59.111461</td>\n",
       "      <td>54.874214</td>\n",
       "    </tr>\n",
       "    <tr>\n",
       "      <th>Random Forest</th>\n",
       "      <td>65.932770</td>\n",
       "      <td>56.682390</td>\n",
       "    </tr>\n",
       "    <tr>\n",
       "      <th>Neural Network</th>\n",
       "      <td>65.107136</td>\n",
       "      <td>54.245283</td>\n",
       "    </tr>\n",
       "  </tbody>\n",
       "</table>\n",
       "</div>"
      ],
      "text/plain": [
       "                      Training Accuracy (%)  Testing Accuracy (%)\n",
       "Linear Regression                 59.661883             54.402516\n",
       "Simple Logistic                   59.819147             54.166667\n",
       "Regularized Logistic              59.111461             54.874214\n",
       "Random Forest                     65.932770             56.682390\n",
       "Neural Network                    65.107136             54.245283"
      ]
     },
     "execution_count": 23,
     "metadata": {},
     "output_type": "execute_result"
    }
   ],
   "source": [
    "names = []\n",
    "scores = []\n",
    "scores.append([[lm_score_tr, lm_score_test], [tr_score_log, test_score_log],\n",
    "               [tr_score_cv, test_score_cv], [random_forest_train_score, random_forest_test_score], [nn_tr_score, nn_test_score]])\n",
    "names.append(['Linear Regression', 'Simple Logistic', 'Regularized Logistic', 'Random Forest', 'Neural Network'])\n",
    "results_df = pd.DataFrame(scores[0], index = names[0], columns = ['Training Accuracy (%)', 'Testing Accuracy (%)'])\n",
    "results_df"
   ]
  },
  {
   "cell_type": "markdown",
   "metadata": {},
   "source": [
    "# Best Model: Random Forest"
   ]
  },
  {
   "cell_type": "markdown",
   "metadata": {},
   "source": [
    "## Feature Importance "
   ]
  },
  {
   "cell_type": "code",
   "execution_count": 24,
   "metadata": {},
   "outputs": [
    {
     "name": "stdout",
     "output_type": "stream",
     "text": [
      "the best features were \n",
      " ['usa', 'get', 'world', 'clinton', 'coming', 'america', 'amp', 'medium', 'thing', 'month']\n"
     ]
    }
   ],
   "source": [
    "feature_list = dict(zip(X_train.columns.values, rf_model.feature_importances_))\n",
    "top_10_features = sorted(feature_list, key = feature_list.get, reverse = True)[:10]\n",
    "print('the best features were \\n',top_10_features)"
   ]
  },
  {
   "cell_type": "code",
   "execution_count": 25,
   "metadata": {},
   "outputs": [
    {
     "data": {
      "text/plain": [
       "Text(0.5, 0, 'Predictors')"
      ]
     },
     "execution_count": 25,
     "metadata": {},
     "output_type": "execute_result"
    },
    {
     "data": {
      "image/png": "[encoded data removed]",
      "text/plain": [
       "<Figure size 432x288 with 1 Axes>"
      ]
     },
     "metadata": {
      "needs_background": "light"
     },
     "output_type": "display_data"
    }
   ],
   "source": [
    "importance_rf_values = []\n",
    "for i in top_10_features:\n",
    "    importance_rf_values.append(feature_list.get(i))\n",
    "plt.bar(np.arange(0, len(importance_rf_values)), importance_rf_values, tick_label = top_10_features)\n",
    "plt.xticks(rotation = 90)\n",
    "plt.title('Top 10 features in the Random Forest')\n",
    "plt.xlabel('Predictors')"
   ]
  },
  {
   "cell_type": "code",
   "execution_count": 26,
   "metadata": {},
   "outputs": [
    {
     "name": "stdout",
     "output_type": "stream",
     "text": [
      "the worst features were \n",
      " ['total', 'done', 'good', 'senator', 'money', 'bill', 'end', 'party', 'subjectivity', 'year']\n"
     ]
    }
   ],
   "source": [
    "worst_10_features = sorted(feature_list, key = feature_list.get, reverse = True)[-10:]\n",
    "print('the worst features were \\n', worst_10_features)"
   ]
  },
  {
   "cell_type": "code",
   "execution_count": 27,
   "metadata": {},
   "outputs": [
    {
     "data": {
      "text/plain": [
       "Text(0.5, 0, 'Predictors')"
      ]
     },
     "execution_count": 27,
     "metadata": {},
     "output_type": "execute_result"
    },
    {
     "data": {
      "image/png": "[encoded data removed]",
      "text/plain": [
       "<Figure size 432x288 with 1 Axes>"
      ]
     },
     "metadata": {
      "needs_background": "light"
     },
     "output_type": "display_data"
    }
   ],
   "source": [
    "nimportance_rf_values = []\n",
    "for i in worst_10_features:\n",
    "    nimportance_rf_values.append(feature_list.get(i))\n",
    "plt.bar(np.arange(0, len(nimportance_rf_values)), nimportance_rf_values, tick_label = worst_10_features)\n",
    "plt.xticks(rotation = 90)\n",
    "plt.title('Worst 10 features in the Random Forest')\n",
    "plt.xlabel('Predictors')"
   ]
  },
  {
   "cell_type": "markdown",
   "metadata": {},
   "source": [
    "## Error Analysis "
   ]
  },
  {
   "cell_type": "code",
   "execution_count": 28,
   "metadata": {},
   "outputs": [
    {
     "name": "stdout",
     "output_type": "stream",
     "text": [
      "original rf \n",
      " [[702  17]\n",
      " [534  19]]\n",
      "forced rf \n",
      " [[347 372]\n",
      " [289 264]]\n"
     ]
    },
    {
     "data": {
      "image/png": "[encoded data removed]",
      "text/plain": [
       "<Figure size 432x288 with 2 Axes>"
      ]
     },
     "metadata": {
      "needs_background": "light"
     },
     "output_type": "display_data"
    }
   ],
   "source": [
    "from sklearn.metrics import confusion_matrix\n",
    "original_rf_matrix = confusion_matrix(y_test, rf_model.predict(X_test))\n",
    "print('original rf \\n' , original_rf_matrix)\n",
    "distribution = pd.DataFrame(rf_model.predict_proba(X_test))[1]\n",
    "half = np.quantile(distribution, .5)\n",
    "forced_rf_predictions = [0 if x > half else 1 for x in distribution]\n",
    "forced_rf_matrix = confusion_matrix(y_test, forced_rf_predictions)\n",
    "print('forced rf \\n' , forced_rf_matrix )\n",
    "figure, axis = plt.subplots()\n",
    "\n",
    "color = axis.matshow(original_rf_matrix)\n",
    "figure.colorbar(color)\n",
    "axis.set_xlabel('Predicted')\n",
    "axis.set_ylabel('True')\n",
    "axis.set_title('Confusion Matrix for Random Forest')\n",
    "plt.show()"
   ]
  },
  {
   "cell_type": "markdown",
   "metadata": {},
   "source": [
    "Comment: Very high False negatives. Many predicted 0s were 1s. "
   ]
  },
  {
   "cell_type": "markdown",
   "metadata": {},
   "source": [
    "## Examples of Predictions "
   ]
  },
  {
   "cell_type": "code",
   "execution_count": 29,
   "metadata": {},
   "outputs": [
    {
     "name": "stdout",
     "output_type": "stream",
     "text": [
      "tweet associated with highest probability of stock going up \n",
      " \n",
      " ['Congratulations @MarianoRivera! https://t.co/ek4VGj0p0s'\n",
      " 'Congratulations @ArmyWP_Football!https://t.co/jzc35XNLl3']\n",
      "\n",
      "\n",
      "tweet associated with highest probability of stock going down \n",
      " \n",
      "  ['The U.S. has an increased economic value of more than 7 Trillion Dollars since the Election. May be the best economy in the history of our country. Record Jobs numbers. Nice!']\n"
     ]
    }
   ],
   "source": [
    "stock_up_prediction  = min(distribution)\n",
    "print('tweet associated with highest probability of stock going up \\n \\n',temp.iloc[index[np.where(distribution == stock_up_prediction)[0]]]['text'].values)\n",
    "\n",
    "print('\\n')\n",
    "stock_down_prediction  = max(distribution)\n",
    "print('tweet associated with highest probability of stock going down \\n \\n ', temp.iloc[index[np.where(distribution == stock_down_prediction)[0]]]['text'].values)"
   ]
  },
  {
   "cell_type": "code",
   "execution_count": 30,
   "metadata": {},
   "outputs": [
    {
     "data": {
      "text/plain": [
       "Text(0.5, 1.0, 'Distribution of Predicted Probabilities - Random Forest')"
      ]
     },
     "execution_count": 30,
     "metadata": {},
     "output_type": "execute_result"
    },
    {
     "data": {
      "image/png": "[encoded data removed]",
      "text/plain": [
       "<Figure size 432x288 with 1 Axes>"
      ]
     },
     "metadata": {
      "needs_background": "light"
     },
     "output_type": "display_data"
    }
   ],
   "source": [
    "plt.hist(distribution)\n",
    "plt.xlabel('Prediction Probability')\n",
    "plt.title('Distribution of Predicted Probabilities - Random Forest')"
   ]
  },
  {
   "cell_type": "markdown",
   "metadata": {},
   "source": [
    "# Second Best: Neural Network"
   ]
  },
  {
   "cell_type": "markdown",
   "metadata": {},
   "source": [
    "## Error Analysis "
   ]
  },
  {
   "cell_type": "code",
   "execution_count": 31,
   "metadata": {},
   "outputs": [
    {
     "name": "stdout",
     "output_type": "stream",
     "text": [
      "original neural \n",
      " [[648  71]\n",
      " [511  42]]\n"
     ]
    },
    {
     "data": {
      "image/png": "[encoded data removed]",
      "text/plain": [
       "<Figure size 432x288 with 2 Axes>"
      ]
     },
     "metadata": {
      "needs_background": "light"
     },
     "output_type": "display_data"
    }
   ],
   "source": [
    "from sklearn.metrics import confusion_matrix\n",
    "original_neural_matrix = confusion_matrix(y_test,predict_test)\n",
    "print('original neural \\n' , original_neural_matrix)\n",
    "figure, axis = plt.subplots()\n",
    "\n",
    "color = axis.matshow(original_neural_matrix)\n",
    "figure.colorbar(color)\n",
    "axis.set_xlabel('Predicted')\n",
    "axis.set_ylabel('True')\n",
    "axis.set_title('Confusion Matrix for Neural Network')\n",
    "plt.show()"
   ]
  },
  {
   "cell_type": "code",
   "execution_count": 32,
   "metadata": {},
   "outputs": [
    {
     "data": {
      "text/plain": [
       "Text(0, 0.5, 'Accuracy')"
      ]
     },
     "execution_count": 32,
     "metadata": {},
     "output_type": "execute_result"
    },
    {
     "data": {
      "image/png": "[encoded data removed]",
      "text/plain": [
       "<Figure size 432x288 with 1 Axes>"
      ]
     },
     "metadata": {
      "needs_background": "light"
     },
     "output_type": "display_data"
    }
   ],
   "source": [
    "plt.plot(hist.history['accuracy'])\n",
    "plt.plot(hist.history['val_accuracy'])\n",
    "plt.legend(['Train', 'Test'])\n",
    "plt.title('Accuracy Over Epochs')\n",
    "plt.xlabel('Epochs')\n",
    "plt.ylabel('Accuracy')"
   ]
  },
  {
   "cell_type": "markdown",
   "metadata": {},
   "source": [
    "## Example of Predictions"
   ]
  },
  {
   "cell_type": "code",
   "execution_count": 33,
   "metadata": {},
   "outputs": [
    {
     "name": "stdout",
     "output_type": "stream",
     "text": [
      "tweet associated with highest probability of stock going up \n",
      " \n",
      " ['.....BY THE WAY DON‚ÄôT CALL ME AGAIN I‚ÄôLL CALL YOU WHEN YOU‚ÄôVE DONE WHAT I‚ÄôVE ASKED.‚Äô‚Äù A reminder that wasn‚Äôt just stupid it was FALSE.‚Äù @greggutfeld @GregGutfeldShow @FoxNews  I never said this. Schiff made it up and read it to Congress &amp; the American People. End Witch Hunt!']\n",
      "\n",
      "\n",
      "tweet associated with highest probability of stock going down \n",
      " \n",
      "  ['This week the Senate can join the House &amp; take a strong stand for the Middle Class families who are the backbone of America. Together we will give the American people a big beautiful Christmas present-a massive tax cut that lets Americans keep more of their HARD-EARNED MONEY! https://t.co/9jddEW2Oo5']\n"
     ]
    }
   ],
   "source": [
    "stock_up_prediction_neural = np.where(predictions_test == max(predictions_test))[0]\n",
    "print('tweet associated with highest probability of stock going up \\n \\n', temp.iloc[index[stock_up_prediction_neural]]['text'].values)\n",
    "\n",
    "print('\\n')\n",
    "stock_down_prediction_neural = np.where(predictions_test == min(predictions_test))[0]\n",
    "print('tweet associated with highest probability of stock going down \\n \\n ',temp.iloc[index[stock_down_prediction_neural]]['text'].values)"
   ]
  },
  {
   "cell_type": "code",
   "execution_count": 34,
   "metadata": {},
   "outputs": [
    {
     "data": {
      "text/plain": [
       "Text(0.5, 1.0, 'Distribution of Predicted Probabilities - Neural Network')"
      ]
     },
     "execution_count": 34,
     "metadata": {},
     "output_type": "execute_result"
    },
    {
     "data": {
      "image/png": "[encoded data removed]",
      "text/plain": [
       "<Figure size 432x288 with 1 Axes>"
      ]
     },
     "metadata": {
      "needs_background": "light"
     },
     "output_type": "display_data"
    }
   ],
   "source": [
    "plt.hist(predictions_test)\n",
    "plt.xlabel('Prediction Probability')\n",
    "plt.title('Distribution of Predicted Probabilities - Neural Network')"
   ]
  },
  {
   "cell_type": "markdown",
   "metadata": {},
   "source": [
    "## Trends of Misclassification of Models"
   ]
  },
  {
   "cell_type": "markdown",
   "metadata": {},
   "source": [
    "It is clear that the most of the errors are False Negative for both our Random Forest and Neural Network models. Both models tend to estimate conservatively. However, for the neural network, for those tweets that are associted with stock going up, the probability is very high. "
   ]
  }
 ],
 "metadata": {
  "kernelspec": {
   "display_name": "Python 3",
   "language": "python",
   "name": "python3"
  },
  "language_info": {
   "codemirror_mode": {
    "name": "ipython",
    "version": 3
   },
   "file_extension": ".py",
   "mimetype": "text/x-python",
   "name": "python",
   "nbconvert_exporter": "python",
   "pygments_lexer": "ipython3",
   "version": "3.7.3"
  }
 },
 "nbformat": 4,
 "nbformat_minor": 2
}

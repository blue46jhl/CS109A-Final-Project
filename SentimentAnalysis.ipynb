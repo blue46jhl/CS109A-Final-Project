{
 "cells": [
  {
   "cell_type": "code",
   "execution_count": 2,
   "metadata": {},
   "outputs": [],
   "source": [
    "import numpy as np\n",
    "import pandas as pd\n",
    "\n",
    "from sklearn.linear_model import LinearRegression\n",
    "from sklearn.linear_model import LogisticRegression\n",
    "from sklearn.linear_model import LogisticRegressionCV\n",
    "from sklearn.linear_model import LassoCV\n",
    "\n",
    "from sklearn.neighbors import KNeighborsClassifier\n",
    "from sklearn.model_selection import cross_val_score\n",
    "from sklearn.metrics import accuracy_score\n",
    "from sklearn.model_selection import KFold\n",
    "from sklearn.preprocessing import MinMaxScaler\n",
    "from sklearn.model_selection import train_test_split\n",
    "\n",
    "import matplotlib\n",
    "import matplotlib.pyplot as plt\n",
    "%matplotlib inline\n",
    "\n",
    "# import zipfile\n",
    "\n",
    "\n",
    "# import seaborn as sns\n",
    "# sns.set()\n",
    "\n",
    "# #Make sure to pip install monkeylearn first\n",
    "# from monkeylearn import MonkeyLearn\n",
    "from textblob import TextBlob\n",
    "import re"
   ]
  },
  {
   "cell_type": "code",
   "execution_count": 3,
   "metadata": {},
   "outputs": [
    {
     "data": {
      "text/html": [
       "<div>\n",
       "<style scoped>\n",
       "    .dataframe tbody tr th:only-of-type {\n",
       "        vertical-align: middle;\n",
       "    }\n",
       "\n",
       "    .dataframe tbody tr th {\n",
       "        vertical-align: top;\n",
       "    }\n",
       "\n",
       "    .dataframe thead th {\n",
       "        text-align: right;\n",
       "    }\n",
       "</style>\n",
       "<table border=\"1\" class=\"dataframe\">\n",
       "  <thead>\n",
       "    <tr style=\"text-align: right;\">\n",
       "      <th></th>\n",
       "      <th>text</th>\n",
       "      <th>created_at</th>\n",
       "      <th>retweet_count</th>\n",
       "      <th>favorite_count</th>\n",
       "      <th>is_retweet</th>\n",
       "    </tr>\n",
       "  </thead>\n",
       "  <tbody>\n",
       "    <tr>\n",
       "      <th>0</th>\n",
       "      <td>Look at the way Crooked Hillary is handling th...</td>\n",
       "      <td>2016-11-01 10:31:00</td>\n",
       "      <td>21459.0</td>\n",
       "      <td>55584.0</td>\n",
       "      <td>False</td>\n",
       "    </tr>\n",
       "    <tr>\n",
       "      <th>1</th>\n",
       "      <td>Wow now leading in @ABC /@washingtonpost Poll ...</td>\n",
       "      <td>2016-11-01 11:55:00</td>\n",
       "      <td>16479.0</td>\n",
       "      <td>39631.0</td>\n",
       "      <td>False</td>\n",
       "    </tr>\n",
       "    <tr>\n",
       "      <th>2</th>\n",
       "      <td>Crooked Hillary should not be allowed to run f...</td>\n",
       "      <td>2016-11-01 12:01:00</td>\n",
       "      <td>23747.0</td>\n",
       "      <td>59656.0</td>\n",
       "      <td>False</td>\n",
       "    </tr>\n",
       "    <tr>\n",
       "      <th>3</th>\n",
       "      <td>JOIN ME TOMORROW IN FLORIDA!MIAMI‚Ä¢12pmhttps:...</td>\n",
       "      <td>2016-11-01 13:35:00</td>\n",
       "      <td>8773.0</td>\n",
       "      <td>17583.0</td>\n",
       "      <td>False</td>\n",
       "    </tr>\n",
       "    <tr>\n",
       "      <th>4</th>\n",
       "      <td>So terrible that Crooked didn't report she got...</td>\n",
       "      <td>2016-11-01 14:14:00</td>\n",
       "      <td>32713.0</td>\n",
       "      <td>80724.0</td>\n",
       "      <td>False</td>\n",
       "    </tr>\n",
       "  </tbody>\n",
       "</table>\n",
       "</div>"
      ],
      "text/plain": [
       "                                                text          created_at  \\\n",
       "0  Look at the way Crooked Hillary is handling th... 2016-11-01 10:31:00   \n",
       "1  Wow now leading in @ABC /@washingtonpost Poll ... 2016-11-01 11:55:00   \n",
       "2  Crooked Hillary should not be allowed to run f... 2016-11-01 12:01:00   \n",
       "3  JOIN ME TOMORROW IN FLORIDA!MIAMI‚Ä¢12pmhttps:... 2016-11-01 13:35:00   \n",
       "4  So terrible that Crooked didn't report she got... 2016-11-01 14:14:00   \n",
       "\n",
       "   retweet_count  favorite_count  is_retweet  \n",
       "0        21459.0         55584.0       False  \n",
       "1        16479.0         39631.0       False  \n",
       "2        23747.0         59656.0       False  \n",
       "3         8773.0         17583.0       False  \n",
       "4        32713.0         80724.0       False  "
      ]
     },
     "execution_count": 3,
     "metadata": {},
     "output_type": "execute_result"
    }
   ],
   "source": [
    "tweets = pd.read_csv('data/TrumpTweetsCleaned.csv')\n",
    "#09-11-2017 to 02-16-2018\n",
    "before = pd.to_datetime('2017-09-11')\n",
    "after = pd.to_datetime('2018-02-16')\n",
    "tweets['created_at'] = pd.to_datetime(tweets['created_at'])\n",
    "# new_tweets = tweets[(tweets['created_at']>=before) and (tweets['created_at']<=after)]\n",
    "tweets.head()"
   ]
  },
  {
   "cell_type": "code",
   "execution_count": 4,
   "metadata": {},
   "outputs": [
    {
     "data": {
      "text/html": [
       "<div>\n",
       "<style scoped>\n",
       "    .dataframe tbody tr th:only-of-type {\n",
       "        vertical-align: middle;\n",
       "    }\n",
       "\n",
       "    .dataframe tbody tr th {\n",
       "        vertical-align: top;\n",
       "    }\n",
       "\n",
       "    .dataframe thead th {\n",
       "        text-align: right;\n",
       "    }\n",
       "</style>\n",
       "<table border=\"1\" class=\"dataframe\">\n",
       "  <thead>\n",
       "    <tr style=\"text-align: right;\">\n",
       "      <th></th>\n",
       "      <th>text</th>\n",
       "      <th>created_at</th>\n",
       "      <th>retweet_count</th>\n",
       "      <th>favorite_count</th>\n",
       "      <th>is_retweet</th>\n",
       "      <th>polarity</th>\n",
       "      <th>subjectivity</th>\n",
       "    </tr>\n",
       "  </thead>\n",
       "  <tbody>\n",
       "    <tr>\n",
       "      <th>0</th>\n",
       "      <td>Look at the way Crooked Hillary is handling th...</td>\n",
       "      <td>2016-11-01 10:31:00</td>\n",
       "      <td>21459.0</td>\n",
       "      <td>55584.0</td>\n",
       "      <td>False</td>\n",
       "      <td>-0.2625</td>\n",
       "      <td>0.422917</td>\n",
       "    </tr>\n",
       "    <tr>\n",
       "      <th>1</th>\n",
       "      <td>Wow now leading in @ABC /@washingtonpost Poll ...</td>\n",
       "      <td>2016-11-01 11:55:00</td>\n",
       "      <td>16479.0</td>\n",
       "      <td>39631.0</td>\n",
       "      <td>False</td>\n",
       "      <td>0.2000</td>\n",
       "      <td>0.533333</td>\n",
       "    </tr>\n",
       "    <tr>\n",
       "      <th>2</th>\n",
       "      <td>Crooked Hillary should not be allowed to run f...</td>\n",
       "      <td>2016-11-01 12:01:00</td>\n",
       "      <td>23747.0</td>\n",
       "      <td>59656.0</td>\n",
       "      <td>False</td>\n",
       "      <td>0.0000</td>\n",
       "      <td>0.100000</td>\n",
       "    </tr>\n",
       "    <tr>\n",
       "      <th>3</th>\n",
       "      <td>JOIN ME TOMORROW IN FLORIDA!MIAMI‚Ä¢12pmhttps:...</td>\n",
       "      <td>2016-11-01 13:35:00</td>\n",
       "      <td>8773.0</td>\n",
       "      <td>17583.0</td>\n",
       "      <td>False</td>\n",
       "      <td>0.0000</td>\n",
       "      <td>0.000000</td>\n",
       "    </tr>\n",
       "    <tr>\n",
       "      <th>4</th>\n",
       "      <td>So terrible that Crooked didn't report she got...</td>\n",
       "      <td>2016-11-01 14:14:00</td>\n",
       "      <td>32713.0</td>\n",
       "      <td>80724.0</td>\n",
       "      <td>False</td>\n",
       "      <td>-0.5000</td>\n",
       "      <td>0.550000</td>\n",
       "    </tr>\n",
       "  </tbody>\n",
       "</table>\n",
       "</div>"
      ],
      "text/plain": [
       "                                                text          created_at  \\\n",
       "0  Look at the way Crooked Hillary is handling th... 2016-11-01 10:31:00   \n",
       "1  Wow now leading in @ABC /@washingtonpost Poll ... 2016-11-01 11:55:00   \n",
       "2  Crooked Hillary should not be allowed to run f... 2016-11-01 12:01:00   \n",
       "3  JOIN ME TOMORROW IN FLORIDA!MIAMI‚Ä¢12pmhttps:... 2016-11-01 13:35:00   \n",
       "4  So terrible that Crooked didn't report she got... 2016-11-01 14:14:00   \n",
       "\n",
       "   retweet_count  favorite_count  is_retweet  polarity  subjectivity  \n",
       "0        21459.0         55584.0       False   -0.2625      0.422917  \n",
       "1        16479.0         39631.0       False    0.2000      0.533333  \n",
       "2        23747.0         59656.0       False    0.0000      0.100000  \n",
       "3         8773.0         17583.0       False    0.0000      0.000000  \n",
       "4        32713.0         80724.0       False   -0.5000      0.550000  "
      ]
     },
     "execution_count": 4,
     "metadata": {},
     "output_type": "execute_result"
    }
   ],
   "source": [
    "tweets['polarity'] = [TextBlob(tweets['text'].values[i]).polarity for i in range(len(tweets))]\n",
    "tweets['subjectivity'] = [TextBlob(tweets['text'].values[i]).subjectivity for i in range(len(tweets))]\n",
    "tweets.head()"
   ]
  },
  {
   "cell_type": "code",
   "execution_count": 4,
   "metadata": {},
   "outputs": [
    {
     "data": {
      "text/plain": [
       "0.19706092458414123"
      ]
     },
     "execution_count": 4,
     "metadata": {},
     "output_type": "execute_result"
    }
   ],
   "source": [
    "len(tweets[tweets['polarity']==0])/len(tweets)"
   ]
  },
  {
   "cell_type": "code",
   "execution_count": 5,
   "metadata": {},
   "outputs": [],
   "source": [
    "processed_features = []\n",
    "\n",
    "for sentence in range(0, len(tweets['text'].values)):\n",
    "    # Remove all the special characters\n",
    "    processed_feature = re.sub(r'\\W', ' ', str(tweets['text'].values[sentence]))\n",
    "\n",
    "    # remove all single characters\n",
    "    processed_feature= re.sub(r'\\s+[a-zA-Z]\\s+', ' ', processed_feature)\n",
    "\n",
    "    # Remove single characters from the start\n",
    "    processed_feature = re.sub(r'\\^[a-zA-Z]\\s+', ' ', processed_feature) \n",
    "\n",
    "    # Substituting multiple spaces with single space\n",
    "    processed_feature = re.sub(r'\\s+', ' ', processed_feature, flags=re.I)\n",
    "\n",
    "    # Removing prefixed 'b'\n",
    "    processed_feature = re.sub(r'^b\\s+', '', processed_feature)\n",
    "\n",
    "    # Converting to Lowercase\n",
    "    processed_feature = processed_feature.lower()\n",
    "\n",
    "    processed_features.append(processed_feature)"
   ]
  },
  {
   "cell_type": "code",
   "execution_count": 5,
   "metadata": {},
   "outputs": [
    {
     "data": {
      "text/plain": [
       "0.19491784876007756"
      ]
     },
     "execution_count": 5,
     "metadata": {},
     "output_type": "execute_result"
    }
   ],
   "source": [
    "tweets['test'] = [TextBlob(processed_features[i]).polarity for i in range(len(processed_features))]\n",
    "len(tweets[tweets['test']==0])/len(tweets)"
   ]
  },
  {
   "cell_type": "code",
   "execution_count": 6,
   "metadata": {},
   "outputs": [
    {
     "name": "stderr",
     "output_type": "stream",
     "text": [
      "C:\\Users\\sw708\\Miniconda3\\envs\\sams_env\\lib\\site-packages\\pandas\\plotting\\_matplotlib\\converter.py:103: FutureWarning: Using an implicitly registered datetime converter for a matplotlib plotting method. The converter was registered by pandas on import. Future versions of pandas will require you to explicitly register matplotlib converters.\n",
      "\n",
      "To register the converters:\n",
      "\t>>> from pandas.plotting import register_matplotlib_converters\n",
      "\t>>> register_matplotlib_converters()\n",
      "  warnings.warn(msg, FutureWarning)\n"
     ]
    },
    {
     "data": {
      "image/png": "[encoded data removed]",
      "text/plain": [
       "<Figure size 432x288 with 1 Axes>"
      ]
     },
     "metadata": {
      "needs_background": "light"
     },
     "output_type": "display_data"
    }
   ],
   "source": [
    "temp = plt.hist(tweets['created_at'])\n",
    "plt.title('Frequency of Tweets')\n",
    "plt.show()"
   ]
  },
  {
   "cell_type": "code",
   "execution_count": 8,
   "metadata": {},
   "outputs": [
    {
     "data": {
      "image/png": "[encoded data removed]",
      "text/plain": [
       "<Figure size 432x288 with 1 Axes>"
      ]
     },
     "metadata": {
      "needs_background": "light"
     },
     "output_type": "display_data"
    }
   ],
   "source": [
    "temp2 = plt.hist(np.log(tweets['retweet_count']))\n",
    "plt.title('Log-transformed of Retweet Count')\n",
    "plt.show()"
   ]
  },
  {
   "cell_type": "code",
   "execution_count": 9,
   "metadata": {},
   "outputs": [
    {
     "data": {
      "image/png": "[encoded data removed]",
      "text/plain": [
       "<Figure size 432x288 with 1 Axes>"
      ]
     },
     "metadata": {
      "needs_background": "light"
     },
     "output_type": "display_data"
    }
   ],
   "source": [
    "temp3 = plt.hist(np.log(tweets['favorite_count'] + 1))\n",
    "plt.title('Log-transformed of Favorite Count')\n",
    "plt.show()"
   ]
  },
  {
   "cell_type": "code",
   "execution_count": 11,
   "metadata": {},
   "outputs": [
    {
     "data": {
      "image/png": "[encoded data removed]",
      "text/plain": [
       "<Figure size 432x288 with 1 Axes>"
      ]
     },
     "metadata": {
      "needs_background": "light"
     },
     "output_type": "display_data"
    }
   ],
   "source": [
    "plt.hist(tweets['polarity'])\n",
    "plt.title('Polarity levels of Trump Tweets')\n",
    "plt.xlabel('Polarity')\n",
    "plt.ylabel('Frequency')\n",
    "plt.show()"
   ]
  },
  {
   "cell_type": "code",
   "execution_count": 12,
   "metadata": {},
   "outputs": [
    {
     "data": {
      "image/png": "[encoded data removed]",
      "text/plain": [
       "<Figure size 432x288 with 1 Axes>"
      ]
     },
     "metadata": {
      "needs_background": "light"
     },
     "output_type": "display_data"
    }
   ],
   "source": [
    "plt.hist(tweets['subjectivity'])\n",
    "plt.title('Subjectivity levels of Trump Tweets')\n",
    "plt.xlabel('Subjectivity')\n",
    "plt.ylabel('Frequency')\n",
    "plt.show()"
   ]
  },
  {
   "cell_type": "code",
   "execution_count": 7,
   "metadata": {
    "scrolled": false
   },
   "outputs": [],
   "source": [
    "# tweets[(tweets['polarity']==0) & (tweets['subjectivity'] == 0)]"
   ]
  },
  {
   "cell_type": "code",
   "execution_count": 6,
   "metadata": {},
   "outputs": [],
   "source": [
    "succ = []\n",
    "for i in range(len(tweets)):\n",
    "    phrase = tweets['text'].values[i].lower()\n",
    "    word = 'china'\n",
    "    if word in phrase:\n",
    "        succ.append(1)\n",
    "    else:\n",
    "        succ.append(0)\n",
    "tweets['china'] = succ\n",
    "#tweets[tweets['china']==1]"
   ]
  },
  {
   "cell_type": "code",
   "execution_count": 27,
   "metadata": {},
   "outputs": [
    {
     "data": {
      "image/png": "[encoded data removed]",
      "text/plain": [
       "<Figure size 432x288 with 1 Axes>"
      ]
     },
     "metadata": {
      "needs_background": "light"
     },
     "output_type": "display_data"
    }
   ],
   "source": [
    "plt.hist(tweets[tweets['china']==1]['polarity'])\n",
    "plt.show()"
   ]
  },
  {
   "cell_type": "markdown",
   "metadata": {},
   "source": [
    "## Stock Data "
   ]
  },
  {
   "cell_type": "code",
   "execution_count": 7,
   "metadata": {},
   "outputs": [],
   "source": [
    "stock = pd.read_csv('data/SP500_intraday.csv')"
   ]
  },
  {
   "cell_type": "code",
   "execution_count": 8,
   "metadata": {},
   "outputs": [
    {
     "data": {
      "text/plain": [
       "0   2016-11-01 10:31:00\n",
       "1   2016-11-01 11:55:00\n",
       "2   2016-11-01 12:01:00\n",
       "3   2016-11-01 13:35:00\n",
       "4   2016-11-01 14:14:00\n",
       "Name: created_at, dtype: datetime64[ns]"
      ]
     },
     "execution_count": 8,
     "metadata": {},
     "output_type": "execute_result"
    }
   ],
   "source": [
    "tweet_dates = tweets['created_at']\n",
    "tweet_dates.head()"
   ]
  },
  {
   "cell_type": "code",
   "execution_count": 26,
   "metadata": {},
   "outputs": [],
   "source": [
    "stock['Time_pd'] = pd.to_timedelta(stock['Time']+':00')\n",
    "stock['Date_time'] = pd.to_datetime(pd.to_datetime(stock['Date'])+ pd.to_timedelta(stock['Time_pd']))"
   ]
  },
  {
   "cell_type": "code",
   "execution_count": 10,
   "metadata": {},
   "outputs": [],
   "source": [
    "latest_time = stock['Date_time'].iloc[-1]\n",
    "earliest_time = stock['Date_time'][0] \n",
    "tweets = tweets[(tweets['created_at'] > earliest_time) & (tweets['created_at'] < latest_time)]\n",
    "tweets = tweets.reset_index(drop = True)"
   ]
  },
  {
   "cell_type": "code",
   "execution_count": null,
   "metadata": {},
   "outputs": [],
   "source": [
    "## Edit the minute after\n",
    "time_min = 1\n",
    "time_after = tweets['created_at'] + pd.to_timedelta(time_min, unit = 'm')\n",
    "time_of = tweets['created_at']\n",
    "good_time_after = sorted(list(set(stock['Date_time']) & set(time_after)))\n",
    "x = np.arange(0,len(good_time_after))\n",
    "tweets_stock_viable = tweets.iloc[np.concatenate([np.where(time_after == good_time_after[x])[0] for x in x])]\n",
    "\n",
    "time_after2 = tweets_stock_viable['created_at'] + pd.to_timedelta(time_min, unit = 'm')\n",
    "time_of2 = tweets_stock_viable['created_at']\n",
    "x = time_of2\n",
    "stock_df = [stock[stock['Date_time'] == time_after2[i]]['Close'].values - stock[stock['Date_time'] == time_of2[i]]['Open'].values\n",
    "             for i in x.index]"
   ]
  },
  {
   "cell_type": "code",
   "execution_count": 39,
   "metadata": {},
   "outputs": [
    {
     "data": {
      "text/plain": [
       "array([  70,  135,  251,  346,  354,  396,  402,  452,  562,  568,  580,\n",
       "        620,  633,  646,  748,  866,  928, 1222, 1241, 1254, 1267, 1388,\n",
       "       1421, 1422, 1524, 1530, 1601, 1669, 2112, 2352, 2374, 2793, 2990,\n",
       "       3122, 3540, 3860, 4320, 5308, 6254, 6305, 6547], dtype=int64)"
      ]
     },
     "execution_count": 39,
     "metadata": {},
     "output_type": "execute_result"
    }
   ],
   "source": [
    "bad = np.where(pd.DataFrame(stock_df, index= tweets_stock_viable.index).isna())[0]\n",
    "tweets_stock_viable = tweets_stock_viable.drop(tweets_stock_viable.index[bad])"
   ]
  },
  {
   "cell_type": "code",
   "execution_count": 43,
   "metadata": {},
   "outputs": [],
   "source": [
    "tweets_stock_viable = tweets_stock_viable.drop(tweets_stock_viable.index[bad])\n",
    "time_after3 = tweets_stock_viable['created_at'] + pd.to_timedelta(time_min, unit = 'm')\n",
    "time_of3 = tweets_stock_viable['created_at']\n",
    "x = time_of3\n",
    "stock_df = [stock[stock['Date_time'] == time_after3[i]]['Close'].values - stock[stock['Date_time'] == time_of3[i]]['Open'].values\n",
    "             for i in x.index]"
   ]
  },
  {
   "cell_type": "code",
   "execution_count": 68,
   "metadata": {},
   "outputs": [],
   "source": [
    "tweets_stock_viable['stock_dif'] = pd.DataFrame(np.concatenate(stock_df), index= tweets_stock_viable.index)\n",
    "length = len(tweets_stock_viable)\n",
    "tweets_stock_viable['stock_up'] = [1 if tweets_stock_viable['stock_dif'][i] > 0 else 0 for i in tweets_stock_viable.index]"
   ]
  },
  {
   "cell_type": "markdown",
   "metadata": {},
   "source": [
    "# Final DF"
   ]
  },
  {
   "cell_type": "code",
   "execution_count": 70,
   "metadata": {},
   "outputs": [
    {
     "data": {
      "text/html": [
       "<div>\n",
       "<style scoped>\n",
       "    .dataframe tbody tr th:only-of-type {\n",
       "        vertical-align: middle;\n",
       "    }\n",
       "\n",
       "    .dataframe tbody tr th {\n",
       "        vertical-align: top;\n",
       "    }\n",
       "\n",
       "    .dataframe thead th {\n",
       "        text-align: right;\n",
       "    }\n",
       "</style>\n",
       "<table border=\"1\" class=\"dataframe\">\n",
       "  <thead>\n",
       "    <tr style=\"text-align: right;\">\n",
       "      <th></th>\n",
       "      <th>text</th>\n",
       "      <th>created_at</th>\n",
       "      <th>retweet_count</th>\n",
       "      <th>favorite_count</th>\n",
       "      <th>is_retweet</th>\n",
       "      <th>polarity</th>\n",
       "      <th>subjectivity</th>\n",
       "      <th>china</th>\n",
       "      <th>stock_dif</th>\n",
       "      <th>stock_up</th>\n",
       "    </tr>\n",
       "  </thead>\n",
       "  <tbody>\n",
       "    <tr>\n",
       "      <th>0</th>\n",
       "      <td>The debates especially the second and third pl...</td>\n",
       "      <td>2016-11-13 18:46:00</td>\n",
       "      <td>23410.0</td>\n",
       "      <td>113207.0</td>\n",
       "      <td>False</td>\n",
       "      <td>0.335714</td>\n",
       "      <td>0.429762</td>\n",
       "      <td>0</td>\n",
       "      <td>-0.25</td>\n",
       "      <td>0</td>\n",
       "    </tr>\n",
       "    <tr>\n",
       "      <th>1</th>\n",
       "      <td>If the election were based on total popular vo...</td>\n",
       "      <td>2016-11-15 13:34:00</td>\n",
       "      <td>49623.0</td>\n",
       "      <td>179219.0</td>\n",
       "      <td>False</td>\n",
       "      <td>0.306667</td>\n",
       "      <td>0.696667</td>\n",
       "      <td>0</td>\n",
       "      <td>-0.25</td>\n",
       "      <td>0</td>\n",
       "    </tr>\n",
       "    <tr>\n",
       "      <th>2</th>\n",
       "      <td>The Electoral College is actually genius in th...</td>\n",
       "      <td>2016-11-15 13:40:00</td>\n",
       "      <td>39125.0</td>\n",
       "      <td>128083.0</td>\n",
       "      <td>False</td>\n",
       "      <td>0.000000</td>\n",
       "      <td>0.400000</td>\n",
       "      <td>0</td>\n",
       "      <td>-0.25</td>\n",
       "      <td>0</td>\n",
       "    </tr>\n",
       "    <tr>\n",
       "      <th>3</th>\n",
       "      <td>Very organized process taking place as I decid...</td>\n",
       "      <td>2016-11-16 02:55:00</td>\n",
       "      <td>27544.0</td>\n",
       "      <td>119611.0</td>\n",
       "      <td>False</td>\n",
       "      <td>0.143750</td>\n",
       "      <td>0.543750</td>\n",
       "      <td>0</td>\n",
       "      <td>0.00</td>\n",
       "      <td>0</td>\n",
       "    </tr>\n",
       "    <tr>\n",
       "      <th>4</th>\n",
       "      <td>I am not trying to get \"top level security cle...</td>\n",
       "      <td>2016-11-16 11:28:00</td>\n",
       "      <td>31102.0</td>\n",
       "      <td>99921.0</td>\n",
       "      <td>False</td>\n",
       "      <td>0.050000</td>\n",
       "      <td>0.550000</td>\n",
       "      <td>0</td>\n",
       "      <td>0.25</td>\n",
       "      <td>1</td>\n",
       "    </tr>\n",
       "  </tbody>\n",
       "</table>\n",
       "</div>"
      ],
      "text/plain": [
       "                                                text          created_at  \\\n",
       "0  The debates especially the second and third pl... 2016-11-13 18:46:00   \n",
       "1  If the election were based on total popular vo... 2016-11-15 13:34:00   \n",
       "2  The Electoral College is actually genius in th... 2016-11-15 13:40:00   \n",
       "3  Very organized process taking place as I decid... 2016-11-16 02:55:00   \n",
       "4  I am not trying to get \"top level security cle... 2016-11-16 11:28:00   \n",
       "\n",
       "   retweet_count  favorite_count  is_retweet  polarity  subjectivity  china  \\\n",
       "0        23410.0        113207.0       False  0.335714      0.429762      0   \n",
       "1        49623.0        179219.0       False  0.306667      0.696667      0   \n",
       "2        39125.0        128083.0       False  0.000000      0.400000      0   \n",
       "3        27544.0        119611.0       False  0.143750      0.543750      0   \n",
       "4        31102.0         99921.0       False  0.050000      0.550000      0   \n",
       "\n",
       "   stock_dif  stock_up  \n",
       "0      -0.25         0  \n",
       "1      -0.25         0  \n",
       "2      -0.25         0  \n",
       "3       0.00         0  \n",
       "4       0.25         1  "
      ]
     },
     "execution_count": 70,
     "metadata": {},
     "output_type": "execute_result"
    }
   ],
   "source": [
    "tweets_stock_viable.head()"
   ]
  }
 ],
 "metadata": {
  "kernelspec": {
   "display_name": "Python 3",
   "language": "python",
   "name": "python3"
  },
  "language_info": {
   "codemirror_mode": {
    "name": "ipython",
    "version": 3
   },
   "file_extension": ".py",
   "mimetype": "text/x-python",
   "name": "python",
   "nbconvert_exporter": "python",
   "pygments_lexer": "ipython3",
   "version": "3.7.5"
  }
 },
 "nbformat": 4,
 "nbformat_minor": 2
}

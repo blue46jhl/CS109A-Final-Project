{
 "cells": [
  {
   "cell_type": "markdown",
   "metadata": {},
   "source": [
    "# Models: Linear, Logistic, Random Forest"
   ]
  },
  {
   "cell_type": "code",
   "execution_count": 1,
   "metadata": {},
   "outputs": [
    {
     "data": {
      "text/html": [
       "<style>\n",
       "blockquote { background: #AEDE94; }\n",
       "h1 { \n",
       "    padding-top: 25px;\n",
       "    padding-bottom: 25px;\n",
       "    text-align: left; \n",
       "    padding-left: 10px;\n",
       "    background-color: #DDDDDD; \n",
       "    color: black;\n",
       "}\n",
       "h2 { \n",
       "    padding-top: 10px;\n",
       "    padding-bottom: 10px;\n",
       "    text-align: left; \n",
       "    padding-left: 5px;\n",
       "    background-color: #EEEEEE; \n",
       "    color: black;\n",
       "}\n",
       "\n",
       "div.exercise {\n",
       "\tbackground-color: #ffcccc;\n",
       "\tborder-color: #E9967A; \t\n",
       "\tborder-left: 5px solid #800080; \n",
       "\tpadding: 0.5em;\n",
       "}\n",
       "\n",
       "span.sub-q {\n",
       "\tfont-weight: bold;\n",
       "}\n",
       "div.theme {\n",
       "\tbackground-color: #DDDDDD;\n",
       "\tborder-color: #E9967A; \t\n",
       "\tborder-left: 5px solid #800080; \n",
       "\tpadding: 0.5em;\n",
       "\tfont-size: 18pt;\n",
       "}\n",
       "div.gc { \n",
       "\tbackground-color: #AEDE94;\n",
       "\tborder-color: #E9967A; \t \n",
       "\tborder-left: 5px solid #800080; \n",
       "\tpadding: 0.5em;\n",
       "\tfont-size: 12pt;\n",
       "}\n",
       "p.q1 { \n",
       "    padding-top: 5px;\n",
       "    padding-bottom: 5px;\n",
       "    text-align: left; \n",
       "    padding-left: 5px;\n",
       "    background-color: #EEEEEE; \n",
       "    color: black;\n",
       "}\n",
       "header {\n",
       "   padding-top: 35px;\n",
       "    padding-bottom: 35px;\n",
       "    text-align: left; \n",
       "    padding-left: 10px;\n",
       "    background-color: #DDDDDD; \n",
       "    color: black;\n",
       "}\n",
       "</style>\n",
       "\n"
      ],
      "text/plain": [
       "<IPython.core.display.HTML object>"
      ]
     },
     "execution_count": 1,
     "metadata": {},
     "output_type": "execute_result"
    }
   ],
   "source": [
    "import requests\n",
    "from IPython.core.display import HTML\n",
    "styles = requests.get(\"https://raw.githubusercontent.com/Harvard-IACS/2018-CS109A/master/content/styles/cs109.css\").text\n",
    "HTML(styles)"
   ]
  },
  {
   "cell_type": "markdown",
   "metadata": {},
   "source": [
    "## Libraries"
   ]
  },
  {
   "cell_type": "code",
   "execution_count": 24,
   "metadata": {},
   "outputs": [],
   "source": [
    "import numpy as np\n",
    "import pandas as pd\n",
    "\n",
    "import statsmodels.api as sm\n",
    "from sklearn.linear_model import LinearRegression\n",
    "from sklearn.linear_model import LogisticRegression\n",
    "from sklearn.linear_model import LogisticRegressionCV\n",
    "from sklearn.linear_model import LassoCV\n",
    "from sklearn.tree import DecisionTreeClassifier\n",
    "from sklearn.ensemble import RandomForestClassifier\n",
    "\n",
    "from sklearn.neighbors import KNeighborsClassifier\n",
    "from sklearn.model_selection import cross_val_score\n",
    "from sklearn.metrics import accuracy_score\n",
    "from sklearn.model_selection import KFold\n",
    "from sklearn.preprocessing import StandardScaler, MinMaxScaler\n",
    "from sklearn.model_selection import train_test_split\n",
    "\n",
    "import matplotlib\n",
    "import matplotlib.pyplot as plt\n",
    "%matplotlib inline\n",
    "\n",
    "import zipfile"
   ]
  },
  {
   "cell_type": "markdown",
   "metadata": {},
   "source": [
    "### Read, Split, and Standardize Data"
   ]
  },
  {
   "cell_type": "code",
   "execution_count": 273,
   "metadata": {
    "scrolled": true
   },
   "outputs": [],
   "source": [
    "df = pd.read_csv('data/preprocessed')\n",
    "\n",
    "datetimes = pd.to_datetime(df['created_at'])\n",
    "df['year'] = [i.year for i in datetimes]\n",
    "df['month'] = [i.month for i in datetimes]\n",
    "df['day'] = [i.day for i in datetimes]\n",
    "df['hour'] = [i.hour for i in datetimes]\n",
    "\n",
    "df = df.drop(['stock_dif', 'Unnamed: 0', 'text', 'created_at', 'preproc', 'keywords', 'is_retweet'], axis = 1)\n",
    "\n",
    "X_train, X_test, y_train, y_test =train_test_split(df.loc[:, df.columns != 'stock_up'], \n",
    "                                                         df.stock_up, test_size=0.2, \n",
    "                                                         random_state = 109, \n",
    "                                                         stratify = df.stock_up)"
   ]
  },
  {
   "cell_type": "code",
   "execution_count": 274,
   "metadata": {},
   "outputs": [],
   "source": [
    "# Standardize the data\n",
    "standard_scaler = StandardScaler()\n",
    "x_fitted_scaler = standard_scaler.fit(X_train)\n",
    "x_train_transform = x_fitted_scaler.transform(X_train)\n",
    "x_test_transform = x_fitted_scaler.transform(X_test)\n",
    "X_train = pd.DataFrame(x_train_transform, columns = X_train.columns)\n",
    "X_test = pd.DataFrame(x_test_transform, columns = X_test.columns)"
   ]
  },
  {
   "cell_type": "markdown",
   "metadata": {},
   "source": [
    "<div class='theme'> Linear Regression Model </div>"
   ]
  },
  {
   "cell_type": "markdown",
   "metadata": {},
   "source": [
    "#### Linear Model"
   ]
  },
  {
   "cell_type": "code",
   "execution_count": 275,
   "metadata": {},
   "outputs": [
    {
     "name": "stdout",
     "output_type": "stream",
     "text": [
      "Linear Model Training Set Accuracy: 59.209750344014154%\n",
      "Linear Model Testing Set Accuracy: 54.48113207547169%\n"
     ]
    }
   ],
   "source": [
    "lm = LinearRegression().fit(X_train, y_train)\n",
    "lm_pred_tr = lm.predict(X_train)\n",
    "lm_pred_test = lm.predict(X_test)\n",
    "lm_score_tr = accuracy_score(y_train,[int(round(i)) for i in lm_pred_tr])*100\n",
    "lm_score_test = accuracy_score(y_test, [int(round(i)) for i in lm_pred_test])*100\n",
    "print(\"Linear Model Training Set Accuracy:\",str(lm_score_tr)+'%')\n",
    "print(\"Linear Model Testing Set Accuracy:\",str(lm_score_test)+'%')                  "
   ]
  },
  {
   "cell_type": "markdown",
   "metadata": {},
   "source": [
    "<div class='theme'> Multiple Logistic Regression Model </div>"
   ]
  },
  {
   "cell_type": "markdown",
   "metadata": {},
   "source": [
    "#### Simple Multiple Logistic Model"
   ]
  },
  {
   "cell_type": "code",
   "execution_count": 276,
   "metadata": {},
   "outputs": [
    {
     "name": "stderr",
     "output_type": "stream",
     "text": [
      "C:\\Users\\blue4\\Anaconda3\\lib\\site-packages\\sklearn\\linear_model\\logistic.py:432: FutureWarning: Default solver will be changed to 'lbfgs' in 0.22. Specify a solver to silence this warning.\n",
      "  FutureWarning)\n"
     ]
    },
    {
     "name": "stdout",
     "output_type": "stream",
     "text": [
      "Simple Logistic Model Training Set Accuracy: 59.32769805386279%\n",
      "Simple Logistic Model Testing Set Accuracy: 54.55974842767296%\n"
     ]
    }
   ],
   "source": [
    "#Training\n",
    "log_model = LogisticRegression(C=100000).fit(X_train, y_train)\n",
    "#Predict\n",
    "y_tr_pred = log_model.predict(X_train)\n",
    "y_test_pred = log_model.predict(X_test)\n",
    "#Performance Evaluation\n",
    "tr_score_log = accuracy_score(y_train, y_tr_pred)*100\n",
    "test_score_log = accuracy_score(y_test, y_test_pred)*100\n",
    "\n",
    "print(\"Simple Logistic Model Training Set Accuracy:\",str(tr_score_log)+'%')\n",
    "print(\"Simple Logistic Model Testing Set Accuracy:\",str(test_score_log)+'%')"
   ]
  },
  {
   "cell_type": "code",
   "execution_count": 277,
   "metadata": {},
   "outputs": [
    {
     "data": {
      "text/plain": [
       "Text(0.5, 0, 'Probability')"
      ]
     },
     "execution_count": 277,
     "metadata": {},
     "output_type": "execute_result"
    },
    {
     "data": {
      "image/png": "[encoded data removed]",
      "text/plain": [
       "<Figure size 432x288 with 2 Axes>"
      ]
     },
     "metadata": {
      "needs_background": "light"
     },
     "output_type": "display_data"
    }
   ],
   "source": [
    "fig, (ax1, ax2) = plt.subplots(2)\n",
    "ax1.set_title('Probability Estimate Distributions in Binary Classification')\n",
    "ax1.hist(log_model.predict_proba(X_train), label = ['0', '1'])\n",
    "ax2.hist(log_model.predict_proba(X_test), label = ['0', '1'])\n",
    "ax1.legend()\n",
    "ax2.legend()\n",
    "ax1.set_ylabel('Tweet Count')\n",
    "ax2.set_ylabel('Tweet Count')\n",
    "ax2.set_xlabel('Probability')"
   ]
  },
  {
   "cell_type": "markdown",
   "metadata": {},
   "source": [
    "#### Regularized Multiple Logistic Model"
   ]
  },
  {
   "cell_type": "code",
   "execution_count": 278,
   "metadata": {
    "scrolled": true
   },
   "outputs": [
    {
     "name": "stderr",
     "output_type": "stream",
     "text": [
      "C:\\Users\\blue4\\Anaconda3\\lib\\site-packages\\sklearn\\model_selection\\_split.py:1978: FutureWarning: The default value of cv will change from 3 to 5 in version 0.22. Specify it explicitly to silence this warning.\n",
      "  warnings.warn(CV_WARNING, FutureWarning)\n"
     ]
    },
    {
     "name": "stdout",
     "output_type": "stream",
     "text": [
      "Regularized Logistic Model Training Set Accuracy: 56.536268920778454%\n",
      "Regularized Logistic Model Testing Set Accuracy: 56.5251572327044%\n"
     ]
    }
   ],
   "source": [
    "log_model_cv = LogisticRegressionCV(penalty = 'l1', solver = 'liblinear', max_iter = 10000).fit(X_train, y_train)\n",
    "#Predict\n",
    "y_pred_cv = log_model_cv.predict(X_train)\n",
    "y_pred_test_cv = log_model_cv.predict(X_test)\n",
    "#Performance Evaluation\n",
    "tr_score_cv = accuracy_score(y_train, y_pred_cv)*100\n",
    "test_score_cv = accuracy_score(y_test, y_pred_test_cv)*100\n",
    "\n",
    "print(\"Regularized Logistic Model Training Set Accuracy:\",str(tr_score_cv)+'%')\n",
    "print(\"Regularized Logistic Model Testing Set Accuracy:\",str(test_score_cv)+'%')"
   ]
  },
  {
   "cell_type": "code",
   "execution_count": 279,
   "metadata": {},
   "outputs": [
    {
     "data": {
      "text/plain": [
       "Text(0.5, 0, 'Probability')"
      ]
     },
     "execution_count": 279,
     "metadata": {},
     "output_type": "execute_result"
    },
    {
     "data": {
      "image/png": "[encoded data removed]",
      "text/plain": [
       "<Figure size 432x288 with 2 Axes>"
      ]
     },
     "metadata": {
      "needs_background": "light"
     },
     "output_type": "display_data"
    }
   ],
   "source": [
    "fig, (ax1, ax2) = plt.subplots(2)\n",
    "ax1.set_title('Regularized Log Model: Probability Estimate Distributions in Binary Classification')\n",
    "ax1.hist(log_model_cv.predict_proba(X_train), label = ['0', '1'])\n",
    "ax2.hist(log_model_cv.predict_proba(X_test), label = ['0', '1'])\n",
    "ax1.legend()\n",
    "ax2.legend()\n",
    "ax1.set_ylabel('Tweet Count')\n",
    "ax2.set_ylabel('Tweet Count')\n",
    "ax2.set_xlabel('Probability')"
   ]
  },
  {
   "cell_type": "markdown",
   "metadata": {},
   "source": [
    "<div class='theme'> Random Forest Model </div>"
   ]
  },
  {
   "cell_type": "markdown",
   "metadata": {},
   "source": [
    "##### Finding the Best Depth for Random Forest Classifier"
   ]
  },
  {
   "cell_type": "code",
   "execution_count": 280,
   "metadata": {},
   "outputs": [],
   "source": [
    "def calc_meanstd(X_train, y_train, depths):\n",
    "    train_scores = {}\n",
    "    cvmeans = {}\n",
    "    cvstds = {}\n",
    "    for depth in depths:\n",
    "        model = DecisionTreeClassifier(max_depth = depth)\n",
    "        score = cross_val_score(estimator=model, X = X_train, y = y_train, cv=5, n_jobs = -1)\n",
    "        train_scores[depth] = score\n",
    "        cvmeans[depth] = score.mean()\n",
    "        cvstds[depth] = score.std()\n",
    "    return cvmeans, cvstds, train_scores\n",
    "\n",
    "cvmeans, cvstds, train_scores = calc_meanstd(X_train, y_train, depths = list(range(1,51)))\n",
    "best_depth = max(cvmeans, key=cvmeans.get)"
   ]
  },
  {
   "cell_type": "markdown",
   "metadata": {},
   "source": [
    "#### Random Forest Model"
   ]
  },
  {
   "cell_type": "code",
   "execution_count": 281,
   "metadata": {
    "scrolled": true
   },
   "outputs": [
    {
     "name": "stdout",
     "output_type": "stream",
     "text": [
      "Random Forest Model Training Accuracy Score:  59.484961666994295 %\n",
      "Random Forest Model Testing Accuracy Score:  56.60377358490566 %\n"
     ]
    }
   ],
   "source": [
    "rf_model = RandomForestClassifier(n_estimators = 50, max_depth = 5, max_features = 'sqrt').fit(X_train, y_train)\n",
    "random_forest_test_score = accuracy_score(y_test, rf_model.predict(X_test))*100\n",
    "random_forest_train_score = accuracy_score(y_train, rf_model.predict(X_train))*100\n",
    "print('Random Forest Model Training Accuracy Score: ', random_forest_train_score, '%')\n",
    "print('Random Forest Model Testing Accuracy Score: ', random_forest_test_score, '%')"
   ]
  },
  {
   "cell_type": "markdown",
   "metadata": {},
   "source": [
    "##### Visualization"
   ]
  },
  {
   "cell_type": "code",
   "execution_count": 282,
   "metadata": {},
   "outputs": [],
   "source": [
    "def graph_acc(depth):\n",
    "    testing = {}\n",
    "    training = {}\n",
    "    for i in range(depth):\n",
    "        rf = RandomForestClassifier(n_estimators = 50, max_depth = i+1, max_features = 'sqrt').fit(X_train, y_train)\n",
    "        training[i] = accuracy_score(y_train, rf.predict(X_train))\n",
    "        testing[i] = accuracy_score(y_test, rf.predict(X_test))\n",
    "    return training, testing\n",
    "tr_list, test_list = graph_acc(10)"
   ]
  },
  {
   "cell_type": "code",
   "execution_count": 283,
   "metadata": {
    "scrolled": false
   },
   "outputs": [
    {
     "data": {
      "image/png": "[encoded data removed]",
      "text/plain": [
       "<Figure size 432x288 with 1 Axes>"
      ]
     },
     "metadata": {
      "needs_background": "light"
     },
     "output_type": "display_data"
    }
   ],
   "source": [
    "plt.figure()\n",
    "plt.title('Accuracy Scores by Depth')\n",
    "plt.xlabel('depth')\n",
    "plt.ylabel('Accuracy Scores')\n",
    "plt.plot(*zip(*sorted(tr_list.items())), label = 'Training')\n",
    "plt.plot(*zip(*sorted(test_list.items())), label = 'Testing')\n",
    "plt.legend(loc = 'upper left')\n",
    "plt.show()"
   ]
  },
  {
   "cell_type": "code",
   "execution_count": 284,
   "metadata": {},
   "outputs": [
    {
     "data": {
      "text/plain": [
       "Text(0.5, 0, 'Probability')"
      ]
     },
     "execution_count": 284,
     "metadata": {},
     "output_type": "execute_result"
    },
    {
     "data": {
      "image/png": "[encoded data removed]",
      "text/plain": [
       "<Figure size 432x288 with 2 Axes>"
      ]
     },
     "metadata": {
      "needs_background": "light"
     },
     "output_type": "display_data"
    }
   ],
   "source": [
    "fig, (ax1, ax2) = plt.subplots(2)\n",
    "ax1.set_title('RF Model: Probability Estimate Distributions in Binary Classification')\n",
    "ax1.hist(rf_model.predict_proba(X_train), label = ['0', '1'])\n",
    "ax2.hist(rf_model.predict_proba(X_test), label = ['0', '1'])\n",
    "ax1.legend()\n",
    "ax2.legend()\n",
    "ax1.set_ylabel('Tweet Count')\n",
    "ax2.set_ylabel('Tweet Count')\n",
    "ax2.set_xlabel('Probability')"
   ]
  },
  {
   "cell_type": "markdown",
   "metadata": {},
   "source": [
    "##### Most important features from Random Forest Model"
   ]
  },
  {
   "cell_type": "code",
   "execution_count": 286,
   "metadata": {
    "scrolled": true
   },
   "outputs": [
    {
     "data": {
      "text/plain": [
       "['far',\n",
       " 'usa',\n",
       " 'border',\n",
       " 'military',\n",
       " 'collusion',\n",
       " 'korea',\n",
       " 'news',\n",
       " 'meeting',\n",
       " 'hour',\n",
       " 'last']"
      ]
     },
     "execution_count": 286,
     "metadata": {},
     "output_type": "execute_result"
    }
   ],
   "source": [
    "feature_list = dict(zip(X_train.columns.values, rf_model.feature_importances_))\n",
    "top_10_features = sorted(feature_list, key = feature_list.get, reverse = True)[:10]\n",
    "top_10_features"
   ]
  },
  {
   "cell_type": "markdown",
   "metadata": {},
   "source": [
    "# Model Results"
   ]
  },
  {
   "cell_type": "code",
   "execution_count": 287,
   "metadata": {},
   "outputs": [
    {
     "data": {
      "text/html": [
       "<div>\n",
       "<style scoped>\n",
       "    .dataframe tbody tr th:only-of-type {\n",
       "        vertical-align: middle;\n",
       "    }\n",
       "\n",
       "    .dataframe tbody tr th {\n",
       "        vertical-align: top;\n",
       "    }\n",
       "\n",
       "    .dataframe thead th {\n",
       "        text-align: right;\n",
       "    }\n",
       "</style>\n",
       "<table border=\"1\" class=\"dataframe\">\n",
       "  <thead>\n",
       "    <tr style=\"text-align: right;\">\n",
       "      <th></th>\n",
       "      <th>Training Accuracy (%)</th>\n",
       "      <th>Testing Accuracy (%)</th>\n",
       "    </tr>\n",
       "  </thead>\n",
       "  <tbody>\n",
       "    <tr>\n",
       "      <th>Linear Regression</th>\n",
       "      <td>59.209750</td>\n",
       "      <td>54.481132</td>\n",
       "    </tr>\n",
       "    <tr>\n",
       "      <th>Simple Logistic</th>\n",
       "      <td>59.327698</td>\n",
       "      <td>54.559748</td>\n",
       "    </tr>\n",
       "    <tr>\n",
       "      <th>Regularized Logistic</th>\n",
       "      <td>56.536269</td>\n",
       "      <td>56.525157</td>\n",
       "    </tr>\n",
       "    <tr>\n",
       "      <th>Random Forest</th>\n",
       "      <td>59.484962</td>\n",
       "      <td>56.603774</td>\n",
       "    </tr>\n",
       "  </tbody>\n",
       "</table>\n",
       "</div>"
      ],
      "text/plain": [
       "                      Training Accuracy (%)  Testing Accuracy (%)\n",
       "Linear Regression                 59.209750             54.481132\n",
       "Simple Logistic                   59.327698             54.559748\n",
       "Regularized Logistic              56.536269             56.525157\n",
       "Random Forest                     59.484962             56.603774"
      ]
     },
     "execution_count": 287,
     "metadata": {},
     "output_type": "execute_result"
    }
   ],
   "source": [
    "names = []\n",
    "scores = []\n",
    "scores.append([[lm_score_tr, lm_score_test], [tr_score_log, test_score_log],\n",
    "               [tr_score_cv, test_score_cv], [random_forest_train_score, random_forest_test_score]])\n",
    "names.append(['Linear Regression', 'Simple Logistic', 'Regularized Logistic', 'Random Forest'])\n",
    "results_df = pd.DataFrame(scores[0], index = names[0], columns = ['Training Accuracy (%)', 'Testing Accuracy (%)'])\n",
    "results_df"
   ]
  },
  {
   "cell_type": "code",
   "execution_count": 241,
   "metadata": {},
   "outputs": [],
   "source": [
    "import pandas as pd \n",
    "import numpy as np \n",
    "import sklearn as sk \n",
    "from sklearn.metrics import accuracy_score \n",
    "from sklearn.preprocessing import StandardScaler\n",
    "from sklearn.model_selection import train_test_split\n",
    "import tensorflow as tf \n",
    "import matplotlib.pyplot as plt "
   ]
  },
  {
   "cell_type": "code",
   "execution_count": 213,
   "metadata": {},
   "outputs": [],
   "source": [
    "temp = pd.read_csv('data/preprocessed')"
   ]
  },
  {
   "cell_type": "code",
   "execution_count": 214,
   "metadata": {},
   "outputs": [],
   "source": [
    "data = temp.drop(columns = ['Unnamed: 0', 'text','is_retweet', 'stock_dif', 'preproc', 'keywords'], axis = 1)"
   ]
  },
  {
   "cell_type": "code",
   "execution_count": 261,
   "metadata": {},
   "outputs": [],
   "source": [
    "datetimes = pd.to_datetime(temp['created_at'])\n",
    "data['year'] = [i.year for i in datetimes]\n",
    "data['month'] = [i.month for i in datetimes]\n",
    "data['day'] = [i.day for i in datetimes]\n",
    "data['hour'] = [i.hour for i in datetimes]"
   ]
  },
  {
   "cell_type": "code",
   "execution_count": 266,
   "metadata": {},
   "outputs": [],
   "source": [
    "data = data.drop(columns = ['created_at'])"
   ]
  },
  {
   "cell_type": "code",
   "execution_count": 267,
   "metadata": {},
   "outputs": [],
   "source": [
    "y = data['stock_up']\n",
    "x = data.drop(columns = ['stock_up'])\n",
    "X_train, X_test, y_train, y_test = train_test_split(x, y, test_size = .2, random_state = 109)"
   ]
  },
  {
   "cell_type": "code",
   "execution_count": 271,
   "metadata": {},
   "outputs": [],
   "source": [
    "## Scale the data \n",
    "import warnings\n",
    "warnings.filterwarnings('ignore')\n",
    "scaler = StandardScaler()\n",
    "scaler.fit(X_train)\n",
    "X_train_scaled = scaler.transform(X_train)\n",
    "X_test_scaled = scaler.transform(X_test)"
   ]
  },
  {
   "cell_type": "code",
   "execution_count": 274,
   "metadata": {},
   "outputs": [],
   "source": [
    "from tensorflow.keras.layers import Dense, Dropout \n",
    "from tensorflow.keras.models import Sequential\n",
    "from tensorflow.keras import regularizers\n",
    "\n",
    "model = Sequential()\n",
    "model.add(Dense(16, input_shape = (156,), activation = 'relu'))\n",
    "model.add(Dense(32, activation = 'relu',kernel_regularizer=regularizers.l2(0.01)))\n",
    "model.add(Dropout(.6))\n",
    "model.add(Dense(1, activation = 'sigmoid'))\n",
    "model.compile(optimizer = 'adam',loss = 'binary_crossentropy', metrics = ['accuracy'])"
   ]
  },
  {
   "cell_type": "code",
   "execution_count": 275,
   "metadata": {},
   "outputs": [
    {
     "name": "stdout",
     "output_type": "stream",
     "text": [
      "Train on 4069 samples, validate on 1018 samples\n",
      "Epoch 1/50\n",
      "4069/4069 [==============================] - 1s 271us/sample - loss: 0.9370 - acc: 0.5151 - val_loss: 0.8442 - val_acc: 0.5324\n",
      "Epoch 2/50\n",
      "4069/4069 [==============================] - 0s 84us/sample - loss: 0.8231 - acc: 0.5483 - val_loss: 0.7911 - val_acc: 0.5560\n",
      "Epoch 3/50\n",
      "4069/4069 [==============================] - 0s 82us/sample - loss: 0.7707 - acc: 0.5525 - val_loss: 0.7592 - val_acc: 0.5580\n",
      "Epoch 4/50\n",
      "4069/4069 [==============================] - 0s 82us/sample - loss: 0.7381 - acc: 0.5731 - val_loss: 0.7383 - val_acc: 0.5619\n",
      "Epoch 5/50\n",
      "4069/4069 [==============================] - 0s 82us/sample - loss: 0.7204 - acc: 0.5692 - val_loss: 0.7249 - val_acc: 0.5639\n",
      "Epoch 6/50\n",
      "4069/4069 [==============================] - 0s 87us/sample - loss: 0.7060 - acc: 0.5677 - val_loss: 0.7161 - val_acc: 0.5688\n",
      "Epoch 7/50\n",
      "4069/4069 [==============================] - 0s 84us/sample - loss: 0.6958 - acc: 0.5829 - val_loss: 0.7118 - val_acc: 0.5570\n",
      "Epoch 8/50\n",
      "4069/4069 [==============================] - 0s 82us/sample - loss: 0.6864 - acc: 0.5938 - val_loss: 0.7085 - val_acc: 0.5540\n",
      "Epoch 9/50\n",
      "4069/4069 [==============================] - 0s 82us/sample - loss: 0.6813 - acc: 0.5879 - val_loss: 0.7070 - val_acc: 0.5530\n",
      "Epoch 10/50\n",
      "4069/4069 [==============================] - 0s 84us/sample - loss: 0.6751 - acc: 0.5847 - val_loss: 0.7086 - val_acc: 0.5491\n",
      "Epoch 11/50\n",
      "4069/4069 [==============================] - 0s 84us/sample - loss: 0.6710 - acc: 0.5970 - val_loss: 0.7085 - val_acc: 0.5570\n",
      "Epoch 12/50\n",
      "4069/4069 [==============================] - 0s 87us/sample - loss: 0.6682 - acc: 0.6006 - val_loss: 0.7101 - val_acc: 0.5511\n",
      "Epoch 13/50\n",
      "4069/4069 [==============================] - 0s 86us/sample - loss: 0.6615 - acc: 0.5970 - val_loss: 0.7196 - val_acc: 0.5344\n",
      "Epoch 14/50\n",
      "4069/4069 [==============================] - 0s 84us/sample - loss: 0.6573 - acc: 0.6036 - val_loss: 0.7201 - val_acc: 0.5373\n",
      "Epoch 15/50\n",
      "4069/4069 [==============================] - 0s 84us/sample - loss: 0.6517 - acc: 0.6115 - val_loss: 0.7238 - val_acc: 0.5373\n",
      "Epoch 16/50\n",
      "4069/4069 [==============================] - 0s 82us/sample - loss: 0.6472 - acc: 0.6193 - val_loss: 0.7256 - val_acc: 0.5236\n",
      "Epoch 17/50\n",
      "4069/4069 [==============================] - 0s 87us/sample - loss: 0.6404 - acc: 0.6323 - val_loss: 0.7348 - val_acc: 0.5334\n",
      "Epoch 18/50\n",
      "4069/4069 [==============================] - 0s 84us/sample - loss: 0.6327 - acc: 0.6432 - val_loss: 0.7339 - val_acc: 0.5246\n",
      "Epoch 19/50\n",
      "4069/4069 [==============================] - 0s 86us/sample - loss: 0.6272 - acc: 0.6446 - val_loss: 0.7430 - val_acc: 0.5246\n",
      "Epoch 20/50\n",
      "4069/4069 [==============================] - 0s 87us/sample - loss: 0.6185 - acc: 0.6660 - val_loss: 0.7513 - val_acc: 0.5305\n",
      "Epoch 21/50\n",
      "4069/4069 [==============================] - 0s 82us/sample - loss: 0.6090 - acc: 0.6776 - val_loss: 0.7614 - val_acc: 0.5255\n",
      "Epoch 22/50\n",
      "4069/4069 [==============================] - 0s 85us/sample - loss: 0.5947 - acc: 0.6832 - val_loss: 0.7802 - val_acc: 0.5285\n",
      "Epoch 23/50\n",
      "4069/4069 [==============================] - 0s 86us/sample - loss: 0.5886 - acc: 0.6953 - val_loss: 0.7888 - val_acc: 0.5098\n",
      "Epoch 24/50\n",
      "4069/4069 [==============================] - 0s 84us/sample - loss: 0.5810 - acc: 0.7073 - val_loss: 0.8028 - val_acc: 0.5039\n",
      "Epoch 25/50\n",
      "4069/4069 [==============================] - 0s 82us/sample - loss: 0.5687 - acc: 0.7117 - val_loss: 0.8144 - val_acc: 0.5108\n",
      "Epoch 26/50\n",
      "4069/4069 [==============================] - 0s 85us/sample - loss: 0.5600 - acc: 0.7228 - val_loss: 0.8525 - val_acc: 0.5167\n",
      "Epoch 27/50\n",
      "4069/4069 [==============================] - 0s 82us/sample - loss: 0.5495 - acc: 0.7297 - val_loss: 0.8688 - val_acc: 0.5059\n",
      "Epoch 28/50\n",
      "4069/4069 [==============================] - 0s 82us/sample - loss: 0.5356 - acc: 0.7424 - val_loss: 0.8848 - val_acc: 0.4980\n",
      "Epoch 29/50\n",
      "4069/4069 [==============================] - 0s 85us/sample - loss: 0.5299 - acc: 0.7417 - val_loss: 0.8738 - val_acc: 0.4980\n",
      "Epoch 30/50\n",
      "4069/4069 [==============================] - 0s 84us/sample - loss: 0.5224 - acc: 0.7636 - val_loss: 0.8941 - val_acc: 0.5069\n",
      "Epoch 31/50\n",
      "4069/4069 [==============================] - 0s 84us/sample - loss: 0.5059 - acc: 0.7700 - val_loss: 0.9347 - val_acc: 0.5000\n",
      "Epoch 32/50\n",
      "4069/4069 [==============================] - 0s 86us/sample - loss: 0.4997 - acc: 0.7685 - val_loss: 0.9601 - val_acc: 0.4980\n",
      "Epoch 33/50\n",
      "4069/4069 [==============================] - 0s 86us/sample - loss: 0.4892 - acc: 0.7793 - val_loss: 0.9772 - val_acc: 0.4971\n",
      "Epoch 34/50\n",
      "4069/4069 [==============================] - 0s 84us/sample - loss: 0.4845 - acc: 0.7798 - val_loss: 1.0069 - val_acc: 0.5098\n",
      "Epoch 35/50\n",
      "4069/4069 [==============================] - 0s 86us/sample - loss: 0.4722 - acc: 0.7921 - val_loss: 1.0156 - val_acc: 0.4921\n",
      "Epoch 36/50\n",
      "4069/4069 [==============================] - 0s 87us/sample - loss: 0.4721 - acc: 0.7869 - val_loss: 1.0476 - val_acc: 0.5000\n",
      "Epoch 37/50\n",
      "4069/4069 [==============================] - 0s 84us/sample - loss: 0.4664 - acc: 0.7918 - val_loss: 1.0813 - val_acc: 0.4951\n",
      "Epoch 38/50\n",
      "4069/4069 [==============================] - 0s 84us/sample - loss: 0.4513 - acc: 0.8009 - val_loss: 1.0667 - val_acc: 0.4990\n",
      "Epoch 39/50\n",
      "4069/4069 [==============================] - 0s 89us/sample - loss: 0.4542 - acc: 0.8007 - val_loss: 1.1003 - val_acc: 0.5049\n",
      "Epoch 40/50\n",
      "4069/4069 [==============================] - 0s 97us/sample - loss: 0.4431 - acc: 0.8105 - val_loss: 1.1409 - val_acc: 0.4971\n",
      "Epoch 41/50\n",
      "4069/4069 [==============================] - 0s 87us/sample - loss: 0.4429 - acc: 0.8049 - val_loss: 1.1120 - val_acc: 0.5000\n",
      "Epoch 42/50\n",
      "4069/4069 [==============================] - 0s 101us/sample - loss: 0.4347 - acc: 0.8120 - val_loss: 1.1355 - val_acc: 0.4990\n",
      "Epoch 43/50\n",
      "4069/4069 [==============================] - 0s 96us/sample - loss: 0.4245 - acc: 0.8179 - val_loss: 1.1700 - val_acc: 0.5059\n",
      "Epoch 44/50\n",
      "4069/4069 [==============================] - 0s 94us/sample - loss: 0.4100 - acc: 0.8255 - val_loss: 1.2044 - val_acc: 0.4843\n",
      "Epoch 45/50\n",
      "4069/4069 [==============================] - 0s 84us/sample - loss: 0.4123 - acc: 0.8226 - val_loss: 1.2249 - val_acc: 0.5020\n",
      "Epoch 46/50\n",
      "4069/4069 [==============================] - 0s 84us/sample - loss: 0.4063 - acc: 0.8285 - val_loss: 1.2798 - val_acc: 0.5049\n",
      "Epoch 47/50\n",
      "4069/4069 [==============================] - 0s 84us/sample - loss: 0.4036 - acc: 0.8307 - val_loss: 1.3018 - val_acc: 0.4892\n",
      "Epoch 48/50\n",
      "4069/4069 [==============================] - 0s 82us/sample - loss: 0.3938 - acc: 0.8326 - val_loss: 1.3010 - val_acc: 0.4941\n",
      "Epoch 49/50\n",
      "4069/4069 [==============================] - 0s 82us/sample - loss: 0.3853 - acc: 0.8430 - val_loss: 1.3592 - val_acc: 0.4862\n",
      "Epoch 50/50\n",
      "4069/4069 [==============================] - 0s 82us/sample - loss: 0.3903 - acc: 0.8373 - val_loss: 1.3894 - val_acc: 0.4902\n"
     ]
    }
   ],
   "source": [
    "hist = model.fit(X_train_scaled, y_train, validation_split = .2, batch_size = 32, epochs = 50)"
   ]
  },
  {
   "cell_type": "code",
   "execution_count": 276,
   "metadata": {},
   "outputs": [
    {
     "data": {
      "text/plain": [
       "[<matplotlib.lines.Line2D at 0x2aaf2c5bf88>]"
      ]
     },
     "execution_count": 276,
     "metadata": {},
     "output_type": "execute_result"
    },
    {
     "data": {
      "image/png": "[encoded data removed]",
      "text/plain": [
       "<Figure size 432x288 with 1 Axes>"
      ]
     },
     "metadata": {
      "needs_background": "light"
     },
     "output_type": "display_data"
    }
   ],
   "source": [
    "plt.plot(hist.history['acc'])\n",
    "plt.plot(hist.history['val_acc'])"
   ]
  },
  {
   "cell_type": "code",
   "execution_count": 277,
   "metadata": {},
   "outputs": [],
   "source": [
    "predictions = model.predict(X_test_scaled)\n",
    "prediction = pd.DataFrame(predictions, index = X_test.index)\n",
    "dates = temp.iloc[X_test.index]['created_at']\n",
    "neural_predict = pd.concat([prediction, dates], axis = 1)\n",
    "# neural_predict.to_csv('data/neural_prediction')"
   ]
  },
  {
   "cell_type": "code",
   "execution_count": 280,
   "metadata": {},
   "outputs": [
    {
     "name": "stdout",
     "output_type": "stream",
     "text": [
      "0.559748427672956\n",
      "tweet that would raise stock market is:  The first 90 days of my presidency has exposed the total failure of the last eight years of foreign policy! So true. @foxandfriends\n",
      "tweet that would lower stock market is:  Highest Stock Market EVER best economic numbers in years unemployment lowest in 17 years wages raising border secure S.C.: No WH chaos!\n"
     ]
    }
   ],
   "source": [
    "predict = [1 if x > .9 else 0 for x in predictions]\n",
    "score = accuracy_score(y_test, predict)\n",
    "print(score)\n",
    "index = np.where(prediction[0] > .9)[0]\n",
    "top_tweet = temp.iloc[np.where(prediction[0] > .90)]['text'][488]\n",
    "print('tweet that would raise stock market is: ', top_tweet)\n",
    "worst_tweet = temp.iloc[np.where(prediction[0] < .01)]['text'][899]\n",
    "print('tweet that would lower stock market is: ', worst_tweet)"
   ]
  }
 ],
 "metadata": {
  "kernelspec": {
   "display_name": "Python 3",
   "language": "python",
   "name": "python3"
  },
  "language_info": {
   "codemirror_mode": {
    "name": "ipython",
    "version": 3
   },
   "file_extension": ".py",
   "mimetype": "text/x-python",
   "name": "python",
   "nbconvert_exporter": "python",
   "pygments_lexer": "ipython3",
   "version": "3.7.3"
  }
 },
 "nbformat": 4,
 "nbformat_minor": 2
}

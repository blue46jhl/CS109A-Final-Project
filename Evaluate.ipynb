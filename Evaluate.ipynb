{
 "cells": [
  {
   "cell_type": "code",
   "execution_count": 9,
   "metadata": {},
   "outputs": [],
   "source": [
    "import numpy as np\n",
    "import pandas as pd\n",
    "from nltk.translate.bleu_score import sentence_bleu\n",
    "from spacy.lang.en.examples import sentences \n",
    "import spacy as sp\n",
    "import nltk\n",
    "from gensim.models.doc2vec import Doc2Vec, TaggedDocument\n",
    "from nltk.tokenize import word_tokenize\n",
    "from nltk.corpus import wordnet\n",
    "#nltk.download('stopwords')\n",
    "from nltk.corpus import stopwords\n",
    "from nltk.tokenize import TweetTokenizer\n",
    "from nltk.stem import WordNetLemmatizer\n",
    "from nltk.stem.porter import PorterStemmer\n",
    "from sklearn.feature_extraction.text import TfidfVectorizer\n",
    "%matplotlib inline\n",
    "# import zipfile\n",
    "from textblob import TextBlob\n",
    "import string\n",
    "from datetime import datetime  \n",
    "from datetime import timedelta  \n",
    "import re \n",
    "import matplotlib.pyplot as plt\n"
   ]
  },
  {
   "cell_type": "code",
   "execution_count": 2,
   "metadata": {},
   "outputs": [
    {
     "data": {
      "text/html": [
       "<div>\n",
       "<style scoped>\n",
       "    .dataframe tbody tr th:only-of-type {\n",
       "        vertical-align: middle;\n",
       "    }\n",
       "\n",
       "    .dataframe tbody tr th {\n",
       "        vertical-align: top;\n",
       "    }\n",
       "\n",
       "    .dataframe thead th {\n",
       "        text-align: right;\n",
       "    }\n",
       "</style>\n",
       "<table border=\"1\" class=\"dataframe\">\n",
       "  <thead>\n",
       "    <tr style=\"text-align: right;\">\n",
       "      <th></th>\n",
       "      <th>Date</th>\n",
       "      <th>Time</th>\n",
       "      <th>Open</th>\n",
       "      <th>High</th>\n",
       "      <th>Low</th>\n",
       "      <th>Close</th>\n",
       "      <th>Volume</th>\n",
       "      <th>Tick Count</th>\n",
       "      <th>Up Ticks</th>\n",
       "      <th>Down Ticks</th>\n",
       "      <th>Same Ticks</th>\n",
       "      <th>VWAP</th>\n",
       "      <th>Time_pd</th>\n",
       "      <th>Date_time</th>\n",
       "    </tr>\n",
       "  </thead>\n",
       "  <tbody>\n",
       "    <tr>\n",
       "      <th>0</th>\n",
       "      <td>11/13/16</td>\n",
       "      <td>17:01</td>\n",
       "      <td>2183.00</td>\n",
       "      <td>2183.50</td>\n",
       "      <td>2182.25</td>\n",
       "      <td>2183.25</td>\n",
       "      <td>2536</td>\n",
       "      <td>326</td>\n",
       "      <td>66</td>\n",
       "      <td>63</td>\n",
       "      <td>197</td>\n",
       "      <td>2183.03</td>\n",
       "      <td>17:01:00</td>\n",
       "      <td>2016-11-13 17:01:00</td>\n",
       "    </tr>\n",
       "    <tr>\n",
       "      <th>1</th>\n",
       "      <td>11/13/16</td>\n",
       "      <td>17:02</td>\n",
       "      <td>2183.25</td>\n",
       "      <td>2183.25</td>\n",
       "      <td>2182.00</td>\n",
       "      <td>2182.00</td>\n",
       "      <td>891</td>\n",
       "      <td>141</td>\n",
       "      <td>18</td>\n",
       "      <td>23</td>\n",
       "      <td>100</td>\n",
       "      <td>2182.93</td>\n",
       "      <td>17:02:00</td>\n",
       "      <td>2016-11-13 17:02:00</td>\n",
       "    </tr>\n",
       "    <tr>\n",
       "      <th>2</th>\n",
       "      <td>11/13/16</td>\n",
       "      <td>17:03</td>\n",
       "      <td>2182.00</td>\n",
       "      <td>2182.75</td>\n",
       "      <td>2182.00</td>\n",
       "      <td>2182.75</td>\n",
       "      <td>326</td>\n",
       "      <td>71</td>\n",
       "      <td>15</td>\n",
       "      <td>12</td>\n",
       "      <td>44</td>\n",
       "      <td>2182.27</td>\n",
       "      <td>17:03:00</td>\n",
       "      <td>2016-11-13 17:03:00</td>\n",
       "    </tr>\n",
       "    <tr>\n",
       "      <th>3</th>\n",
       "      <td>11/13/16</td>\n",
       "      <td>17:04</td>\n",
       "      <td>2182.50</td>\n",
       "      <td>2182.75</td>\n",
       "      <td>2182.50</td>\n",
       "      <td>2182.50</td>\n",
       "      <td>50</td>\n",
       "      <td>35</td>\n",
       "      <td>7</td>\n",
       "      <td>8</td>\n",
       "      <td>20</td>\n",
       "      <td>2182.57</td>\n",
       "      <td>17:04:00</td>\n",
       "      <td>2016-11-13 17:04:00</td>\n",
       "    </tr>\n",
       "    <tr>\n",
       "      <th>4</th>\n",
       "      <td>11/13/16</td>\n",
       "      <td>17:05</td>\n",
       "      <td>2182.75</td>\n",
       "      <td>2183.00</td>\n",
       "      <td>2182.75</td>\n",
       "      <td>2183.00</td>\n",
       "      <td>232</td>\n",
       "      <td>33</td>\n",
       "      <td>8</td>\n",
       "      <td>6</td>\n",
       "      <td>19</td>\n",
       "      <td>2182.92</td>\n",
       "      <td>17:05:00</td>\n",
       "      <td>2016-11-13 17:05:00</td>\n",
       "    </tr>\n",
       "  </tbody>\n",
       "</table>\n",
       "</div>"
      ],
      "text/plain": [
       "       Date   Time     Open     High      Low    Close  Volume  Tick Count  \\\n",
       "0  11/13/16  17:01  2183.00  2183.50  2182.25  2183.25    2536         326   \n",
       "1  11/13/16  17:02  2183.25  2183.25  2182.00  2182.00     891         141   \n",
       "2  11/13/16  17:03  2182.00  2182.75  2182.00  2182.75     326          71   \n",
       "3  11/13/16  17:04  2182.50  2182.75  2182.50  2182.50      50          35   \n",
       "4  11/13/16  17:05  2182.75  2183.00  2182.75  2183.00     232          33   \n",
       "\n",
       "   Up Ticks  Down Ticks  Same Ticks     VWAP  Time_pd           Date_time  \n",
       "0        66          63         197  2183.03 17:01:00 2016-11-13 17:01:00  \n",
       "1        18          23         100  2182.93 17:02:00 2016-11-13 17:02:00  \n",
       "2        15          12          44  2182.27 17:03:00 2016-11-13 17:03:00  \n",
       "3         7           8          20  2182.57 17:04:00 2016-11-13 17:04:00  \n",
       "4         8           6          19  2182.92 17:05:00 2016-11-13 17:05:00  "
      ]
     },
     "execution_count": 2,
     "metadata": {},
     "output_type": "execute_result"
    }
   ],
   "source": [
    "stock = pd.read_csv('data/SP500_intraday.csv')\n",
    "stock['Time_pd'] = pd.to_timedelta(stock['Time']+':00')\n",
    "stock['Date_time'] = pd.to_datetime(pd.to_datetime(stock['Date'])+ pd.to_timedelta(stock['Time_pd']))\n",
    "stock.head()"
   ]
  },
  {
   "cell_type": "code",
   "execution_count": 3,
   "metadata": {},
   "outputs": [
    {
     "data": {
      "text/plain": [
       "105"
      ]
     },
     "execution_count": 3,
     "metadata": {},
     "output_type": "execute_result"
    }
   ],
   "source": [
    "test_df = pd.read_csv('data/preprocessed', usecols = ['created_at', 'stock_up'])\n",
    "stock['Date_time'].loc[stock['Date_time'] == test_df['created_at'][0]].index[0]\n"
   ]
  },
  {
   "cell_type": "code",
   "execution_count": 27,
   "metadata": {},
   "outputs": [
    {
     "data": {
      "text/plain": [
       "1003747.0"
      ]
     },
     "execution_count": 27,
     "metadata": {},
     "output_type": "execute_result"
    },
    {
     "data": {
      "image/png": "[encoded data removed]",
      "text/plain": [
       "<Figure size 432x288 with 1 Axes>"
      ]
     },
     "metadata": {
      "needs_background": "light"
     },
     "output_type": "display_data"
    }
   ],
   "source": [
    "def evaluate(pred_df, stock_df, cash = 1000000, portfolio = 1000):\n",
    "    pred_df['created_at'] = pd.to_datetime(pred_df['created_at'])\n",
    "    cash_steps = []\n",
    "    for i in range(len(pred_df)):\n",
    "        current_time = pred_df['created_at'][i]\n",
    "        #Gets index within stock dataframe of current time\n",
    "        stock_time_idx = stock_df['Date_time'].loc[stock_df['Date_time'] == current_time].index[0]\n",
    "        future_time = current_time + timedelta(minutes=5)  \n",
    "        future_stock_time_idx = stock_df['Date_time'].loc[stock_df['Date_time'] == future_time].index[0]\n",
    "        if pred_df['stock_up'][i] == 1:\n",
    "            #Buy Close now and sell Open in five minutes\n",
    "            cost_of_trans = stock_df['Open'][future_stock_time_idx] - stock_df['Close'][stock_time_idx] \n",
    "            cash = cash + cost_of_trans\n",
    "        elif pred_df['stock_up'][i] == 0:\n",
    "            #Sell Close now and Buy Open in five minutes \n",
    "            cost_of_trans = stock_df['Close'][stock_time_idx] - stock_df['Open'][future_stock_time_idx] \n",
    "            cash = cash + cost_of_trans\n",
    "        cash_steps.append(cash)\n",
    "    timesteps = [j for j in range(len(pred_df))]\n",
    "    plt.plot(timesteps, cash_steps)\n",
    "    return cash\n",
    "evaluate(test_df, stock)"
   ]
  },
  {
   "cell_type": "code",
   "execution_count": null,
   "metadata": {},
   "outputs": [],
   "source": []
  }
 ],
 "metadata": {
  "kernelspec": {
   "display_name": "Python 3",
   "language": "python",
   "name": "python3"
  },
  "language_info": {
   "codemirror_mode": {
    "name": "ipython",
    "version": 3
   },
   "file_extension": ".py",
   "mimetype": "text/x-python",
   "name": "python",
   "nbconvert_exporter": "python",
   "pygments_lexer": "ipython3",
   "version": "3.7.3"
  }
 },
 "nbformat": 4,
 "nbformat_minor": 2
}

{
 "cells": [
  {
   "cell_type": "markdown",
   "metadata": {},
   "source": [
    "# Models"
   ]
  },
  {
   "cell_type": "code",
   "execution_count": 1,
   "metadata": {},
   "outputs": [
    {
     "data": {
      "text/html": [
       "<style>\n",
       "blockquote { background: #AEDE94; }\n",
       "h1 { \n",
       "    padding-top: 25px;\n",
       "    padding-bottom: 25px;\n",
       "    text-align: left; \n",
       "    padding-left: 10px;\n",
       "    background-color: #DDDDDD; \n",
       "    color: black;\n",
       "}\n",
       "h2 { \n",
       "    padding-top: 10px;\n",
       "    padding-bottom: 10px;\n",
       "    text-align: left; \n",
       "    padding-left: 5px;\n",
       "    background-color: #EEEEEE; \n",
       "    color: black;\n",
       "}\n",
       "\n",
       "div.exercise {\n",
       "\tbackground-color: #ffcccc;\n",
       "\tborder-color: #E9967A; \t\n",
       "\tborder-left: 5px solid #800080; \n",
       "\tpadding: 0.5em;\n",
       "}\n",
       "\n",
       "span.sub-q {\n",
       "\tfont-weight: bold;\n",
       "}\n",
       "div.theme {\n",
       "\tbackground-color: #DDDDDD;\n",
       "\tborder-color: #E9967A; \t\n",
       "\tborder-left: 5px solid #800080; \n",
       "\tpadding: 0.5em;\n",
       "\tfont-size: 18pt;\n",
       "}\n",
       "div.gc { \n",
       "\tbackground-color: #AEDE94;\n",
       "\tborder-color: #E9967A; \t \n",
       "\tborder-left: 5px solid #800080; \n",
       "\tpadding: 0.5em;\n",
       "\tfont-size: 12pt;\n",
       "}\n",
       "p.q1 { \n",
       "    padding-top: 5px;\n",
       "    padding-bottom: 5px;\n",
       "    text-align: left; \n",
       "    padding-left: 5px;\n",
       "    background-color: #EEEEEE; \n",
       "    color: black;\n",
       "}\n",
       "header {\n",
       "   padding-top: 35px;\n",
       "    padding-bottom: 35px;\n",
       "    text-align: left; \n",
       "    padding-left: 10px;\n",
       "    background-color: #DDDDDD; \n",
       "    color: black;\n",
       "}\n",
       "</style>\n",
       "\n"
      ],
      "text/plain": [
       "<IPython.core.display.HTML object>"
      ]
     },
     "execution_count": 1,
     "metadata": {},
     "output_type": "execute_result"
    }
   ],
   "source": [
    "import requests\n",
    "from IPython.core.display import HTML\n",
    "styles = requests.get(\"https://raw.githubusercontent.com/Harvard-IACS/2018-CS109A/master/content/styles/cs109.css\").text\n",
    "HTML(styles)"
   ]
  },
  {
   "cell_type": "markdown",
   "metadata": {},
   "source": [
    "## Libraries"
   ]
  },
  {
   "cell_type": "code",
   "execution_count": 2,
   "metadata": {},
   "outputs": [],
   "source": [
    "import numpy as np\n",
    "import pandas as pd\n",
    "\n",
    "# import statsmodels.api as sm\n",
    "from sklearn.linear_model import LinearRegression\n",
    "from sklearn.linear_model import LogisticRegression\n",
    "from sklearn.linear_model import LogisticRegressionCV\n",
    "from sklearn.linear_model import LassoCV\n",
    "from sklearn.tree import DecisionTreeClassifier\n",
    "from sklearn.ensemble import RandomForestClassifier\n",
    "\n",
    "from sklearn.neighbors import KNeighborsClassifier\n",
    "from sklearn.model_selection import cross_val_score\n",
    "from sklearn.metrics import accuracy_score\n",
    "from sklearn.model_selection import KFold\n",
    "from sklearn.preprocessing import StandardScaler, MinMaxScaler\n",
    "from sklearn.model_selection import train_test_split\n",
    "\n",
    "import matplotlib\n",
    "import matplotlib.pyplot as plt\n",
    "%matplotlib inline\n",
    "\n",
    "import tensorflow as tf \n",
    "from tensorflow.keras.layers import Dense, Dropout \n",
    "from tensorflow.keras.models import Sequential\n",
    "from tensorflow.keras import regularizers\n",
    "\n",
    "import zipfile"
   ]
  },
  {
   "cell_type": "markdown",
   "metadata": {},
   "source": [
    "### Read, Split, and Standardize Data"
   ]
  },
  {
   "cell_type": "code",
   "execution_count": 3,
   "metadata": {
    "scrolled": true
   },
   "outputs": [],
   "source": [
    "temp = pd.read_csv('data/final_preprocessed.csv')\n",
    "df = pd.read_csv('data/final_preprocessed.csv')\n",
    "\n",
    "datetimes = pd.to_datetime(df['created_at'])\n",
    "df['year'] = [i.year for i in datetimes]\n",
    "df['month'] = [i.month for i in datetimes]\n",
    "df['day'] = [i.day for i in datetimes]\n",
    "df['hour'] = [i.hour for i in datetimes]\n",
    "\n",
    "df = df.drop(['stock_dif', 'Unnamed: 0', 'text', 'created_at', 'preproc', 'keywords', 'is_retweet','äôs', 'äôt', 'äù', 'üá'], axis = 1)\n",
    "\n",
    "X_train, X_test, y_train, y_test =train_test_split(df.loc[:, df.columns != 'stock_up'], \n",
    "                                                         df.stock_up, test_size=0.2, \n",
    "                                                         random_state = 109, \n",
    "                                                         stratify = df.stock_up)\n",
    "index = X_test.index"
   ]
  },
  {
   "cell_type": "code",
   "execution_count": 4,
   "metadata": {},
   "outputs": [],
   "source": [
    "# Standardize the data\n",
    "standard_scaler = StandardScaler()\n",
    "x_fitted_scaler = standard_scaler.fit(X_train)\n",
    "x_train_transform = x_fitted_scaler.transform(X_train)\n",
    "x_test_transform = x_fitted_scaler.transform(X_test)\n",
    "X_train = pd.DataFrame(x_train_transform, columns = X_train.columns)\n",
    "X_test = pd.DataFrame(x_test_transform, columns = X_test.columns)"
   ]
  },
  {
   "cell_type": "markdown",
   "metadata": {},
   "source": [
    "<div class='theme'> Linear Regression Model </div>"
   ]
  },
  {
   "cell_type": "markdown",
   "metadata": {},
   "source": [
    "#### Linear Model"
   ]
  },
  {
   "cell_type": "code",
   "execution_count": 5,
   "metadata": {},
   "outputs": [
    {
     "name": "stdout",
     "output_type": "stream",
     "text": [
      "Linear Model Training Set Accuracy: 60.03538431295459%\n",
      "Linear Model Testing Set Accuracy: 54.48113207547169%\n"
     ]
    }
   ],
   "source": [
    "lm = LinearRegression().fit(X_train, y_train)\n",
    "lm_pred_tr = lm.predict(X_train)\n",
    "lm_pred_test = lm.predict(X_test)\n",
    "lm_score_tr = accuracy_score(y_train,[int(round(i)) for i in lm_pred_tr])*100\n",
    "lm_score_test = accuracy_score(y_test, [int(round(i)) for i in lm_pred_test])*100\n",
    "print(\"Linear Model Training Set Accuracy:\",str(lm_score_tr)+'%')\n",
    "print(\"Linear Model Testing Set Accuracy:\",str(lm_score_test)+'%')                  "
   ]
  },
  {
   "cell_type": "code",
   "execution_count": 6,
   "metadata": {},
   "outputs": [
    {
     "data": {
      "text/plain": [
       "<matplotlib.legend.Legend at 0x261baf68550>"
      ]
     },
     "execution_count": 6,
     "metadata": {},
     "output_type": "execute_result"
    },
    {
     "data": {
      "image/png": "[encoded data removed]",
      "text/plain": [
       "<Figure size 432x288 with 1 Axes>"
      ]
     },
     "metadata": {
      "needs_background": "light"
     },
     "output_type": "display_data"
    }
   ],
   "source": [
    "plt.figure()\n",
    "plt.title('Distribution of Linear Regression Model Predictions')\n",
    "plt.ylabel('Count')\n",
    "plt.xlabel('Prediction Value')\n",
    "plt.hist(lm_pred_tr, label = \"Training\")\n",
    "plt.hist(lm_pred_test, label = \"Testing\")\n",
    "plt.legend(loc = 'best')"
   ]
  },
  {
   "cell_type": "markdown",
   "metadata": {},
   "source": [
    "<div class='theme'> Multiple Logistic Regression Model </div>"
   ]
  },
  {
   "cell_type": "markdown",
   "metadata": {},
   "source": [
    "#### Simple Multiple Logistic Model"
   ]
  },
  {
   "cell_type": "code",
   "execution_count": 7,
   "metadata": {},
   "outputs": [
    {
     "name": "stderr",
     "output_type": "stream",
     "text": [
      "C:\\Users\\blue4\\Anaconda3\\lib\\site-packages\\sklearn\\linear_model\\logistic.py:432: FutureWarning: Default solver will be changed to 'lbfgs' in 0.22. Specify a solver to silence this warning.\n",
      "  FutureWarning)\n"
     ]
    },
    {
     "name": "stdout",
     "output_type": "stream",
     "text": [
      "Simple Logistic Model Training Set Accuracy: 59.99606840967171%\n",
      "Simple Logistic Model Testing Set Accuracy: 54.24528301886793%\n"
     ]
    }
   ],
   "source": [
    "#Training\n",
    "log_model = LogisticRegression(C=100000).fit(X_train, y_train)\n",
    "#Predict\n",
    "y_tr_pred = log_model.predict(X_train)\n",
    "y_test_pred = log_model.predict(X_test)\n",
    "#Performance Evaluation\n",
    "tr_score_log = accuracy_score(y_train, y_tr_pred)*100\n",
    "test_score_log = accuracy_score(y_test, y_test_pred)*100\n",
    "\n",
    "print(\"Simple Logistic Model Training Set Accuracy:\",str(tr_score_log)+'%')\n",
    "print(\"Simple Logistic Model Testing Set Accuracy:\",str(test_score_log)+'%')"
   ]
  },
  {
   "cell_type": "code",
   "execution_count": 8,
   "metadata": {},
   "outputs": [
    {
     "data": {
      "text/plain": [
       "Text(0.5, 0, 'Probability')"
      ]
     },
     "execution_count": 8,
     "metadata": {},
     "output_type": "execute_result"
    },
    {
     "data": {
      "image/png": "[encoded data removed]",
      "text/plain": [
       "<Figure size 432x288 with 2 Axes>"
      ]
     },
     "metadata": {
      "needs_background": "light"
     },
     "output_type": "display_data"
    }
   ],
   "source": [
    "fig, (ax1, ax2) = plt.subplots(2)\n",
    "ax1.set_title('Probability Estimate Distributions in Binary Classification')\n",
    "ax1.hist(log_model.predict_proba(X_train), label = ['0', '1'])\n",
    "ax2.hist(log_model.predict_proba(X_test), label = ['0', '1'])\n",
    "ax1.legend()\n",
    "ax2.legend()\n",
    "ax1.set_ylabel('Tweet Count')\n",
    "ax2.set_ylabel('Tweet Count')\n",
    "ax2.set_xlabel('Probability')"
   ]
  },
  {
   "cell_type": "markdown",
   "metadata": {},
   "source": [
    "#### Regularized Multiple Logistic Model"
   ]
  },
  {
   "cell_type": "code",
   "execution_count": 9,
   "metadata": {
    "scrolled": true
   },
   "outputs": [
    {
     "name": "stdout",
     "output_type": "stream",
     "text": [
      "Regularized Logistic Model Training Set Accuracy: 57.656772164340474%\n",
      "Regularized Logistic Model Testing Set Accuracy: 55.11006289308176%\n"
     ]
    }
   ],
   "source": [
    "log_model_cv = LogisticRegressionCV(penalty = 'l2', solver = 'liblinear',cv = 5, max_iter = 10000).fit(X_train, y_train)\n",
    "#Predict\n",
    "y_pred_cv = log_model_cv.predict(X_train)\n",
    "y_pred_test_cv = log_model_cv.predict(X_test)\n",
    "#Performance Evaluation\n",
    "tr_score_cv = accuracy_score(y_train, y_pred_cv)*100\n",
    "test_score_cv = accuracy_score(y_test, y_pred_test_cv)*100\n",
    "\n",
    "print(\"Regularized Logistic Model Training Set Accuracy:\",str(tr_score_cv)+'%')\n",
    "print(\"Regularized Logistic Model Testing Set Accuracy:\",str(test_score_cv)+'%')"
   ]
  },
  {
   "cell_type": "code",
   "execution_count": 10,
   "metadata": {},
   "outputs": [
    {
     "data": {
      "text/plain": [
       "Text(0.5, 0, 'Probability')"
      ]
     },
     "execution_count": 10,
     "metadata": {},
     "output_type": "execute_result"
    },
    {
     "data": {
      "image/png": "[encoded data removed]",
      "text/plain": [
       "<Figure size 432x288 with 2 Axes>"
      ]
     },
     "metadata": {
      "needs_background": "light"
     },
     "output_type": "display_data"
    }
   ],
   "source": [
    "fig, (ax1, ax2) = plt.subplots(2)\n",
    "ax1.set_title('Regularized Log Model: Probability Estimate Distributions in Binary Classification')\n",
    "ax1.hist(log_model_cv.predict_proba(X_train), label = ['0', '1'])\n",
    "ax2.hist(log_model_cv.predict_proba(X_test), label = ['0', '1'])\n",
    "ax1.legend()\n",
    "ax2.legend()\n",
    "ax1.set_ylabel('Tweet Count')\n",
    "ax2.set_ylabel('Tweet Count')\n",
    "ax2.set_xlabel('Probability')"
   ]
  },
  {
   "cell_type": "markdown",
   "metadata": {},
   "source": [
    "<div class='theme'> Random Forest Model </div>"
   ]
  },
  {
   "cell_type": "markdown",
   "metadata": {},
   "source": [
    "##### Finding the Best Depth for Random Forest Classifier"
   ]
  },
  {
   "cell_type": "code",
   "execution_count": 11,
   "metadata": {},
   "outputs": [],
   "source": [
    "def calc_meanstd(X_train, y_train, depths):\n",
    "    train_scores = {}\n",
    "    cvmeans = {}\n",
    "    cvstds = {}\n",
    "    for depth in depths:\n",
    "        model = DecisionTreeClassifier(max_depth = depth)\n",
    "        score = cross_val_score(estimator=model, X = X_train, y = y_train, cv=5, n_jobs = -1)\n",
    "        train_scores[depth] = score\n",
    "        cvmeans[depth] = score.mean()\n",
    "        cvstds[depth] = score.std()\n",
    "    return cvmeans, cvstds, train_scores\n",
    "\n",
    "cvmeans, cvstds, train_scores = calc_meanstd(X_train, y_train, depths = list(range(1,51)))\n",
    "best_depth = max(cvmeans, key=cvmeans.get)"
   ]
  },
  {
   "cell_type": "markdown",
   "metadata": {},
   "source": [
    "#### Random Forest Model"
   ]
  },
  {
   "cell_type": "code",
   "execution_count": 12,
   "metadata": {
    "scrolled": true
   },
   "outputs": [
    {
     "name": "stdout",
     "output_type": "stream",
     "text": [
      "Random Forest Model Training Accuracy Score:  65.12679378808728 %\n",
      "Random Forest Model Testing Accuracy Score:  56.91823899371069 %\n"
     ]
    }
   ],
   "source": [
    "rf_model = RandomForestClassifier(n_estimators = 50, max_depth = 6, max_features = 'sqrt').fit(X_train, y_train)\n",
    "random_forest_test_score = accuracy_score(y_test, rf_model.predict(X_test))*100\n",
    "random_forest_train_score = accuracy_score(y_train, rf_model.predict(X_train))*100\n",
    "print('Random Forest Model Training Accuracy Score: ', random_forest_train_score, '%')\n",
    "print('Random Forest Model Testing Accuracy Score: ', random_forest_test_score, '%')"
   ]
  },
  {
   "cell_type": "markdown",
   "metadata": {},
   "source": [
    "##### Visualization"
   ]
  },
  {
   "cell_type": "code",
   "execution_count": 13,
   "metadata": {},
   "outputs": [],
   "source": [
    "def graph_acc(depth):\n",
    "    testing = {}\n",
    "    training = {}\n",
    "    for i in range(depth):\n",
    "        rf = RandomForestClassifier(n_estimators = 50, max_depth = i+1, max_features = 'sqrt').fit(X_train, y_train)\n",
    "        training[i] = accuracy_score(y_train, rf.predict(X_train))\n",
    "        testing[i] = accuracy_score(y_test, rf.predict(X_test))\n",
    "    return training, testing\n",
    "tr_list, test_list = graph_acc(10)"
   ]
  },
  {
   "cell_type": "code",
   "execution_count": 14,
   "metadata": {
    "scrolled": false
   },
   "outputs": [
    {
     "data": {
      "image/png": "[encoded data removed]",
      "text/plain": [
       "<Figure size 432x288 with 1 Axes>"
      ]
     },
     "metadata": {
      "needs_background": "light"
     },
     "output_type": "display_data"
    }
   ],
   "source": [
    "plt.figure()\n",
    "plt.title('Accuracy Scores by Depth')\n",
    "plt.xlabel('depth')\n",
    "plt.ylabel('Accuracy Scores')\n",
    "plt.plot(*zip(*sorted(tr_list.items())), label = 'Training')\n",
    "plt.plot(*zip(*sorted(test_list.items())), label = 'Testing')\n",
    "plt.legend(loc = 'upper left')\n",
    "plt.show()"
   ]
  },
  {
   "cell_type": "code",
   "execution_count": 15,
   "metadata": {},
   "outputs": [
    {
     "data": {
      "text/plain": [
       "Text(0.5, 0, 'Probability')"
      ]
     },
     "execution_count": 15,
     "metadata": {},
     "output_type": "execute_result"
    },
    {
     "data": {
      "image/png": "[encoded data removed]",
      "text/plain": [
       "<Figure size 432x288 with 2 Axes>"
      ]
     },
     "metadata": {
      "needs_background": "light"
     },
     "output_type": "display_data"
    }
   ],
   "source": [
    "fig, (ax1, ax2) = plt.subplots(2)\n",
    "ax1.set_title('RF Model: Probability Estimate Distributions in Binary Classification')\n",
    "ax1.hist(rf_model.predict_proba(X_train), label = ['0', '1'])\n",
    "ax2.hist(rf_model.predict_proba(X_test), label = ['0', '1'])\n",
    "ax1.legend()\n",
    "ax2.legend()\n",
    "ax1.set_ylabel('Tweet Count')\n",
    "ax2.set_ylabel('Tweet Count')\n",
    "ax2.set_xlabel('Probability')"
   ]
  },
  {
   "cell_type": "code",
   "execution_count": 16,
   "metadata": {},
   "outputs": [],
   "source": [
    "predictions = pd.DataFrame(rf_model.predict(X_test), index = index)\n",
    "dates = pd.DataFrame(datetimes[index], index = index)\n",
    "rf_prediction = pd.concat([predictions, dates], axis = 1)\n",
    "# rf_prediction.to_csv('data/rf_prediction')"
   ]
  },
  {
   "cell_type": "markdown",
   "metadata": {},
   "source": [
    "##### Most important features from Random Forest Model"
   ]
  },
  {
   "cell_type": "code",
   "execution_count": 17,
   "metadata": {
    "scrolled": true
   },
   "outputs": [
    {
     "data": {
      "text/plain": [
       "['usa',\n",
       " 'last',\n",
       " 'favorite_count',\n",
       " 'north',\n",
       " 'hour',\n",
       " 'retweet_count',\n",
       " 'military',\n",
       " 'also',\n",
       " 'korea',\n",
       " 'history']"
      ]
     },
     "execution_count": 17,
     "metadata": {},
     "output_type": "execute_result"
    }
   ],
   "source": [
    "feature_list = dict(zip(X_train.columns.values, rf_model.feature_importances_))\n",
    "top_10_features = sorted(feature_list, key = feature_list.get, reverse = True)[:10]\n",
    "top_10_features"
   ]
  },
  {
   "cell_type": "markdown",
   "metadata": {},
   "source": [
    "<div class='theme'> Neural Network </div>"
   ]
  },
  {
   "cell_type": "code",
   "execution_count": 18,
   "metadata": {},
   "outputs": [
    {
     "name": "stdout",
     "output_type": "stream",
     "text": [
      "WARNING:tensorflow:Large dropout rate: 0.6 (>0.5). In TensorFlow 2.x, dropout() uses dropout rate instead of keep_prob. Please ensure that this is intended.\n"
     ]
    }
   ],
   "source": [
    "model = Sequential()\n",
    "model.add(Dense(16, input_shape = (152,), activation = 'relu'))\n",
    "model.add(Dense(32, activation = 'relu',kernel_regularizer=regularizers.l2(0.01)))\n",
    "model.add(Dropout(.6))\n",
    "model.add(Dense(1, activation = 'sigmoid'))\n",
    "model.compile(optimizer = 'adam',loss = 'binary_crossentropy', metrics = ['accuracy'])"
   ]
  },
  {
   "cell_type": "code",
   "execution_count": 19,
   "metadata": {},
   "outputs": [
    {
     "name": "stdout",
     "output_type": "stream",
     "text": [
      "WARNING:tensorflow:Falling back from v2 loop because of error: Failed to find data adapter that can handle input: <class 'pandas.core.frame.DataFrame'>, <class 'NoneType'>\n",
      "WARNING:tensorflow:From C:\\Users\\blue4\\Anaconda3\\lib\\site-packages\\tensorflow_core\\python\\ops\\math_grad.py:1424: where (from tensorflow.python.ops.array_ops) is deprecated and will be removed in a future version.\n",
      "Instructions for updating:\n",
      "Use tf.where in 2.0, which has the same broadcast rule as np.where\n",
      "Train on 4069 samples, validate on 1018 samples\n",
      "Epoch 1/50\n",
      "4069/4069 [==============================] - 1s 172us/sample - loss: 0.9440 - accuracy: 0.4940 - val_loss: 0.8281 - val_accuracy: 0.5324\n",
      "Epoch 2/50\n",
      "4069/4069 [==============================] - 0s 90us/sample - loss: 0.8080 - accuracy: 0.5446 - val_loss: 0.7791 - val_accuracy: 0.5540\n",
      "Epoch 3/50\n",
      "4069/4069 [==============================] - 0s 89us/sample - loss: 0.7672 - accuracy: 0.5594 - val_loss: 0.7497 - val_accuracy: 0.5452\n",
      "Epoch 4/50\n",
      "4069/4069 [==============================] - 0s 89us/sample - loss: 0.7354 - accuracy: 0.5761 - val_loss: 0.7312 - val_accuracy: 0.5472\n",
      "Epoch 5/50\n",
      "4069/4069 [==============================] - 0s 90us/sample - loss: 0.7138 - accuracy: 0.5802 - val_loss: 0.7202 - val_accuracy: 0.5540\n",
      "Epoch 6/50\n",
      "4069/4069 [==============================] - 0s 90us/sample - loss: 0.7023 - accuracy: 0.5893 - val_loss: 0.7131 - val_accuracy: 0.5501\n",
      "Epoch 7/50\n",
      "4069/4069 [==============================] - 0s 89us/sample - loss: 0.6941 - accuracy: 0.5881 - val_loss: 0.7092 - val_accuracy: 0.5432\n",
      "Epoch 8/50\n",
      "4069/4069 [==============================] - 0s 88us/sample - loss: 0.6844 - accuracy: 0.5955 - val_loss: 0.7074 - val_accuracy: 0.5442\n",
      "Epoch 9/50\n",
      "4069/4069 [==============================] - 0s 90us/sample - loss: 0.6830 - accuracy: 0.5997 - val_loss: 0.7075 - val_accuracy: 0.5344\n",
      "Epoch 10/50\n",
      "4069/4069 [==============================] - 0s 92us/sample - loss: 0.6768 - accuracy: 0.6051 - val_loss: 0.7089 - val_accuracy: 0.5354\n",
      "Epoch 11/50\n",
      "4069/4069 [==============================] - 0s 90us/sample - loss: 0.6689 - accuracy: 0.6159 - val_loss: 0.7105 - val_accuracy: 0.5354\n",
      "Epoch 12/50\n",
      "4069/4069 [==============================] - 0s 89us/sample - loss: 0.6652 - accuracy: 0.6169 - val_loss: 0.7169 - val_accuracy: 0.5265\n",
      "Epoch 13/50\n",
      "4069/4069 [==============================] - 0s 89us/sample - loss: 0.6574 - accuracy: 0.6272 - val_loss: 0.7215 - val_accuracy: 0.5324\n",
      "Epoch 14/50\n",
      "4069/4069 [==============================] - 0s 91us/sample - loss: 0.6498 - accuracy: 0.6363 - val_loss: 0.7252 - val_accuracy: 0.5393\n",
      "Epoch 15/50\n",
      "4069/4069 [==============================] - 0s 95us/sample - loss: 0.6455 - accuracy: 0.6387 - val_loss: 0.7342 - val_accuracy: 0.5363\n",
      "Epoch 16/50\n",
      "4069/4069 [==============================] - 0s 89us/sample - loss: 0.6361 - accuracy: 0.6564 - val_loss: 0.7462 - val_accuracy: 0.5285\n",
      "Epoch 17/50\n",
      "4069/4069 [==============================] - 0s 83us/sample - loss: 0.6319 - accuracy: 0.6636 - val_loss: 0.7419 - val_accuracy: 0.5305\n",
      "Epoch 18/50\n",
      "4069/4069 [==============================] - 0s 77us/sample - loss: 0.6253 - accuracy: 0.6739 - val_loss: 0.7559 - val_accuracy: 0.5216\n",
      "Epoch 19/50\n",
      "4069/4069 [==============================] - 0s 87us/sample - loss: 0.6152 - accuracy: 0.6768 - val_loss: 0.7562 - val_accuracy: 0.5373\n",
      "Epoch 20/50\n",
      "4069/4069 [==============================] - 0s 91us/sample - loss: 0.6059 - accuracy: 0.6899 - val_loss: 0.7726 - val_accuracy: 0.5334\n",
      "Epoch 21/50\n",
      "4069/4069 [==============================] - 0s 84us/sample - loss: 0.5949 - accuracy: 0.7093 - val_loss: 0.7874 - val_accuracy: 0.5265\n",
      "Epoch 22/50\n",
      "4069/4069 [==============================] - 0s 72us/sample - loss: 0.5860 - accuracy: 0.7112 - val_loss: 0.7961 - val_accuracy: 0.5285\n",
      "Epoch 23/50\n",
      "4069/4069 [==============================] - 0s 61us/sample - loss: 0.5752 - accuracy: 0.7184 - val_loss: 0.8108 - val_accuracy: 0.5226\n",
      "Epoch 24/50\n",
      "4069/4069 [==============================] - 0s 72us/sample - loss: 0.5665 - accuracy: 0.7267 - val_loss: 0.8206 - val_accuracy: 0.5334\n",
      "Epoch 25/50\n",
      "4069/4069 [==============================] - 0s 85us/sample - loss: 0.5601 - accuracy: 0.7299 - val_loss: 0.8359 - val_accuracy: 0.5354\n",
      "Epoch 26/50\n",
      "4069/4069 [==============================] - 0s 90us/sample - loss: 0.5519 - accuracy: 0.7400 - val_loss: 0.8484 - val_accuracy: 0.5226\n",
      "Epoch 27/50\n",
      "4069/4069 [==============================] - 0s 87us/sample - loss: 0.5389 - accuracy: 0.7537 - val_loss: 0.8556 - val_accuracy: 0.5334\n",
      "Epoch 28/50\n",
      "4069/4069 [==============================] - 0s 93us/sample - loss: 0.5303 - accuracy: 0.7569 - val_loss: 0.8847 - val_accuracy: 0.5314\n",
      "Epoch 29/50\n",
      "4069/4069 [==============================] - 0s 91us/sample - loss: 0.5178 - accuracy: 0.7606 - val_loss: 0.9058 - val_accuracy: 0.5275\n",
      "Epoch 30/50\n",
      "4069/4069 [==============================] - 0s 85us/sample - loss: 0.5101 - accuracy: 0.7631 - val_loss: 0.9143 - val_accuracy: 0.5196\n",
      "Epoch 31/50\n",
      "4069/4069 [==============================] - 0s 89us/sample - loss: 0.5064 - accuracy: 0.7722 - val_loss: 0.9392 - val_accuracy: 0.5187\n",
      "Epoch 32/50\n",
      "4069/4069 [==============================] - 0s 90us/sample - loss: 0.4956 - accuracy: 0.7778 - val_loss: 0.9604 - val_accuracy: 0.5118\n",
      "Epoch 33/50\n",
      "4069/4069 [==============================] - 0s 87us/sample - loss: 0.4879 - accuracy: 0.7823 - val_loss: 0.9668 - val_accuracy: 0.5226\n",
      "Epoch 34/50\n",
      "4069/4069 [==============================] - 0s 101us/sample - loss: 0.4902 - accuracy: 0.7837 - val_loss: 0.9753 - val_accuracy: 0.5226\n",
      "Epoch 35/50\n",
      "4069/4069 [==============================] - 0s 99us/sample - loss: 0.4761 - accuracy: 0.7882 - val_loss: 1.0091 - val_accuracy: 0.5246\n",
      "Epoch 36/50\n",
      "4069/4069 [==============================] - 0s 99us/sample - loss: 0.4756 - accuracy: 0.7904 - val_loss: 1.0362 - val_accuracy: 0.5206\n",
      "Epoch 37/50\n",
      "4069/4069 [==============================] - 0s 94us/sample - loss: 0.4646 - accuracy: 0.7992 - val_loss: 1.0525 - val_accuracy: 0.5049\n",
      "Epoch 38/50\n",
      "4069/4069 [==============================] - 0s 84us/sample - loss: 0.4604 - accuracy: 0.8022 - val_loss: 1.0783 - val_accuracy: 0.5118\n",
      "Epoch 39/50\n",
      "4069/4069 [==============================] - 0s 91us/sample - loss: 0.4525 - accuracy: 0.8022 - val_loss: 1.0829 - val_accuracy: 0.5196\n",
      "Epoch 40/50\n",
      "4069/4069 [==============================] - 0s 91us/sample - loss: 0.4503 - accuracy: 0.8086 - val_loss: 1.0833 - val_accuracy: 0.5216\n",
      "Epoch 41/50\n",
      "4069/4069 [==============================] - 0s 96us/sample - loss: 0.4401 - accuracy: 0.8140 - val_loss: 1.1380 - val_accuracy: 0.5157\n",
      "Epoch 42/50\n",
      "4069/4069 [==============================] - 0s 94us/sample - loss: 0.4435 - accuracy: 0.8169 - val_loss: 1.1027 - val_accuracy: 0.5255\n",
      "Epoch 43/50\n",
      "4069/4069 [==============================] - 0s 100us/sample - loss: 0.4362 - accuracy: 0.8130 - val_loss: 1.1230 - val_accuracy: 0.5167\n",
      "Epoch 44/50\n",
      "4069/4069 [==============================] - 0s 93us/sample - loss: 0.4277 - accuracy: 0.8277 - val_loss: 1.1634 - val_accuracy: 0.5216\n",
      "Epoch 45/50\n",
      "4069/4069 [==============================] - 0s 92us/sample - loss: 0.4243 - accuracy: 0.8231 - val_loss: 1.1537 - val_accuracy: 0.5354\n",
      "Epoch 46/50\n",
      "4069/4069 [==============================] - 0s 92us/sample - loss: 0.4206 - accuracy: 0.8258 - val_loss: 1.1696 - val_accuracy: 0.5138\n",
      "Epoch 47/50\n",
      "4069/4069 [==============================] - 0s 91us/sample - loss: 0.4198 - accuracy: 0.8262 - val_loss: 1.2149 - val_accuracy: 0.5206\n",
      "Epoch 48/50\n",
      "4069/4069 [==============================] - 0s 97us/sample - loss: 0.4172 - accuracy: 0.8265 - val_loss: 1.1937 - val_accuracy: 0.5344\n",
      "Epoch 49/50\n",
      "4069/4069 [==============================] - 0s 107us/sample - loss: 0.4071 - accuracy: 0.8329 - val_loss: 1.2771 - val_accuracy: 0.5285\n",
      "Epoch 50/50\n",
      "4069/4069 [==============================] - 0s 99us/sample - loss: 0.4047 - accuracy: 0.8346 - val_loss: 1.3087 - val_accuracy: 0.5108\n"
     ]
    }
   ],
   "source": [
    "hist = model.fit(X_train, y_train, validation_split = .2, batch_size = 32, epochs = 50)"
   ]
  },
  {
   "cell_type": "markdown",
   "metadata": {},
   "source": [
    "##### Visualization"
   ]
  },
  {
   "cell_type": "code",
   "execution_count": 20,
   "metadata": {},
   "outputs": [
    {
     "data": {
      "text/plain": [
       "[<matplotlib.lines.Line2D at 0x261bc9456d8>]"
      ]
     },
     "execution_count": 20,
     "metadata": {},
     "output_type": "execute_result"
    },
    {
     "data": {
      "image/png": "[encoded data removed]",
      "text/plain": [
       "<Figure size 432x288 with 1 Axes>"
      ]
     },
     "metadata": {
      "needs_background": "light"
     },
     "output_type": "display_data"
    }
   ],
   "source": [
    "plt.plot(hist.history['accuracy'])\n",
    "plt.plot(hist.history['val_accuracy'])"
   ]
  },
  {
   "cell_type": "markdown",
   "metadata": {},
   "source": [
    "##### Neural Network Results"
   ]
  },
  {
   "cell_type": "code",
   "execution_count": 21,
   "metadata": {},
   "outputs": [
    {
     "name": "stdout",
     "output_type": "stream",
     "text": [
      "WARNING:tensorflow:Falling back from v2 loop because of error: Failed to find data adapter that can handle input: <class 'pandas.core.frame.DataFrame'>, <class 'NoneType'>\n",
      "WARNING:tensorflow:Falling back from v2 loop because of error: Failed to find data adapter that can handle input: <class 'pandas.core.frame.DataFrame'>, <class 'NoneType'>\n"
     ]
    }
   ],
   "source": [
    "predictions_train = model.predict(X_train)\n",
    "predictions_test = model.predict(X_test)\n",
    "prediction = pd.DataFrame(predictions_test, index = X_test.index)\n",
    "dates = temp.iloc[X_test.index]['created_at']\n",
    "neural_predict = pd.concat([prediction, dates], axis = 1)\n",
    "# neural_predict.to_csv('data/neural_prediction')"
   ]
  },
  {
   "cell_type": "code",
   "execution_count": 22,
   "metadata": {},
   "outputs": [],
   "source": [
    "predict_tr = [1 if x > .9 else 0 for x in predictions_train]\n",
    "predict_test = [1 if x > .9 else 0 for x in predictions_test]\n",
    "nn_tr_score = accuracy_score(y_train, predict_tr)*100\n",
    "nn_test_score = accuracy_score(y_test, predict_test)*100\n",
    "# index = np.where(prediction[0] > .9)[0]\n",
    "# top_tweet = temp.iloc[np.where(prediction[0] > .90)]['text'][488]\n",
    "# print('tweet that would raise stock market is: ', top_tweet)\n",
    "# worst_tweet = temp.iloc[np.where(prediction[0] < .01)]['text'][899]\n",
    "# print('tweet that would lower stock market is: ', worst_tweet)"
   ]
  },
  {
   "cell_type": "markdown",
   "metadata": {},
   "source": [
    "# Model Results"
   ]
  },
  {
   "cell_type": "code",
   "execution_count": 23,
   "metadata": {},
   "outputs": [
    {
     "data": {
      "text/html": [
       "<div>\n",
       "<style scoped>\n",
       "    .dataframe tbody tr th:only-of-type {\n",
       "        vertical-align: middle;\n",
       "    }\n",
       "\n",
       "    .dataframe tbody tr th {\n",
       "        vertical-align: top;\n",
       "    }\n",
       "\n",
       "    .dataframe thead th {\n",
       "        text-align: right;\n",
       "    }\n",
       "</style>\n",
       "<table border=\"1\" class=\"dataframe\">\n",
       "  <thead>\n",
       "    <tr style=\"text-align: right;\">\n",
       "      <th></th>\n",
       "      <th>Training Accuracy (%)</th>\n",
       "      <th>Testing Accuracy (%)</th>\n",
       "    </tr>\n",
       "  </thead>\n",
       "  <tbody>\n",
       "    <tr>\n",
       "      <th>Linear Regression</th>\n",
       "      <td>60.035384</td>\n",
       "      <td>54.481132</td>\n",
       "    </tr>\n",
       "    <tr>\n",
       "      <th>Simple Logistic</th>\n",
       "      <td>59.996068</td>\n",
       "      <td>54.245283</td>\n",
       "    </tr>\n",
       "    <tr>\n",
       "      <th>Regularized Logistic</th>\n",
       "      <td>57.656772</td>\n",
       "      <td>55.110063</td>\n",
       "    </tr>\n",
       "    <tr>\n",
       "      <th>Random Forest</th>\n",
       "      <td>65.126794</td>\n",
       "      <td>56.918239</td>\n",
       "    </tr>\n",
       "    <tr>\n",
       "      <th>Neural Network</th>\n",
       "      <td>72.380578</td>\n",
       "      <td>56.053459</td>\n",
       "    </tr>\n",
       "  </tbody>\n",
       "</table>\n",
       "</div>"
      ],
      "text/plain": [
       "                      Training Accuracy (%)  Testing Accuracy (%)\n",
       "Linear Regression                 60.035384             54.481132\n",
       "Simple Logistic                   59.996068             54.245283\n",
       "Regularized Logistic              57.656772             55.110063\n",
       "Random Forest                     65.126794             56.918239\n",
       "Neural Network                    72.380578             56.053459"
      ]
     },
     "execution_count": 23,
     "metadata": {},
     "output_type": "execute_result"
    }
   ],
   "source": [
    "names = []\n",
    "scores = []\n",
    "scores.append([[lm_score_tr, lm_score_test], [tr_score_log, test_score_log],\n",
    "               [tr_score_cv, test_score_cv], [random_forest_train_score, random_forest_test_score], [nn_tr_score, nn_test_score]])\n",
    "names.append(['Linear Regression', 'Simple Logistic', 'Regularized Logistic', 'Random Forest', 'Neural Network'])\n",
    "results_df = pd.DataFrame(scores[0], index = names[0], columns = ['Training Accuracy (%)', 'Testing Accuracy (%)'])\n",
    "results_df"
   ]
  },
  {
   "cell_type": "markdown",
   "metadata": {},
   "source": [
    "# Best Model: Random Forest"
   ]
  },
  {
   "cell_type": "markdown",
   "metadata": {},
   "source": [
    "## Feature Importance "
   ]
  },
  {
   "cell_type": "code",
   "execution_count": 24,
   "metadata": {},
   "outputs": [
    {
     "name": "stdout",
     "output_type": "stream",
     "text": [
      "the best features were \n",
      " ['usa', 'last', 'favorite_count', 'north', 'hour', 'retweet_count', 'military', 'also', 'korea', 'history']\n"
     ]
    }
   ],
   "source": [
    "feature_list = dict(zip(X_train.columns.values, rf_model.feature_importances_))\n",
    "top_10_features = sorted(feature_list, key = feature_list.get, reverse = True)[:10]\n",
    "print('the best features were \\n',top_10_features)"
   ]
  },
  {
   "cell_type": "code",
   "execution_count": 25,
   "metadata": {},
   "outputs": [
    {
     "data": {
      "text/plain": [
       "Text(0.5, 0, 'Predictors')"
      ]
     },
     "execution_count": 25,
     "metadata": {},
     "output_type": "execute_result"
    },
    {
     "data": {
      "image/png": "[encoded data removed]",
      "text/plain": [
       "<Figure size 432x288 with 1 Axes>"
      ]
     },
     "metadata": {
      "needs_background": "light"
     },
     "output_type": "display_data"
    }
   ],
   "source": [
    "importance_rf_values = []\n",
    "for i in top_10_features:\n",
    "    importance_rf_values.append(feature_list.get(i))\n",
    "plt.bar(np.arange(0, len(importance_rf_values)), importance_rf_values, tick_label = top_10_features)\n",
    "plt.xticks(rotation = 90)\n",
    "plt.title('Top 10 features in the Random Forest')\n",
    "plt.xlabel('Predictors')"
   ]
  },
  {
   "cell_type": "code",
   "execution_count": 26,
   "metadata": {},
   "outputs": [
    {
     "name": "stdout",
     "output_type": "stream",
     "text": [
      "the worst features were \n",
      " ['help', 'immigration', 'work', 'day', 'polarity', 'always', 'big', 'economy', 'forward', 'year']\n"
     ]
    }
   ],
   "source": [
    "worst_10_features = sorted(feature_list, key = feature_list.get, reverse = True)[-10:]\n",
    "print('the worst features were \\n', worst_10_features)"
   ]
  },
  {
   "cell_type": "code",
   "execution_count": 27,
   "metadata": {},
   "outputs": [
    {
     "data": {
      "text/plain": [
       "Text(0.5, 0, 'Predictors')"
      ]
     },
     "execution_count": 27,
     "metadata": {},
     "output_type": "execute_result"
    },
    {
     "data": {
      "image/png": "[encoded data removed]",
      "text/plain": [
       "<Figure size 432x288 with 1 Axes>"
      ]
     },
     "metadata": {
      "needs_background": "light"
     },
     "output_type": "display_data"
    }
   ],
   "source": [
    "nimportance_rf_values = []\n",
    "for i in worst_10_features:\n",
    "    nimportance_rf_values.append(feature_list.get(i))\n",
    "plt.bar(np.arange(0, len(nimportance_rf_values)), nimportance_rf_values, tick_label = worst_10_features)\n",
    "plt.xticks(rotation = 90)\n",
    "plt.title('Worst 10 features in the Random Forest')\n",
    "plt.xlabel('Predictors')"
   ]
  },
  {
   "cell_type": "markdown",
   "metadata": {},
   "source": [
    "## Error Analysis "
   ]
  },
  {
   "cell_type": "code",
   "execution_count": 28,
   "metadata": {},
   "outputs": [
    {
     "name": "stdout",
     "output_type": "stream",
     "text": [
      "original rf \n",
      " [[702  17]\n",
      " [531  22]]\n",
      "forced rf \n",
      " [[346 373]\n",
      " [290 263]]\n"
     ]
    },
    {
     "data": {
      "image/png": "[encoded data removed]",
      "text/plain": [
       "<Figure size 432x288 with 2 Axes>"
      ]
     },
     "metadata": {
      "needs_background": "light"
     },
     "output_type": "display_data"
    }
   ],
   "source": [
    "from sklearn.metrics import confusion_matrix\n",
    "original_rf_matrix = confusion_matrix(y_test, rf_model.predict(X_test))\n",
    "print('original rf \\n' , original_rf_matrix)\n",
    "distribution = pd.DataFrame(rf_model.predict_proba(X_test))[1]\n",
    "half = np.quantile(distribution, .5)\n",
    "forced_rf_predictions = [0 if x > half else 1 for x in distribution]\n",
    "forced_rf_matrix = confusion_matrix(y_test, forced_rf_predictions)\n",
    "print('forced rf \\n' , forced_rf_matrix )\n",
    "figure, axis = plt.subplots()\n",
    "\n",
    "color = axis.matshow(original_rf_matrix)\n",
    "figure.colorbar(color)\n",
    "axis.set_xlabel('Predicted')\n",
    "axis.set_ylabel('True')\n",
    "axis.set_title('Confusion Matrix for Random Forest')\n",
    "plt.show()"
   ]
  },
  {
   "cell_type": "code",
   "execution_count": 29,
   "metadata": {},
   "outputs": [
    {
     "data": {
      "text/plain": [
       "Text(0, 0.5, 'Accuracy')"
      ]
     },
     "execution_count": 29,
     "metadata": {},
     "output_type": "execute_result"
    },
    {
     "data": {
      "image/png": "[encoded data removed]",
      "text/plain": [
       "<Figure size 432x288 with 1 Axes>"
      ]
     },
     "metadata": {
      "needs_background": "light"
     },
     "output_type": "display_data"
    }
   ],
   "source": [
    "plt.plot(hist.history['accuracy'])\n",
    "plt.plot(hist.history['val_accuracy'])\n",
    "plt.legend(['Train', 'Test'])\n",
    "plt.title('Accuracy Over Epochs')\n",
    "plt.xlabel('Epochs')\n",
    "plt.ylabel('Accuracy')"
   ]
  },
  {
   "cell_type": "markdown",
   "metadata": {},
   "source": [
    "Comment: Very high False negatives. Many predicted 0s were 1s. "
   ]
  },
  {
   "cell_type": "markdown",
   "metadata": {},
   "source": [
    "## Examples of Predictions "
   ]
  },
  {
   "cell_type": "code",
   "execution_count": 30,
   "metadata": {},
   "outputs": [
    {
     "name": "stdout",
     "output_type": "stream",
     "text": [
      "tweet associated with highest probability of stock going up \n",
      " \n",
      " ['Congratulations @MarianoRivera! https://t.co/ek4VGj0p0s'\n",
      " 'Congratulations @ArmyWP_Football!https://t.co/jzc35XNLl3']\n",
      "\n",
      "\n",
      "tweet associated with highest probability of stock going down \n",
      " \n",
      "  ['Financial and jobs numbers are fantastic. There are plenty of new high paying jobs available in our great and very vibrant economy. If you are not happy where you are start looking - but also remember our economy is only getting better. Vote in Midterms!']\n"
     ]
    }
   ],
   "source": [
    "stock_up_prediction  = min(distribution)\n",
    "print('tweet associated with highest probability of stock going up \\n \\n',temp.iloc[index[np.where(distribution == stock_up_prediction)[0]]]['text'].values)\n",
    "\n",
    "print('\\n')\n",
    "stock_down_prediction  = max(distribution)\n",
    "print('tweet associated with highest probability of stock going down \\n \\n ', temp.iloc[index[np.where(distribution == stock_down_prediction)[0]]]['text'].values)"
   ]
  },
  {
   "cell_type": "code",
   "execution_count": 31,
   "metadata": {},
   "outputs": [
    {
     "data": {
      "text/plain": [
       "Text(0.5, 1.0, 'Distribution of Predicted Probabilities - Random Forest')"
      ]
     },
     "execution_count": 31,
     "metadata": {},
     "output_type": "execute_result"
    },
    {
     "data": {
      "image/png": "[encoded data removed]",
      "text/plain": [
       "<Figure size 432x288 with 1 Axes>"
      ]
     },
     "metadata": {
      "needs_background": "light"
     },
     "output_type": "display_data"
    }
   ],
   "source": [
    "plt.hist(distribution)\n",
    "plt.xlabel('Prediction Probability')\n",
    "plt.title('Distribution of Predicted Probabilities - Random Forest')"
   ]
  },
  {
   "cell_type": "markdown",
   "metadata": {},
   "source": [
    "# Second Best: Neural Network"
   ]
  },
  {
   "cell_type": "markdown",
   "metadata": {},
   "source": [
    "## Error Analysis "
   ]
  },
  {
   "cell_type": "code",
   "execution_count": 32,
   "metadata": {},
   "outputs": [
    {
     "name": "stdout",
     "output_type": "stream",
     "text": [
      "original neural \n",
      " [[625  94]\n",
      " [465  88]]\n"
     ]
    },
    {
     "data": {
      "image/png": "[encoded data removed]",
      "text/plain": [
       "<Figure size 432x288 with 2 Axes>"
      ]
     },
     "metadata": {
      "needs_background": "light"
     },
     "output_type": "display_data"
    }
   ],
   "source": [
    "from sklearn.metrics import confusion_matrix\n",
    "original_neural_matrix = confusion_matrix(y_test,predict_test)\n",
    "print('original neural \\n' , original_neural_matrix)\n",
    "figure, axis = plt.subplots()\n",
    "\n",
    "color = axis.matshow(original_neural_matrix)\n",
    "figure.colorbar(color)\n",
    "axis.set_xlabel('Predicted')\n",
    "axis.set_ylabel('True')\n",
    "axis.set_title('Confusion Matrix for Neural Network')\n",
    "plt.show()"
   ]
  },
  {
   "cell_type": "markdown",
   "metadata": {},
   "source": [
    "## Example of Predictions"
   ]
  },
  {
   "cell_type": "code",
   "execution_count": 33,
   "metadata": {},
   "outputs": [
    {
     "name": "stdout",
     "output_type": "stream",
     "text": [
      "tweet associated with highest probability of stock going up \n",
      " \n",
      " ['The Democrats have been told and fully understand that there can be no DACA without the desperately needed WALL at the Southern Border and an END to the horrible Chain Migration &amp; ridiculous Lottery System of Immigration etc. We must protect our Country at all cost!']\n",
      "\n",
      "\n",
      "tweet associated with highest probability of stock going down \n",
      " \n",
      "  ['The United States Treasury has taken in MANY billions of dollars from the Tariffs we are charging China and other countries that have not treated us fairly. In the meantime we are doing well in various Trade Negotiations currently going on. At some point this had to be done!']\n"
     ]
    }
   ],
   "source": [
    "stock_up_prediction_neural = np.where(predictions_test == max(predictions_test))[0]\n",
    "print('tweet associated with highest probability of stock going up \\n \\n', temp.iloc[index[stock_up_prediction_neural]]['text'].values)\n",
    "\n",
    "print('\\n')\n",
    "stock_down_prediction_neural = np.where(predictions_test == min(predictions_test))[0]\n",
    "print('tweet associated with highest probability of stock going down \\n \\n ',temp.iloc[index[stock_down_prediction_neural]]['text'].values)"
   ]
  },
  {
   "cell_type": "code",
   "execution_count": 34,
   "metadata": {},
   "outputs": [
    {
     "data": {
      "text/plain": [
       "Text(0.5, 1.0, 'Distribution of Predicted Probabilities - Neural Network')"
      ]
     },
     "execution_count": 34,
     "metadata": {},
     "output_type": "execute_result"
    },
    {
     "data": {
      "image/png": "[encoded data removed]",
      "text/plain": [
       "<Figure size 432x288 with 1 Axes>"
      ]
     },
     "metadata": {
      "needs_background": "light"
     },
     "output_type": "display_data"
    }
   ],
   "source": [
    "plt.hist(predictions_test)\n",
    "plt.xlabel('Prediction Probability')\n",
    "plt.title('Distribution of Predicted Probabilities - Neural Network')"
   ]
  },
  {
   "cell_type": "markdown",
   "metadata": {},
   "source": [
    "## Trends of Misclassification of Models"
   ]
  },
  {
   "cell_type": "markdown",
   "metadata": {},
   "source": [
    "It is clear that the most of the errors are False Negative for both our Random Forest and Neural Network models. Both models tend to estimate conservatively. However, for the neural network, for those tweets that are associted with stock going up, the probability is very high. "
   ]
  }
 ],
 "metadata": {
  "kernelspec": {
   "display_name": "Python 3",
   "language": "python",
   "name": "python3"
  },
  "language_info": {
   "codemirror_mode": {
    "name": "ipython",
    "version": 3
   },
   "file_extension": ".py",
   "mimetype": "text/x-python",
   "name": "python",
   "nbconvert_exporter": "python",
   "pygments_lexer": "ipython3",
   "version": "3.7.3"
  }
 },
 "nbformat": 4,
 "nbformat_minor": 2
}

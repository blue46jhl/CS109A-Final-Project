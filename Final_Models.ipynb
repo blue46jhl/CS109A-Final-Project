{
 "cells": [
  {
   "cell_type": "markdown",
   "metadata": {},
   "source": [
    "# Models: Linear, Logistic, Random Forest"
   ]
  },
  {
   "cell_type": "code",
   "execution_count": 1,
   "metadata": {},
   "outputs": [
    {
     "data": {
      "text/html": [
       "<style>\n",
       "blockquote { background: #AEDE94; }\n",
       "h1 { \n",
       "    padding-top: 25px;\n",
       "    padding-bottom: 25px;\n",
       "    text-align: left; \n",
       "    padding-left: 10px;\n",
       "    background-color: #DDDDDD; \n",
       "    color: black;\n",
       "}\n",
       "h2 { \n",
       "    padding-top: 10px;\n",
       "    padding-bottom: 10px;\n",
       "    text-align: left; \n",
       "    padding-left: 5px;\n",
       "    background-color: #EEEEEE; \n",
       "    color: black;\n",
       "}\n",
       "\n",
       "div.exercise {\n",
       "\tbackground-color: #ffcccc;\n",
       "\tborder-color: #E9967A; \t\n",
       "\tborder-left: 5px solid #800080; \n",
       "\tpadding: 0.5em;\n",
       "}\n",
       "\n",
       "span.sub-q {\n",
       "\tfont-weight: bold;\n",
       "}\n",
       "div.theme {\n",
       "\tbackground-color: #DDDDDD;\n",
       "\tborder-color: #E9967A; \t\n",
       "\tborder-left: 5px solid #800080; \n",
       "\tpadding: 0.5em;\n",
       "\tfont-size: 18pt;\n",
       "}\n",
       "div.gc { \n",
       "\tbackground-color: #AEDE94;\n",
       "\tborder-color: #E9967A; \t \n",
       "\tborder-left: 5px solid #800080; \n",
       "\tpadding: 0.5em;\n",
       "\tfont-size: 12pt;\n",
       "}\n",
       "p.q1 { \n",
       "    padding-top: 5px;\n",
       "    padding-bottom: 5px;\n",
       "    text-align: left; \n",
       "    padding-left: 5px;\n",
       "    background-color: #EEEEEE; \n",
       "    color: black;\n",
       "}\n",
       "header {\n",
       "   padding-top: 35px;\n",
       "    padding-bottom: 35px;\n",
       "    text-align: left; \n",
       "    padding-left: 10px;\n",
       "    background-color: #DDDDDD; \n",
       "    color: black;\n",
       "}\n",
       "</style>\n",
       "\n"
      ],
      "text/plain": [
       "<IPython.core.display.HTML object>"
      ]
     },
     "execution_count": 1,
     "metadata": {},
     "output_type": "execute_result"
    }
   ],
   "source": [
    "import requests\n",
    "from IPython.core.display import HTML\n",
    "styles = requests.get(\"https://raw.githubusercontent.com/Harvard-IACS/2018-CS109A/master/content/styles/cs109.css\").text\n",
    "HTML(styles)"
   ]
  },
  {
   "cell_type": "markdown",
   "metadata": {},
   "source": [
    "## Libraries"
   ]
  },
  {
   "cell_type": "code",
   "execution_count": 3,
   "metadata": {},
   "outputs": [],
   "source": [
    "import numpy as np\n",
    "import pandas as pd\n",
    "\n",
    "# import statsmodels.api as sm\n",
    "from sklearn.linear_model import LinearRegression\n",
    "from sklearn.linear_model import LogisticRegression\n",
    "from sklearn.linear_model import LogisticRegressionCV\n",
    "from sklearn.linear_model import LassoCV\n",
    "from sklearn.tree import DecisionTreeClassifier\n",
    "from sklearn.ensemble import RandomForestClassifier\n",
    "\n",
    "from sklearn.neighbors import KNeighborsClassifier\n",
    "from sklearn.model_selection import cross_val_score\n",
    "from sklearn.metrics import accuracy_score\n",
    "from sklearn.model_selection import KFold\n",
    "from sklearn.preprocessing import StandardScaler, MinMaxScaler\n",
    "from sklearn.model_selection import train_test_split\n",
    "\n",
    "import matplotlib\n",
    "import matplotlib.pyplot as plt\n",
    "%matplotlib inline\n",
    "\n",
    "import tensorflow as tf \n",
    "from tensorflow.keras.layers import Dense, Dropout \n",
    "from tensorflow.keras.models import Sequential\n",
    "from tensorflow.keras import regularizers\n",
    "\n",
    "import zipfile"
   ]
  },
  {
   "cell_type": "markdown",
   "metadata": {},
   "source": [
    "### Read, Split, and Standardize Data"
   ]
  },
  {
   "cell_type": "code",
   "execution_count": 13,
   "metadata": {
    "scrolled": true
   },
   "outputs": [],
   "source": [
    "temp = pd.read_csv('data/preprocessed.csv')\n",
    "df = pd.read_csv('data/preprocessed.csv')\n",
    "\n",
    "datetimes = pd.to_datetime(df['created_at'])\n",
    "df['year'] = [i.year for i in datetimes]\n",
    "df['month'] = [i.month for i in datetimes]\n",
    "df['day'] = [i.day for i in datetimes]\n",
    "df['hour'] = [i.hour for i in datetimes]\n",
    "\n",
    "df = df.drop(['stock_dif', 'Unnamed: 0', 'text', 'created_at', 'preproc', 'keywords', 'is_retweet','äôs', 'äôt', 'äù', 'üá'], axis = 1)\n",
    "\n",
    "X_train, X_test, y_train, y_test =train_test_split(df.loc[:, df.columns != 'stock_up'], \n",
    "                                                         df.stock_up, test_size=0.2, \n",
    "                                                         random_state = 109, \n",
    "                                                         stratify = df.stock_up)\n",
    "index = X_test.index"
   ]
  },
  {
   "cell_type": "code",
   "execution_count": 14,
   "metadata": {},
   "outputs": [
    {
     "name": "stderr",
     "output_type": "stream",
     "text": [
      "C:\\Users\\sw708\\Miniconda3\\envs\\sams_env\\lib\\site-packages\\sklearn\\preprocessing\\data.py:625: DataConversionWarning: Data with input dtype int64, float64 were all converted to float64 by StandardScaler.\n",
      "  return self.partial_fit(X, y)\n",
      "C:\\Users\\sw708\\Miniconda3\\envs\\sams_env\\lib\\site-packages\\ipykernel_launcher.py:4: DataConversionWarning: Data with input dtype int64, float64 were all converted to float64 by StandardScaler.\n",
      "  after removing the cwd from sys.path.\n",
      "C:\\Users\\sw708\\Miniconda3\\envs\\sams_env\\lib\\site-packages\\ipykernel_launcher.py:5: DataConversionWarning: Data with input dtype int64, float64 were all converted to float64 by StandardScaler.\n",
      "  \"\"\"\n"
     ]
    }
   ],
   "source": [
    "# Standardize the data\n",
    "standard_scaler = StandardScaler()\n",
    "x_fitted_scaler = standard_scaler.fit(X_train)\n",
    "x_train_transform = x_fitted_scaler.transform(X_train)\n",
    "x_test_transform = x_fitted_scaler.transform(X_test)\n",
    "X_train = pd.DataFrame(x_train_transform, columns = X_train.columns)\n",
    "X_test = pd.DataFrame(x_test_transform, columns = X_test.columns)"
   ]
  },
  {
   "cell_type": "markdown",
   "metadata": {},
   "source": [
    "<div class='theme'> Linear Regression Model </div>"
   ]
  },
  {
   "cell_type": "markdown",
   "metadata": {},
   "source": [
    "#### Linear Model"
   ]
  },
  {
   "cell_type": "code",
   "execution_count": 15,
   "metadata": {},
   "outputs": [
    {
     "name": "stdout",
     "output_type": "stream",
     "text": [
      "Linear Model Training Set Accuracy: 59.9370945547474%\n",
      "Linear Model Testing Set Accuracy: 55.503144654088054%\n"
     ]
    }
   ],
   "source": [
    "lm = LinearRegression().fit(X_train, y_train)\n",
    "lm_pred_tr = lm.predict(X_train)\n",
    "lm_pred_test = lm.predict(X_test)\n",
    "lm_score_tr = accuracy_score(y_train,[int(round(i)) for i in lm_pred_tr])*100\n",
    "lm_score_test = accuracy_score(y_test, [int(round(i)) for i in lm_pred_test])*100\n",
    "print(\"Linear Model Training Set Accuracy:\",str(lm_score_tr)+'%')\n",
    "print(\"Linear Model Testing Set Accuracy:\",str(lm_score_test)+'%')                  "
   ]
  },
  {
   "cell_type": "markdown",
   "metadata": {},
   "source": [
    "<div class='theme'> Multiple Logistic Regression Model </div>"
   ]
  },
  {
   "cell_type": "markdown",
   "metadata": {},
   "source": [
    "#### Simple Multiple Logistic Model"
   ]
  },
  {
   "cell_type": "code",
   "execution_count": 16,
   "metadata": {},
   "outputs": [
    {
     "name": "stderr",
     "output_type": "stream",
     "text": [
      "C:\\Users\\sw708\\Miniconda3\\envs\\sams_env\\lib\\site-packages\\sklearn\\linear_model\\logistic.py:433: FutureWarning: Default solver will be changed to 'lbfgs' in 0.22. Specify a solver to silence this warning.\n",
      "  FutureWarning)\n"
     ]
    },
    {
     "name": "stdout",
     "output_type": "stream",
     "text": [
      "Simple Logistic Model Training Set Accuracy: 59.89777865146452%\n",
      "Simple Logistic Model Testing Set Accuracy: 55.42452830188679%\n"
     ]
    }
   ],
   "source": [
    "#Training\n",
    "log_model = LogisticRegression(C=100000).fit(X_train, y_train)\n",
    "#Predict\n",
    "y_tr_pred = log_model.predict(X_train)\n",
    "y_test_pred = log_model.predict(X_test)\n",
    "#Performance Evaluation\n",
    "tr_score_log = accuracy_score(y_train, y_tr_pred)*100\n",
    "test_score_log = accuracy_score(y_test, y_test_pred)*100\n",
    "\n",
    "print(\"Simple Logistic Model Training Set Accuracy:\",str(tr_score_log)+'%')\n",
    "print(\"Simple Logistic Model Testing Set Accuracy:\",str(test_score_log)+'%')"
   ]
  },
  {
   "cell_type": "code",
   "execution_count": 8,
   "metadata": {},
   "outputs": [
    {
     "data": {
      "text/plain": [
       "Text(0.5, 0, 'Probability')"
      ]
     },
     "execution_count": 8,
     "metadata": {},
     "output_type": "execute_result"
    },
    {
     "data": {
      "image/png": "[encoded data removed]",
      "text/plain": [
       "<Figure size 432x288 with 2 Axes>"
      ]
     },
     "metadata": {
      "needs_background": "light"
     },
     "output_type": "display_data"
    }
   ],
   "source": [
    "fig, (ax1, ax2) = plt.subplots(2)\n",
    "ax1.set_title('Probability Estimate Distributions in Binary Classification')\n",
    "ax1.hist(log_model.predict_proba(X_train), label = ['0', '1'])\n",
    "ax2.hist(log_model.predict_proba(X_test), label = ['0', '1'])\n",
    "ax1.legend()\n",
    "ax2.legend()\n",
    "ax1.set_ylabel('Tweet Count')\n",
    "ax2.set_ylabel('Tweet Count')\n",
    "ax2.set_xlabel('Probability')"
   ]
  },
  {
   "cell_type": "markdown",
   "metadata": {},
   "source": [
    "#### Regularized Multiple Logistic Model"
   ]
  },
  {
   "cell_type": "code",
   "execution_count": 17,
   "metadata": {
    "scrolled": true
   },
   "outputs": [
    {
     "name": "stderr",
     "output_type": "stream",
     "text": [
      "C:\\Users\\sw708\\Miniconda3\\envs\\sams_env\\lib\\site-packages\\sklearn\\model_selection\\_split.py:2053: FutureWarning: You should specify a value for 'cv' instead of relying on the default value. The default value will change from 3 to 5 in version 0.22.\n",
      "  warnings.warn(CV_WARNING, FutureWarning)\n"
     ]
    },
    {
     "name": "stdout",
     "output_type": "stream",
     "text": [
      "Regularized Logistic Model Training Set Accuracy: 56.536268920778454%\n",
      "Regularized Logistic Model Testing Set Accuracy: 56.5251572327044%\n"
     ]
    }
   ],
   "source": [
    "log_model_cv = LogisticRegressionCV(penalty = 'l1', solver = 'liblinear', max_iter = 10000).fit(X_train, y_train)\n",
    "#Predict\n",
    "y_pred_cv = log_model_cv.predict(X_train)\n",
    "y_pred_test_cv = log_model_cv.predict(X_test)\n",
    "#Performance Evaluation\n",
    "tr_score_cv = accuracy_score(y_train, y_pred_cv)*100\n",
    "test_score_cv = accuracy_score(y_test, y_pred_test_cv)*100\n",
    "\n",
    "print(\"Regularized Logistic Model Training Set Accuracy:\",str(tr_score_cv)+'%')\n",
    "print(\"Regularized Logistic Model Testing Set Accuracy:\",str(test_score_cv)+'%')"
   ]
  },
  {
   "cell_type": "code",
   "execution_count": 41,
   "metadata": {},
   "outputs": [
    {
     "data": {
      "text/plain": [
       "Text(0.5, 0, 'Probability')"
      ]
     },
     "execution_count": 41,
     "metadata": {},
     "output_type": "execute_result"
    },
    {
     "data": {
      "image/png": "[encoded data removed]",
      "text/plain": [
       "<Figure size 432x288 with 2 Axes>"
      ]
     },
     "metadata": {
      "needs_background": "light"
     },
     "output_type": "display_data"
    }
   ],
   "source": [
    "fig, (ax1, ax2) = plt.subplots(2)\n",
    "ax1.set_title('Regularized Log Model: Probability Estimate Distributions in Binary Classification')\n",
    "ax1.hist(log_model_cv.predict_proba(X_train), label = ['0', '1'])\n",
    "ax2.hist(log_model_cv.predict_proba(X_test), label = ['0', '1'])\n",
    "ax1.legend()\n",
    "ax2.legend()\n",
    "ax1.set_ylabel('Tweet Count')\n",
    "ax2.set_ylabel('Tweet Count')\n",
    "ax2.set_xlabel('Probability')"
   ]
  },
  {
   "cell_type": "markdown",
   "metadata": {},
   "source": [
    "<div class='theme'> Random Forest Model </div>"
   ]
  },
  {
   "cell_type": "markdown",
   "metadata": {},
   "source": [
    "##### Finding the Best Depth for Random Forest Classifier"
   ]
  },
  {
   "cell_type": "code",
   "execution_count": 42,
   "metadata": {},
   "outputs": [],
   "source": [
    "def calc_meanstd(X_train, y_train, depths):\n",
    "    train_scores = {}\n",
    "    cvmeans = {}\n",
    "    cvstds = {}\n",
    "    for depth in depths:\n",
    "        model = DecisionTreeClassifier(max_depth = depth)\n",
    "        score = cross_val_score(estimator=model, X = X_train, y = y_train, cv=5, n_jobs = -1)\n",
    "        train_scores[depth] = score\n",
    "        cvmeans[depth] = score.mean()\n",
    "        cvstds[depth] = score.std()\n",
    "    return cvmeans, cvstds, train_scores\n",
    "\n",
    "cvmeans, cvstds, train_scores = calc_meanstd(X_train, y_train, depths = list(range(1,51)))\n",
    "best_depth = max(cvmeans, key=cvmeans.get)"
   ]
  },
  {
   "cell_type": "markdown",
   "metadata": {},
   "source": [
    "#### Random Forest Model"
   ]
  },
  {
   "cell_type": "code",
   "execution_count": 18,
   "metadata": {
    "scrolled": true
   },
   "outputs": [
    {
     "name": "stdout",
     "output_type": "stream",
     "text": [
      "Random Forest Model Training Accuracy Score:  65.18576764301159 %\n",
      "Random Forest Model Testing Accuracy Score:  57.311320754716974 %\n"
     ]
    }
   ],
   "source": [
    "rf_model = RandomForestClassifier(n_estimators = 50, max_depth = 6, max_features = 'sqrt').fit(X_train, y_train)\n",
    "random_forest_test_score = accuracy_score(y_test, rf_model.predict(X_test))*100\n",
    "random_forest_train_score = accuracy_score(y_train, rf_model.predict(X_train))*100\n",
    "print('Random Forest Model Training Accuracy Score: ', random_forest_train_score, '%')\n",
    "print('Random Forest Model Testing Accuracy Score: ', random_forest_test_score, '%')"
   ]
  },
  {
   "cell_type": "markdown",
   "metadata": {},
   "source": [
    "##### Visualization"
   ]
  },
  {
   "cell_type": "code",
   "execution_count": 46,
   "metadata": {},
   "outputs": [],
   "source": [
    "def graph_acc(depth):\n",
    "    testing = {}\n",
    "    training = {}\n",
    "    for i in range(depth):\n",
    "        rf = RandomForestClassifier(n_estimators = 50, max_depth = i+1, max_features = 'sqrt').fit(X_train, y_train)\n",
    "        training[i] = accuracy_score(y_train, rf.predict(X_train))\n",
    "        testing[i] = accuracy_score(y_test, rf.predict(X_test))\n",
    "    return training, testing\n",
    "tr_list, test_list = graph_acc(10)"
   ]
  },
  {
   "cell_type": "code",
   "execution_count": 47,
   "metadata": {
    "scrolled": false
   },
   "outputs": [
    {
     "data": {
      "image/png": "[encoded data removed]",
      "text/plain": [
       "<Figure size 432x288 with 1 Axes>"
      ]
     },
     "metadata": {
      "needs_background": "light"
     },
     "output_type": "display_data"
    }
   ],
   "source": [
    "plt.figure()\n",
    "plt.title('Accuracy Scores by Depth')\n",
    "plt.xlabel('depth')\n",
    "plt.ylabel('Accuracy Scores')\n",
    "plt.plot(*zip(*sorted(tr_list.items())), label = 'Training')\n",
    "plt.plot(*zip(*sorted(test_list.items())), label = 'Testing')\n",
    "plt.legend(loc = 'upper left')\n",
    "plt.show()"
   ]
  },
  {
   "cell_type": "code",
   "execution_count": 48,
   "metadata": {},
   "outputs": [
    {
     "data": {
      "text/plain": [
       "Text(0.5, 0, 'Probability')"
      ]
     },
     "execution_count": 48,
     "metadata": {},
     "output_type": "execute_result"
    },
    {
     "data": {
      "image/png": "[encoded data removed]",
      "text/plain": [
       "<Figure size 432x288 with 2 Axes>"
      ]
     },
     "metadata": {
      "needs_background": "light"
     },
     "output_type": "display_data"
    }
   ],
   "source": [
    "fig, (ax1, ax2) = plt.subplots(2)\n",
    "ax1.set_title('RF Model: Probability Estimate Distributions in Binary Classification')\n",
    "ax1.hist(rf_model.predict_proba(X_train), label = ['0', '1'])\n",
    "ax2.hist(rf_model.predict_proba(X_test), label = ['0', '1'])\n",
    "ax1.legend()\n",
    "ax2.legend()\n",
    "ax1.set_ylabel('Tweet Count')\n",
    "ax2.set_ylabel('Tweet Count')\n",
    "ax2.set_xlabel('Probability')"
   ]
  },
  {
   "cell_type": "code",
   "execution_count": 33,
   "metadata": {},
   "outputs": [
    {
     "data": {
      "text/plain": [
       "(array([  60,  144,  168,  232,  233,  274,  316,  324,  348,  377,  398,\n",
       "         422,  458,  570,  577,  587,  604,  657,  755,  760,  792,  797,\n",
       "         816,  821,  833,  855,  858,  873,  906,  912,  943, 1054, 1074,\n",
       "        1086, 1106, 1134, 1205, 1210, 1233, 1263], dtype=int64),\n",
       " array([0, 0, 0, 0, 0, 0, 0, 0, 0, 0, 0, 0, 0, 0, 0, 0, 0, 0, 0, 0, 0, 0,\n",
       "        0, 0, 0, 0, 0, 0, 0, 0, 0, 0, 0, 0, 0, 0, 0, 0, 0, 0], dtype=int64))"
      ]
     },
     "execution_count": 33,
     "metadata": {},
     "output_type": "execute_result"
    }
   ],
   "source": [
    "predictions = pd.DataFrame(rf_model.predict(X_test), index = index)\n",
    "dates = pd.DataFrame(datetimes[index], index = index)\n",
    "rf_prediction = pd.concat([predictions, dates], axis = 1)\n",
    "rf_prediction.to_csv('data/rf_prediction')"
   ]
  },
  {
   "cell_type": "markdown",
   "metadata": {},
   "source": [
    "##### Most important features from Random Forest Model"
   ]
  },
  {
   "cell_type": "code",
   "execution_count": 49,
   "metadata": {
    "scrolled": true
   },
   "outputs": [
    {
     "data": {
      "text/plain": [
       "['usa',\n",
       " 'coming',\n",
       " 'collusion',\n",
       " 'retweet_count',\n",
       " 'border',\n",
       " 'meeting',\n",
       " 'really',\n",
       " 'republican',\n",
       " 'security',\n",
       " 'favorite_count']"
      ]
     },
     "execution_count": 49,
     "metadata": {},
     "output_type": "execute_result"
    }
   ],
   "source": [
    "feature_list = dict(zip(X_train.columns.values, rf_model.feature_importances_))\n",
    "top_10_features = sorted(feature_list, key = feature_list.get, reverse = True)[:10]\n",
    "top_10_features"
   ]
  },
  {
   "cell_type": "markdown",
   "metadata": {},
   "source": [
    "<div class='theme'> Neural Network </div>"
   ]
  },
  {
   "cell_type": "code",
   "execution_count": 21,
   "metadata": {},
   "outputs": [],
   "source": [
    "model = Sequential()\n",
    "model.add(Dense(16, input_shape = (152,), activation = 'relu'))\n",
    "model.add(Dense(32, activation = 'relu',kernel_regularizer=regularizers.l2(0.01)))\n",
    "model.add(Dropout(.6))\n",
    "model.add(Dense(1, activation = 'sigmoid'))\n",
    "model.compile(optimizer = 'adam',loss = 'binary_crossentropy', metrics = ['accuracy'])"
   ]
  },
  {
   "cell_type": "code",
   "execution_count": 22,
   "metadata": {},
   "outputs": [
    {
     "name": "stdout",
     "output_type": "stream",
     "text": [
      "Train on 4069 samples, validate on 1018 samples\n",
      "WARNING:tensorflow:From C:\\Users\\sw708\\Miniconda3\\envs\\sams_env\\lib\\site-packages\\tensorflow\\python\\ops\\math_ops.py:3066: to_int32 (from tensorflow.python.ops.math_ops) is deprecated and will be removed in a future version.\n",
      "Instructions for updating:\n",
      "Use tf.cast instead.\n",
      "Epoch 1/50\n",
      "4069/4069 [==============================] - 1s 211us/sample - loss: 0.9204 - acc: 0.5114 - val_loss: 0.8238 - val_acc: 0.5285\n",
      "Epoch 2/50\n",
      "4069/4069 [==============================] - 0s 64us/sample - loss: 0.8125 - acc: 0.5367 - val_loss: 0.7806 - val_acc: 0.5432\n",
      "Epoch 3/50\n",
      "4069/4069 [==============================] - 0s 64us/sample - loss: 0.7630 - acc: 0.5625 - val_loss: 0.7541 - val_acc: 0.5422\n",
      "Epoch 4/50\n",
      "4069/4069 [==============================] - 0s 62us/sample - loss: 0.7409 - acc: 0.5616 - val_loss: 0.7360 - val_acc: 0.5501\n",
      "Epoch 5/50\n",
      "4069/4069 [==============================] - 0s 64us/sample - loss: 0.7243 - acc: 0.5630 - val_loss: 0.7235 - val_acc: 0.5550\n",
      "Epoch 6/50\n",
      "4069/4069 [==============================] - 0s 62us/sample - loss: 0.7089 - acc: 0.5721 - val_loss: 0.7155 - val_acc: 0.5530\n",
      "Epoch 7/50\n",
      "4069/4069 [==============================] - 0s 64us/sample - loss: 0.7009 - acc: 0.5817 - val_loss: 0.7092 - val_acc: 0.5481\n",
      "Epoch 8/50\n",
      "4069/4069 [==============================] - 0s 62us/sample - loss: 0.6954 - acc: 0.5797 - val_loss: 0.7052 - val_acc: 0.5501\n",
      "Epoch 9/50\n",
      "4069/4069 [==============================] - 0s 64us/sample - loss: 0.6884 - acc: 0.5842 - val_loss: 0.7027 - val_acc: 0.5422\n",
      "Epoch 10/50\n",
      "4069/4069 [==============================] - 0s 67us/sample - loss: 0.6822 - acc: 0.5793 - val_loss: 0.7024 - val_acc: 0.5432\n",
      "Epoch 11/50\n",
      "4069/4069 [==============================] - 0s 67us/sample - loss: 0.6798 - acc: 0.5864 - val_loss: 0.7013 - val_acc: 0.5432\n",
      "Epoch 12/50\n",
      "4069/4069 [==============================] - 0s 62us/sample - loss: 0.6717 - acc: 0.5972 - val_loss: 0.7026 - val_acc: 0.5530\n",
      "Epoch 13/50\n",
      "4069/4069 [==============================] - 0s 64us/sample - loss: 0.6671 - acc: 0.6053 - val_loss: 0.7085 - val_acc: 0.5383\n",
      "Epoch 14/50\n",
      "4069/4069 [==============================] - 0s 70us/sample - loss: 0.6634 - acc: 0.6110 - val_loss: 0.7102 - val_acc: 0.5462\n",
      "Epoch 15/50\n",
      "4069/4069 [==============================] - 0s 62us/sample - loss: 0.6572 - acc: 0.6151 - val_loss: 0.7168 - val_acc: 0.5432\n",
      "Epoch 16/50\n",
      "4069/4069 [==============================] - 0s 69us/sample - loss: 0.6518 - acc: 0.6277 - val_loss: 0.7242 - val_acc: 0.5383\n",
      "Epoch 17/50\n",
      "4069/4069 [==============================] - 0s 69us/sample - loss: 0.6491 - acc: 0.6284 - val_loss: 0.7240 - val_acc: 0.5295\n",
      "Epoch 18/50\n",
      "4069/4069 [==============================] - 0s 67us/sample - loss: 0.6404 - acc: 0.6422 - val_loss: 0.7295 - val_acc: 0.5354\n",
      "Epoch 19/50\n",
      "4069/4069 [==============================] - 0s 69us/sample - loss: 0.6331 - acc: 0.6559 - val_loss: 0.7338 - val_acc: 0.5363\n",
      "Epoch 20/50\n",
      "4069/4069 [==============================] - 0s 62us/sample - loss: 0.6245 - acc: 0.6682 - val_loss: 0.7395 - val_acc: 0.5373\n",
      "Epoch 21/50\n",
      "4069/4069 [==============================] - 0s 64us/sample - loss: 0.6157 - acc: 0.6754 - val_loss: 0.7551 - val_acc: 0.5393\n",
      "Epoch 22/50\n",
      "4069/4069 [==============================] - 0s 62us/sample - loss: 0.6049 - acc: 0.6955 - val_loss: 0.7669 - val_acc: 0.5363\n",
      "Epoch 23/50\n",
      "4069/4069 [==============================] - 0s 64us/sample - loss: 0.5951 - acc: 0.7014 - val_loss: 0.7802 - val_acc: 0.5246\n",
      "Epoch 24/50\n",
      "4069/4069 [==============================] - 0s 62us/sample - loss: 0.5831 - acc: 0.7132 - val_loss: 0.8008 - val_acc: 0.5177\n",
      "Epoch 25/50\n",
      "4069/4069 [==============================] - 0s 66us/sample - loss: 0.5743 - acc: 0.7174 - val_loss: 0.8151 - val_acc: 0.5236\n",
      "Epoch 26/50\n",
      "4069/4069 [==============================] - 0s 66us/sample - loss: 0.5655 - acc: 0.7235 - val_loss: 0.8146 - val_acc: 0.5314\n",
      "Epoch 27/50\n",
      "4069/4069 [==============================] - 0s 72us/sample - loss: 0.5554 - acc: 0.7336 - val_loss: 0.8325 - val_acc: 0.5177\n",
      "Epoch 28/50\n",
      "4069/4069 [==============================] - 0s 69us/sample - loss: 0.5401 - acc: 0.7447 - val_loss: 0.8488 - val_acc: 0.5246\n",
      "Epoch 29/50\n",
      "4069/4069 [==============================] - 0s 72us/sample - loss: 0.5334 - acc: 0.7478 - val_loss: 0.8814 - val_acc: 0.5187\n",
      "Epoch 30/50\n",
      "4069/4069 [==============================] - 0s 67us/sample - loss: 0.5262 - acc: 0.7547 - val_loss: 0.8961 - val_acc: 0.5147\n",
      "Epoch 31/50\n",
      "4069/4069 [==============================] - 0s 64us/sample - loss: 0.5141 - acc: 0.7574 - val_loss: 0.9136 - val_acc: 0.5167\n",
      "Epoch 32/50\n",
      "4069/4069 [==============================] - 0s 62us/sample - loss: 0.5023 - acc: 0.7619 - val_loss: 0.9315 - val_acc: 0.5236\n",
      "Epoch 33/50\n",
      "4069/4069 [==============================] - 0s 62us/sample - loss: 0.4963 - acc: 0.7724 - val_loss: 0.9326 - val_acc: 0.5000\n",
      "Epoch 34/50\n",
      "4069/4069 [==============================] - 0s 64us/sample - loss: 0.4891 - acc: 0.7737 - val_loss: 0.9666 - val_acc: 0.5216\n",
      "Epoch 35/50\n",
      "4069/4069 [==============================] - 0s 62us/sample - loss: 0.4709 - acc: 0.7931 - val_loss: 1.0088 - val_acc: 0.5167\n",
      "Epoch 36/50\n",
      "4069/4069 [==============================] - 0s 62us/sample - loss: 0.4716 - acc: 0.7874 - val_loss: 1.0269 - val_acc: 0.5000\n",
      "Epoch 37/50\n",
      "4069/4069 [==============================] - 0s 62us/sample - loss: 0.4647 - acc: 0.7948 - val_loss: 1.0221 - val_acc: 0.5010\n",
      "Epoch 38/50\n",
      "4069/4069 [==============================] - 0s 62us/sample - loss: 0.4497 - acc: 0.8039 - val_loss: 1.0660 - val_acc: 0.4971\n",
      "Epoch 39/50\n",
      "4069/4069 [==============================] - 0s 62us/sample - loss: 0.4474 - acc: 0.8061 - val_loss: 1.0640 - val_acc: 0.5049\n",
      "Epoch 40/50\n",
      "4069/4069 [==============================] - 0s 61us/sample - loss: 0.4368 - acc: 0.8167 - val_loss: 1.1365 - val_acc: 0.5059\n",
      "Epoch 41/50\n",
      "4069/4069 [==============================] - 0s 61us/sample - loss: 0.4326 - acc: 0.8147 - val_loss: 1.1144 - val_acc: 0.4980\n",
      "Epoch 42/50\n",
      "4069/4069 [==============================] - 0s 59us/sample - loss: 0.4231 - acc: 0.8196 - val_loss: 1.1609 - val_acc: 0.4990\n",
      "Epoch 43/50\n",
      "4069/4069 [==============================] - 0s 61us/sample - loss: 0.4174 - acc: 0.8226 - val_loss: 1.2007 - val_acc: 0.5157\n",
      "Epoch 44/50\n",
      "4069/4069 [==============================] - 0s 59us/sample - loss: 0.4130 - acc: 0.8211 - val_loss: 1.1892 - val_acc: 0.5059\n",
      "Epoch 45/50\n",
      "4069/4069 [==============================] - 0s 60us/sample - loss: 0.4054 - acc: 0.8260 - val_loss: 1.2352 - val_acc: 0.5069\n",
      "Epoch 46/50\n",
      "4069/4069 [==============================] - 0s 62us/sample - loss: 0.4040 - acc: 0.8356 - val_loss: 1.2288 - val_acc: 0.5010\n",
      "Epoch 47/50\n",
      "4069/4069 [==============================] - 0s 62us/sample - loss: 0.3983 - acc: 0.8326 - val_loss: 1.2679 - val_acc: 0.5088\n",
      "Epoch 48/50\n",
      "4069/4069 [==============================] - 0s 62us/sample - loss: 0.3931 - acc: 0.8356 - val_loss: 1.2563 - val_acc: 0.5147\n",
      "Epoch 49/50\n",
      "4069/4069 [==============================] - 0s 62us/sample - loss: 0.3905 - acc: 0.8319 - val_loss: 1.2922 - val_acc: 0.5108\n",
      "Epoch 50/50\n",
      "4069/4069 [==============================] - 0s 62us/sample - loss: 0.3785 - acc: 0.8405 - val_loss: 1.3735 - val_acc: 0.4961\n"
     ]
    }
   ],
   "source": [
    "hist = model.fit(X_train, y_train, validation_split = .2, batch_size = 32, epochs = 50)"
   ]
  },
  {
   "cell_type": "markdown",
   "metadata": {},
   "source": [
    "##### Visualization"
   ]
  },
  {
   "cell_type": "code",
   "execution_count": 52,
   "metadata": {},
   "outputs": [
    {
     "data": {
      "text/plain": [
       "[<matplotlib.lines.Line2D at 0x1e81453f470>]"
      ]
     },
     "execution_count": 52,
     "metadata": {},
     "output_type": "execute_result"
    },
    {
     "data": {
      "image/png": "[encoded data removed]",
      "text/plain": [
       "<Figure size 432x288 with 1 Axes>"
      ]
     },
     "metadata": {
      "needs_background": "light"
     },
     "output_type": "display_data"
    }
   ],
   "source": [
    "plt.plot(hist.history['accuracy'])\n",
    "plt.plot(hist.history['val_accuracy'])"
   ]
  },
  {
   "cell_type": "markdown",
   "metadata": {},
   "source": [
    "##### Neural Network Results"
   ]
  },
  {
   "cell_type": "code",
   "execution_count": 27,
   "metadata": {},
   "outputs": [],
   "source": [
    "predictions_train = model.predict(X_train)\n",
    "predictions_test = model.predict(X_test)\n",
    "prediction = pd.DataFrame(predictions_test, index = X_test.index)\n",
    "dates = temp.iloc[X_test.index]['created_at']\n",
    "neural_predict = pd.concat([prediction, dates], axis = 1)\n",
    "neural_predict.to_csv('data/neural_prediction')"
   ]
  },
  {
   "cell_type": "code",
   "execution_count": 56,
   "metadata": {},
   "outputs": [],
   "source": [
    "predict_tr = [1 if x > .9 else 0 for x in predictions_train]\n",
    "predict_test = [1 if x > .9 else 0 for x in predictions_test]\n",
    "nn_tr_score = accuracy_score(y_train, predict_tr)*100\n",
    "nn_test_score = accuracy_score(y_test, predict_test)*100\n",
    "index = np.where(prediction[0] > .9)[0]\n",
    "# top_tweet = temp.iloc[np.where(prediction[0] > .90)]['text'][488]\n",
    "# print('tweet that would raise stock market is: ', top_tweet)\n",
    "# worst_tweet = temp.iloc[np.where(prediction[0] < .01)]['text'][899]\n",
    "# print('tweet that would lower stock market is: ', worst_tweet)"
   ]
  },
  {
   "cell_type": "markdown",
   "metadata": {},
   "source": [
    "# Model Results"
   ]
  },
  {
   "cell_type": "code",
   "execution_count": 57,
   "metadata": {},
   "outputs": [
    {
     "data": {
      "text/html": [
       "<div>\n",
       "<style scoped>\n",
       "    .dataframe tbody tr th:only-of-type {\n",
       "        vertical-align: middle;\n",
       "    }\n",
       "\n",
       "    .dataframe tbody tr th {\n",
       "        vertical-align: top;\n",
       "    }\n",
       "\n",
       "    .dataframe thead th {\n",
       "        text-align: right;\n",
       "    }\n",
       "</style>\n",
       "<table border=\"1\" class=\"dataframe\">\n",
       "  <thead>\n",
       "    <tr style=\"text-align: right;\">\n",
       "      <th></th>\n",
       "      <th>Training Accuracy (%)</th>\n",
       "      <th>Testing Accuracy (%)</th>\n",
       "    </tr>\n",
       "  </thead>\n",
       "  <tbody>\n",
       "    <tr>\n",
       "      <th>Linear Regression</th>\n",
       "      <td>59.209750</td>\n",
       "      <td>54.481132</td>\n",
       "    </tr>\n",
       "    <tr>\n",
       "      <th>Simple Logistic</th>\n",
       "      <td>59.327698</td>\n",
       "      <td>54.559748</td>\n",
       "    </tr>\n",
       "    <tr>\n",
       "      <th>Regularized Logistic</th>\n",
       "      <td>56.536269</td>\n",
       "      <td>56.525157</td>\n",
       "    </tr>\n",
       "    <tr>\n",
       "      <th>Random Forest</th>\n",
       "      <td>60.723413</td>\n",
       "      <td>56.839623</td>\n",
       "    </tr>\n",
       "    <tr>\n",
       "      <th>Neural Network</th>\n",
       "      <td>61.568705</td>\n",
       "      <td>56.525157</td>\n",
       "    </tr>\n",
       "  </tbody>\n",
       "</table>\n",
       "</div>"
      ],
      "text/plain": [
       "                      Training Accuracy (%)  Testing Accuracy (%)\n",
       "Linear Regression                 59.209750             54.481132\n",
       "Simple Logistic                   59.327698             54.559748\n",
       "Regularized Logistic              56.536269             56.525157\n",
       "Random Forest                     60.723413             56.839623\n",
       "Neural Network                    61.568705             56.525157"
      ]
     },
     "execution_count": 57,
     "metadata": {},
     "output_type": "execute_result"
    }
   ],
   "source": [
    "names = []\n",
    "scores = []\n",
    "scores.append([[lm_score_tr, lm_score_test], [tr_score_log, test_score_log],\n",
    "               [tr_score_cv, test_score_cv], [random_forest_train_score, random_forest_test_score], [nn_tr_score, nn_test_score]])\n",
    "names.append(['Linear Regression', 'Simple Logistic', 'Regularized Logistic', 'Random Forest', 'Neural Network'])\n",
    "results_df = pd.DataFrame(scores[0], index = names[0], columns = ['Training Accuracy (%)', 'Testing Accuracy (%)'])\n",
    "results_df"
   ]
  }
 ],
 "metadata": {
  "kernelspec": {
   "display_name": "Python 3",
   "language": "python",
   "name": "python3"
  },
  "language_info": {
   "codemirror_mode": {
    "name": "ipython",
    "version": 3
   },
   "file_extension": ".py",
   "mimetype": "text/x-python",
   "name": "python",
   "nbconvert_exporter": "python",
   "pygments_lexer": "ipython3",
   "version": "3.7.5"
  }
 },
 "nbformat": 4,
 "nbformat_minor": 2
}

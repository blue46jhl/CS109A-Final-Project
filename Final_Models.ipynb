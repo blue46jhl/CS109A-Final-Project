{
 "cells": [
  {
   "cell_type": "markdown",
   "metadata": {},
   "source": [
    "# Models: Linear, Logistic, Random Forest"
   ]
  },
  {
   "cell_type": "code",
   "execution_count": 1,
   "metadata": {},
   "outputs": [
    {
     "data": {
      "text/html": [
       "<style>\n",
       "blockquote { background: #AEDE94; }\n",
       "h1 { \n",
       "    padding-top: 25px;\n",
       "    padding-bottom: 25px;\n",
       "    text-align: left; \n",
       "    padding-left: 10px;\n",
       "    background-color: #DDDDDD; \n",
       "    color: black;\n",
       "}\n",
       "h2 { \n",
       "    padding-top: 10px;\n",
       "    padding-bottom: 10px;\n",
       "    text-align: left; \n",
       "    padding-left: 5px;\n",
       "    background-color: #EEEEEE; \n",
       "    color: black;\n",
       "}\n",
       "\n",
       "div.exercise {\n",
       "\tbackground-color: #ffcccc;\n",
       "\tborder-color: #E9967A; \t\n",
       "\tborder-left: 5px solid #800080; \n",
       "\tpadding: 0.5em;\n",
       "}\n",
       "\n",
       "span.sub-q {\n",
       "\tfont-weight: bold;\n",
       "}\n",
       "div.theme {\n",
       "\tbackground-color: #DDDDDD;\n",
       "\tborder-color: #E9967A; \t\n",
       "\tborder-left: 5px solid #800080; \n",
       "\tpadding: 0.5em;\n",
       "\tfont-size: 18pt;\n",
       "}\n",
       "div.gc { \n",
       "\tbackground-color: #AEDE94;\n",
       "\tborder-color: #E9967A; \t \n",
       "\tborder-left: 5px solid #800080; \n",
       "\tpadding: 0.5em;\n",
       "\tfont-size: 12pt;\n",
       "}\n",
       "p.q1 { \n",
       "    padding-top: 5px;\n",
       "    padding-bottom: 5px;\n",
       "    text-align: left; \n",
       "    padding-left: 5px;\n",
       "    background-color: #EEEEEE; \n",
       "    color: black;\n",
       "}\n",
       "header {\n",
       "   padding-top: 35px;\n",
       "    padding-bottom: 35px;\n",
       "    text-align: left; \n",
       "    padding-left: 10px;\n",
       "    background-color: #DDDDDD; \n",
       "    color: black;\n",
       "}\n",
       "</style>\n",
       "\n"
      ],
      "text/plain": [
       "<IPython.core.display.HTML object>"
      ]
     },
     "execution_count": 1,
     "metadata": {},
     "output_type": "execute_result"
    }
   ],
   "source": [
    "import requests\n",
    "from IPython.core.display import HTML\n",
    "styles = requests.get(\"https://raw.githubusercontent.com/Harvard-IACS/2018-CS109A/master/content/styles/cs109.css\").text\n",
    "HTML(styles)"
   ]
  },
  {
   "cell_type": "markdown",
   "metadata": {},
   "source": [
    "## Libraries"
   ]
  },
  {
   "cell_type": "code",
   "execution_count": 1,
   "metadata": {},
   "outputs": [],
   "source": [
    "import numpy as np\n",
    "import pandas as pd\n",
    "\n",
    "# import statsmodels.api as sm\n",
    "from sklearn.linear_model import LinearRegression\n",
    "from sklearn.linear_model import LogisticRegression\n",
    "from sklearn.linear_model import LogisticRegressionCV\n",
    "from sklearn.linear_model import LassoCV\n",
    "from sklearn.tree import DecisionTreeClassifier\n",
    "from sklearn.ensemble import RandomForestClassifier\n",
    "\n",
    "from sklearn.neighbors import KNeighborsClassifier\n",
    "from sklearn.model_selection import cross_val_score\n",
    "from sklearn.metrics import accuracy_score\n",
    "from sklearn.model_selection import KFold\n",
    "from sklearn.preprocessing import StandardScaler, MinMaxScaler\n",
    "from sklearn.model_selection import train_test_split\n",
    "\n",
    "import matplotlib\n",
    "import matplotlib.pyplot as plt\n",
    "%matplotlib inline\n",
    "\n",
    "import tensorflow as tf \n",
    "from tensorflow.keras.layers import Dense, Dropout \n",
    "from tensorflow.keras.models import Sequential\n",
    "from tensorflow.keras import regularizers\n",
    "\n",
    "import zipfile"
   ]
  },
  {
   "cell_type": "markdown",
   "metadata": {},
   "source": [
    "### Read, Split, and Standardize Data"
   ]
  },
  {
   "cell_type": "code",
   "execution_count": 2,
   "metadata": {
    "scrolled": true
   },
   "outputs": [],
   "source": [
    "temp = pd.read_csv('data/final_preprocessed.csv')\n",
    "df = pd.read_csv('data/final_preprocessed.csv')\n",
    "\n",
    "datetimes = pd.to_datetime(df['created_at'])\n",
    "df['year'] = [i.year for i in datetimes]\n",
    "df['month'] = [i.month for i in datetimes]\n",
    "df['day'] = [i.day for i in datetimes]\n",
    "df['hour'] = [i.hour for i in datetimes]\n",
    "\n",
    "df = df.drop(['stock_dif', 'Unnamed: 0', 'text', 'created_at', 'preproc', 'keywords', 'is_retweet','äôs', 'äôt', 'äù', 'üá'], axis = 1)\n",
    "\n",
    "X_train, X_test, y_train, y_test =train_test_split(df.loc[:, df.columns != 'stock_up'], \n",
    "                                                         df.stock_up, test_size=0.2, \n",
    "                                                         random_state = 109, \n",
    "                                                         stratify = df.stock_up)\n",
    "index = X_test.index"
   ]
  },
  {
   "cell_type": "code",
   "execution_count": 3,
   "metadata": {},
   "outputs": [
    {
     "name": "stderr",
     "output_type": "stream",
     "text": [
      "C:\\Users\\sw708\\Miniconda3\\envs\\sams_env\\lib\\site-packages\\sklearn\\preprocessing\\data.py:625: DataConversionWarning: Data with input dtype int64, float64 were all converted to float64 by StandardScaler.\n",
      "  return self.partial_fit(X, y)\n",
      "C:\\Users\\sw708\\Miniconda3\\envs\\sams_env\\lib\\site-packages\\ipykernel_launcher.py:4: DataConversionWarning: Data with input dtype int64, float64 were all converted to float64 by StandardScaler.\n",
      "  after removing the cwd from sys.path.\n",
      "C:\\Users\\sw708\\Miniconda3\\envs\\sams_env\\lib\\site-packages\\ipykernel_launcher.py:5: DataConversionWarning: Data with input dtype int64, float64 were all converted to float64 by StandardScaler.\n",
      "  \"\"\"\n"
     ]
    }
   ],
   "source": [
    "# Standardize the data\n",
    "standard_scaler = StandardScaler()\n",
    "x_fitted_scaler = standard_scaler.fit(X_train)\n",
    "x_train_transform = x_fitted_scaler.transform(X_train)\n",
    "x_test_transform = x_fitted_scaler.transform(X_test)\n",
    "X_train = pd.DataFrame(x_train_transform, columns = X_train.columns)\n",
    "X_test = pd.DataFrame(x_test_transform, columns = X_test.columns)"
   ]
  },
  {
   "cell_type": "markdown",
   "metadata": {},
   "source": [
    "<div class='theme'> Linear Regression Model </div>"
   ]
  },
  {
   "cell_type": "markdown",
   "metadata": {},
   "source": [
    "#### Linear Model"
   ]
  },
  {
   "cell_type": "code",
   "execution_count": 4,
   "metadata": {},
   "outputs": [
    {
     "name": "stdout",
     "output_type": "stream",
     "text": [
      "Linear Model Training Set Accuracy: 60.03538431295459%\n",
      "Linear Model Testing Set Accuracy: 54.48113207547169%\n"
     ]
    }
   ],
   "source": [
    "lm = LinearRegression().fit(X_train, y_train)\n",
    "lm_pred_tr = lm.predict(X_train)\n",
    "lm_pred_test = lm.predict(X_test)\n",
    "lm_score_tr = accuracy_score(y_train,[int(round(i)) for i in lm_pred_tr])*100\n",
    "lm_score_test = accuracy_score(y_test, [int(round(i)) for i in lm_pred_test])*100\n",
    "print(\"Linear Model Training Set Accuracy:\",str(lm_score_tr)+'%')\n",
    "print(\"Linear Model Testing Set Accuracy:\",str(lm_score_test)+'%')                  "
   ]
  },
  {
   "cell_type": "markdown",
   "metadata": {},
   "source": [
    "<div class='theme'> Multiple Logistic Regression Model </div>"
   ]
  },
  {
   "cell_type": "markdown",
   "metadata": {},
   "source": [
    "#### Simple Multiple Logistic Model"
   ]
  },
  {
   "cell_type": "code",
   "execution_count": 5,
   "metadata": {},
   "outputs": [
    {
     "name": "stdout",
     "output_type": "stream",
     "text": [
      "Simple Logistic Model Training Set Accuracy: 59.99606840967171%\n",
      "Simple Logistic Model Testing Set Accuracy: 54.24528301886793%\n"
     ]
    },
    {
     "name": "stderr",
     "output_type": "stream",
     "text": [
      "C:\\Users\\sw708\\Miniconda3\\envs\\sams_env\\lib\\site-packages\\sklearn\\linear_model\\logistic.py:433: FutureWarning: Default solver will be changed to 'lbfgs' in 0.22. Specify a solver to silence this warning.\n",
      "  FutureWarning)\n"
     ]
    }
   ],
   "source": [
    "#Training\n",
    "log_model = LogisticRegression(C=100000).fit(X_train, y_train)\n",
    "#Predict\n",
    "y_tr_pred = log_model.predict(X_train)\n",
    "y_test_pred = log_model.predict(X_test)\n",
    "#Performance Evaluation\n",
    "tr_score_log = accuracy_score(y_train, y_tr_pred)*100\n",
    "test_score_log = accuracy_score(y_test, y_test_pred)*100\n",
    "\n",
    "print(\"Simple Logistic Model Training Set Accuracy:\",str(tr_score_log)+'%')\n",
    "print(\"Simple Logistic Model Testing Set Accuracy:\",str(test_score_log)+'%')"
   ]
  },
  {
   "cell_type": "code",
   "execution_count": 6,
   "metadata": {},
   "outputs": [
    {
     "data": {
      "text/plain": [
       "Text(0.5, 0, 'Probability')"
      ]
     },
     "execution_count": 6,
     "metadata": {},
     "output_type": "execute_result"
    },
    {
     "data": {
      "image/png": "[encoded data removed]",
      "text/plain": [
       "<Figure size 432x288 with 2 Axes>"
      ]
     },
     "metadata": {
      "needs_background": "light"
     },
     "output_type": "display_data"
    }
   ],
   "source": [
    "fig, (ax1, ax2) = plt.subplots(2)\n",
    "ax1.set_title('Probability Estimate Distributions in Binary Classification')\n",
    "ax1.hist(log_model.predict_proba(X_train), label = ['0', '1'])\n",
    "ax2.hist(log_model.predict_proba(X_test), label = ['0', '1'])\n",
    "ax1.legend()\n",
    "ax2.legend()\n",
    "ax1.set_ylabel('Tweet Count')\n",
    "ax2.set_ylabel('Tweet Count')\n",
    "ax2.set_xlabel('Probability')"
   ]
  },
  {
   "cell_type": "markdown",
   "metadata": {},
   "source": [
    "#### Regularized Multiple Logistic Model"
   ]
  },
  {
   "cell_type": "code",
   "execution_count": 7,
   "metadata": {
    "scrolled": true
   },
   "outputs": [
    {
     "name": "stderr",
     "output_type": "stream",
     "text": [
      "C:\\Users\\sw708\\Miniconda3\\envs\\sams_env\\lib\\site-packages\\sklearn\\model_selection\\_split.py:2053: FutureWarning: You should specify a value for 'cv' instead of relying on the default value. The default value will change from 3 to 5 in version 0.22.\n",
      "  warnings.warn(CV_WARNING, FutureWarning)\n"
     ]
    },
    {
     "name": "stdout",
     "output_type": "stream",
     "text": [
      "Regularized Logistic Model Training Set Accuracy: 56.536268920778454%\n",
      "Regularized Logistic Model Testing Set Accuracy: 56.5251572327044%\n"
     ]
    }
   ],
   "source": [
    "log_model_cv = LogisticRegressionCV(penalty = 'l1', solver = 'liblinear', max_iter = 10000).fit(X_train, y_train)\n",
    "#Predict\n",
    "y_pred_cv = log_model_cv.predict(X_train)\n",
    "y_pred_test_cv = log_model_cv.predict(X_test)\n",
    "#Performance Evaluation\n",
    "tr_score_cv = accuracy_score(y_train, y_pred_cv)*100\n",
    "test_score_cv = accuracy_score(y_test, y_pred_test_cv)*100\n",
    "\n",
    "print(\"Regularized Logistic Model Training Set Accuracy:\",str(tr_score_cv)+'%')\n",
    "print(\"Regularized Logistic Model Testing Set Accuracy:\",str(test_score_cv)+'%')"
   ]
  },
  {
   "cell_type": "code",
   "execution_count": 8,
   "metadata": {},
   "outputs": [
    {
     "data": {
      "text/plain": [
       "Text(0.5, 0, 'Probability')"
      ]
     },
     "execution_count": 8,
     "metadata": {},
     "output_type": "execute_result"
    },
    {
     "data": {
      "image/png": "[encoded data removed]",
      "text/plain": [
       "<Figure size 432x288 with 2 Axes>"
      ]
     },
     "metadata": {
      "needs_background": "light"
     },
     "output_type": "display_data"
    }
   ],
   "source": [
    "fig, (ax1, ax2) = plt.subplots(2)\n",
    "ax1.set_title('Regularized Log Model: Probability Estimate Distributions in Binary Classification')\n",
    "ax1.hist(log_model_cv.predict_proba(X_train), label = ['0', '1'])\n",
    "ax2.hist(log_model_cv.predict_proba(X_test), label = ['0', '1'])\n",
    "ax1.legend()\n",
    "ax2.legend()\n",
    "ax1.set_ylabel('Tweet Count')\n",
    "ax2.set_ylabel('Tweet Count')\n",
    "ax2.set_xlabel('Probability')"
   ]
  },
  {
   "cell_type": "markdown",
   "metadata": {},
   "source": [
    "<div class='theme'> Random Forest Model </div>"
   ]
  },
  {
   "cell_type": "markdown",
   "metadata": {},
   "source": [
    "##### Finding the Best Depth for Random Forest Classifier"
   ]
  },
  {
   "cell_type": "code",
   "execution_count": 9,
   "metadata": {},
   "outputs": [],
   "source": [
    "def calc_meanstd(X_train, y_train, depths):\n",
    "    train_scores = {}\n",
    "    cvmeans = {}\n",
    "    cvstds = {}\n",
    "    for depth in depths:\n",
    "        model = DecisionTreeClassifier(max_depth = depth)\n",
    "        score = cross_val_score(estimator=model, X = X_train, y = y_train, cv=5, n_jobs = -1)\n",
    "        train_scores[depth] = score\n",
    "        cvmeans[depth] = score.mean()\n",
    "        cvstds[depth] = score.std()\n",
    "    return cvmeans, cvstds, train_scores\n",
    "\n",
    "cvmeans, cvstds, train_scores = calc_meanstd(X_train, y_train, depths = list(range(1,51)))\n",
    "best_depth = max(cvmeans, key=cvmeans.get)"
   ]
  },
  {
   "cell_type": "markdown",
   "metadata": {},
   "source": [
    "#### Random Forest Model"
   ]
  },
  {
   "cell_type": "code",
   "execution_count": 10,
   "metadata": {
    "scrolled": true
   },
   "outputs": [
    {
     "name": "stdout",
     "output_type": "stream",
     "text": [
      "Random Forest Model Training Accuracy Score:  65.2447414979359 %\n",
      "Random Forest Model Testing Accuracy Score:  56.44654088050315 %\n"
     ]
    }
   ],
   "source": [
    "rf_model = RandomForestClassifier(n_estimators = 50, max_depth = 6, max_features = 'sqrt').fit(X_train, y_train)\n",
    "random_forest_test_score = accuracy_score(y_test, rf_model.predict(X_test))*100\n",
    "random_forest_train_score = accuracy_score(y_train, rf_model.predict(X_train))*100\n",
    "print('Random Forest Model Training Accuracy Score: ', random_forest_train_score, '%')\n",
    "print('Random Forest Model Testing Accuracy Score: ', random_forest_test_score, '%')"
   ]
  },
  {
   "cell_type": "markdown",
   "metadata": {},
   "source": [
    "##### Visualization"
   ]
  },
  {
   "cell_type": "code",
   "execution_count": 11,
   "metadata": {},
   "outputs": [],
   "source": [
    "def graph_acc(depth):\n",
    "    testing = {}\n",
    "    training = {}\n",
    "    for i in range(depth):\n",
    "        rf = RandomForestClassifier(n_estimators = 50, max_depth = i+1, max_features = 'sqrt').fit(X_train, y_train)\n",
    "        training[i] = accuracy_score(y_train, rf.predict(X_train))\n",
    "        testing[i] = accuracy_score(y_test, rf.predict(X_test))\n",
    "    return training, testing\n",
    "tr_list, test_list = graph_acc(10)"
   ]
  },
  {
   "cell_type": "code",
   "execution_count": 12,
   "metadata": {
    "scrolled": false
   },
   "outputs": [
    {
     "data": {
      "image/png": "[encoded data removed]",
      "text/plain": [
       "<Figure size 432x288 with 1 Axes>"
      ]
     },
     "metadata": {
      "needs_background": "light"
     },
     "output_type": "display_data"
    }
   ],
   "source": [
    "plt.figure()\n",
    "plt.title('Accuracy Scores by Depth')\n",
    "plt.xlabel('depth')\n",
    "plt.ylabel('Accuracy Scores')\n",
    "plt.plot(*zip(*sorted(tr_list.items())), label = 'Training')\n",
    "plt.plot(*zip(*sorted(test_list.items())), label = 'Testing')\n",
    "plt.legend(loc = 'upper left')\n",
    "plt.show()"
   ]
  },
  {
   "cell_type": "code",
   "execution_count": 13,
   "metadata": {},
   "outputs": [
    {
     "data": {
      "text/plain": [
       "Text(0.5, 0, 'Probability')"
      ]
     },
     "execution_count": 13,
     "metadata": {},
     "output_type": "execute_result"
    },
    {
     "data": {
      "image/png": "[encoded data removed]",
      "text/plain": [
       "<Figure size 432x288 with 2 Axes>"
      ]
     },
     "metadata": {
      "needs_background": "light"
     },
     "output_type": "display_data"
    }
   ],
   "source": [
    "fig, (ax1, ax2) = plt.subplots(2)\n",
    "ax1.set_title('RF Model: Probability Estimate Distributions in Binary Classification')\n",
    "ax1.hist(rf_model.predict_proba(X_train), label = ['0', '1'])\n",
    "ax2.hist(rf_model.predict_proba(X_test), label = ['0', '1'])\n",
    "ax1.legend()\n",
    "ax2.legend()\n",
    "ax1.set_ylabel('Tweet Count')\n",
    "ax2.set_ylabel('Tweet Count')\n",
    "ax2.set_xlabel('Probability')"
   ]
  },
  {
   "cell_type": "code",
   "execution_count": 27,
   "metadata": {},
   "outputs": [
    {
     "ename": "ValueError",
     "evalue": "Shape of passed values is (1272, 1), indices imply (134, 1)",
     "output_type": "error",
     "traceback": [
      "\u001b[1;31m---------------------------------------------------------------------------\u001b[0m",
      "\u001b[1;31mValueError\u001b[0m                                Traceback (most recent call last)",
      "\u001b[1;32m~\\Miniconda3\\envs\\sams_env\\lib\\site-packages\\pandas\\core\\internals\\managers.py\u001b[0m in \u001b[0;36mcreate_block_manager_from_blocks\u001b[1;34m(blocks, axes)\u001b[0m\n\u001b[0;32m   1680\u001b[0m \u001b[1;33m\u001b[0m\u001b[0m\n\u001b[1;32m-> 1681\u001b[1;33m         \u001b[0mmgr\u001b[0m \u001b[1;33m=\u001b[0m \u001b[0mBlockManager\u001b[0m\u001b[1;33m(\u001b[0m\u001b[0mblocks\u001b[0m\u001b[1;33m,\u001b[0m \u001b[0maxes\u001b[0m\u001b[1;33m)\u001b[0m\u001b[1;33m\u001b[0m\u001b[1;33m\u001b[0m\u001b[0m\n\u001b[0m\u001b[0;32m   1682\u001b[0m         \u001b[0mmgr\u001b[0m\u001b[1;33m.\u001b[0m\u001b[0m_consolidate_inplace\u001b[0m\u001b[1;33m(\u001b[0m\u001b[1;33m)\u001b[0m\u001b[1;33m\u001b[0m\u001b[1;33m\u001b[0m\u001b[0m\n",
      "\u001b[1;32m~\\Miniconda3\\envs\\sams_env\\lib\\site-packages\\pandas\\core\\internals\\managers.py\u001b[0m in \u001b[0;36m__init__\u001b[1;34m(self, blocks, axes, do_integrity_check)\u001b[0m\n\u001b[0;32m    142\u001b[0m         \u001b[1;32mif\u001b[0m \u001b[0mdo_integrity_check\u001b[0m\u001b[1;33m:\u001b[0m\u001b[1;33m\u001b[0m\u001b[1;33m\u001b[0m\u001b[0m\n\u001b[1;32m--> 143\u001b[1;33m             \u001b[0mself\u001b[0m\u001b[1;33m.\u001b[0m\u001b[0m_verify_integrity\u001b[0m\u001b[1;33m(\u001b[0m\u001b[1;33m)\u001b[0m\u001b[1;33m\u001b[0m\u001b[1;33m\u001b[0m\u001b[0m\n\u001b[0m\u001b[0;32m    144\u001b[0m \u001b[1;33m\u001b[0m\u001b[0m\n",
      "\u001b[1;32m~\\Miniconda3\\envs\\sams_env\\lib\\site-packages\\pandas\\core\\internals\\managers.py\u001b[0m in \u001b[0;36m_verify_integrity\u001b[1;34m(self)\u001b[0m\n\u001b[0;32m    344\u001b[0m             \u001b[1;32mif\u001b[0m \u001b[0mblock\u001b[0m\u001b[1;33m.\u001b[0m\u001b[0m_verify_integrity\u001b[0m \u001b[1;32mand\u001b[0m \u001b[0mblock\u001b[0m\u001b[1;33m.\u001b[0m\u001b[0mshape\u001b[0m\u001b[1;33m[\u001b[0m\u001b[1;36m1\u001b[0m\u001b[1;33m:\u001b[0m\u001b[1;33m]\u001b[0m \u001b[1;33m!=\u001b[0m \u001b[0mmgr_shape\u001b[0m\u001b[1;33m[\u001b[0m\u001b[1;36m1\u001b[0m\u001b[1;33m:\u001b[0m\u001b[1;33m]\u001b[0m\u001b[1;33m:\u001b[0m\u001b[1;33m\u001b[0m\u001b[1;33m\u001b[0m\u001b[0m\n\u001b[1;32m--> 345\u001b[1;33m                 \u001b[0mconstruction_error\u001b[0m\u001b[1;33m(\u001b[0m\u001b[0mtot_items\u001b[0m\u001b[1;33m,\u001b[0m \u001b[0mblock\u001b[0m\u001b[1;33m.\u001b[0m\u001b[0mshape\u001b[0m\u001b[1;33m[\u001b[0m\u001b[1;36m1\u001b[0m\u001b[1;33m:\u001b[0m\u001b[1;33m]\u001b[0m\u001b[1;33m,\u001b[0m \u001b[0mself\u001b[0m\u001b[1;33m.\u001b[0m\u001b[0maxes\u001b[0m\u001b[1;33m)\u001b[0m\u001b[1;33m\u001b[0m\u001b[1;33m\u001b[0m\u001b[0m\n\u001b[0m\u001b[0;32m    346\u001b[0m         \u001b[1;32mif\u001b[0m \u001b[0mlen\u001b[0m\u001b[1;33m(\u001b[0m\u001b[0mself\u001b[0m\u001b[1;33m.\u001b[0m\u001b[0mitems\u001b[0m\u001b[1;33m)\u001b[0m \u001b[1;33m!=\u001b[0m \u001b[0mtot_items\u001b[0m\u001b[1;33m:\u001b[0m\u001b[1;33m\u001b[0m\u001b[1;33m\u001b[0m\u001b[0m\n",
      "\u001b[1;32m~\\Miniconda3\\envs\\sams_env\\lib\\site-packages\\pandas\\core\\internals\\managers.py\u001b[0m in \u001b[0;36mconstruction_error\u001b[1;34m(tot_items, block_shape, axes, e)\u001b[0m\n\u001b[0;32m   1718\u001b[0m     raise ValueError(\n\u001b[1;32m-> 1719\u001b[1;33m         \u001b[1;34m\"Shape of passed values is {0}, indices imply {1}\"\u001b[0m\u001b[1;33m.\u001b[0m\u001b[0mformat\u001b[0m\u001b[1;33m(\u001b[0m\u001b[0mpassed\u001b[0m\u001b[1;33m,\u001b[0m \u001b[0mimplied\u001b[0m\u001b[1;33m)\u001b[0m\u001b[1;33m\u001b[0m\u001b[1;33m\u001b[0m\u001b[0m\n\u001b[0m\u001b[0;32m   1720\u001b[0m     )\n",
      "\u001b[1;31mValueError\u001b[0m: Shape of passed values is (1272, 1), indices imply (134, 1)",
      "\nDuring handling of the above exception, another exception occurred:\n",
      "\u001b[1;31mValueError\u001b[0m                                Traceback (most recent call last)",
      "\u001b[1;32m<ipython-input-27-9e3378596b9f>\u001b[0m in \u001b[0;36m<module>\u001b[1;34m\u001b[0m\n\u001b[1;32m----> 1\u001b[1;33m \u001b[0mpredictions\u001b[0m \u001b[1;33m=\u001b[0m \u001b[0mpd\u001b[0m\u001b[1;33m.\u001b[0m\u001b[0mDataFrame\u001b[0m\u001b[1;33m(\u001b[0m\u001b[0mrf_model\u001b[0m\u001b[1;33m.\u001b[0m\u001b[0mpredict\u001b[0m\u001b[1;33m(\u001b[0m\u001b[0mX_test\u001b[0m\u001b[1;33m)\u001b[0m\u001b[1;33m,\u001b[0m \u001b[0mindex\u001b[0m \u001b[1;33m=\u001b[0m \u001b[0mindex\u001b[0m\u001b[1;33m)\u001b[0m\u001b[1;33m\u001b[0m\u001b[1;33m\u001b[0m\u001b[0m\n\u001b[0m\u001b[0;32m      2\u001b[0m \u001b[0mdates\u001b[0m \u001b[1;33m=\u001b[0m \u001b[0mpd\u001b[0m\u001b[1;33m.\u001b[0m\u001b[0mDataFrame\u001b[0m\u001b[1;33m(\u001b[0m\u001b[0mdatetimes\u001b[0m\u001b[1;33m[\u001b[0m\u001b[0mindex\u001b[0m\u001b[1;33m]\u001b[0m\u001b[1;33m,\u001b[0m \u001b[0mindex\u001b[0m \u001b[1;33m=\u001b[0m \u001b[0mindex\u001b[0m\u001b[1;33m)\u001b[0m\u001b[1;33m\u001b[0m\u001b[1;33m\u001b[0m\u001b[0m\n\u001b[0;32m      3\u001b[0m \u001b[0mrf_prediction\u001b[0m \u001b[1;33m=\u001b[0m \u001b[0mpd\u001b[0m\u001b[1;33m.\u001b[0m\u001b[0mconcat\u001b[0m\u001b[1;33m(\u001b[0m\u001b[1;33m[\u001b[0m\u001b[0mpredictions\u001b[0m\u001b[1;33m,\u001b[0m \u001b[0mdates\u001b[0m\u001b[1;33m]\u001b[0m\u001b[1;33m,\u001b[0m \u001b[0maxis\u001b[0m \u001b[1;33m=\u001b[0m \u001b[1;36m1\u001b[0m\u001b[1;33m)\u001b[0m\u001b[1;33m\u001b[0m\u001b[1;33m\u001b[0m\u001b[0m\n\u001b[0;32m      4\u001b[0m \u001b[0mrf_prediction\u001b[0m\u001b[1;33m.\u001b[0m\u001b[0mto_csv\u001b[0m\u001b[1;33m(\u001b[0m\u001b[1;34m'data/rf_prediction'\u001b[0m\u001b[1;33m)\u001b[0m\u001b[1;33m\u001b[0m\u001b[1;33m\u001b[0m\u001b[0m\n",
      "\u001b[1;32m~\\Miniconda3\\envs\\sams_env\\lib\\site-packages\\pandas\\core\\frame.py\u001b[0m in \u001b[0;36m__init__\u001b[1;34m(self, data, index, columns, dtype, copy)\u001b[0m\n\u001b[0;32m    438\u001b[0m                 \u001b[0mmgr\u001b[0m \u001b[1;33m=\u001b[0m \u001b[0minit_dict\u001b[0m\u001b[1;33m(\u001b[0m\u001b[1;33m{\u001b[0m\u001b[0mdata\u001b[0m\u001b[1;33m.\u001b[0m\u001b[0mname\u001b[0m\u001b[1;33m:\u001b[0m \u001b[0mdata\u001b[0m\u001b[1;33m}\u001b[0m\u001b[1;33m,\u001b[0m \u001b[0mindex\u001b[0m\u001b[1;33m,\u001b[0m \u001b[0mcolumns\u001b[0m\u001b[1;33m,\u001b[0m \u001b[0mdtype\u001b[0m\u001b[1;33m=\u001b[0m\u001b[0mdtype\u001b[0m\u001b[1;33m)\u001b[0m\u001b[1;33m\u001b[0m\u001b[1;33m\u001b[0m\u001b[0m\n\u001b[0;32m    439\u001b[0m             \u001b[1;32melse\u001b[0m\u001b[1;33m:\u001b[0m\u001b[1;33m\u001b[0m\u001b[1;33m\u001b[0m\u001b[0m\n\u001b[1;32m--> 440\u001b[1;33m                 \u001b[0mmgr\u001b[0m \u001b[1;33m=\u001b[0m \u001b[0minit_ndarray\u001b[0m\u001b[1;33m(\u001b[0m\u001b[0mdata\u001b[0m\u001b[1;33m,\u001b[0m \u001b[0mindex\u001b[0m\u001b[1;33m,\u001b[0m \u001b[0mcolumns\u001b[0m\u001b[1;33m,\u001b[0m \u001b[0mdtype\u001b[0m\u001b[1;33m=\u001b[0m\u001b[0mdtype\u001b[0m\u001b[1;33m,\u001b[0m \u001b[0mcopy\u001b[0m\u001b[1;33m=\u001b[0m\u001b[0mcopy\u001b[0m\u001b[1;33m)\u001b[0m\u001b[1;33m\u001b[0m\u001b[1;33m\u001b[0m\u001b[0m\n\u001b[0m\u001b[0;32m    441\u001b[0m \u001b[1;33m\u001b[0m\u001b[0m\n\u001b[0;32m    442\u001b[0m         \u001b[1;31m# For data is list-like, or Iterable (will consume into list)\u001b[0m\u001b[1;33m\u001b[0m\u001b[1;33m\u001b[0m\u001b[1;33m\u001b[0m\u001b[0m\n",
      "\u001b[1;32m~\\Miniconda3\\envs\\sams_env\\lib\\site-packages\\pandas\\core\\internals\\construction.py\u001b[0m in \u001b[0;36minit_ndarray\u001b[1;34m(values, index, columns, dtype, copy)\u001b[0m\n\u001b[0;32m    211\u001b[0m         \u001b[0mblock_values\u001b[0m \u001b[1;33m=\u001b[0m \u001b[1;33m[\u001b[0m\u001b[0mvalues\u001b[0m\u001b[1;33m]\u001b[0m\u001b[1;33m\u001b[0m\u001b[1;33m\u001b[0m\u001b[0m\n\u001b[0;32m    212\u001b[0m \u001b[1;33m\u001b[0m\u001b[0m\n\u001b[1;32m--> 213\u001b[1;33m     \u001b[1;32mreturn\u001b[0m \u001b[0mcreate_block_manager_from_blocks\u001b[0m\u001b[1;33m(\u001b[0m\u001b[0mblock_values\u001b[0m\u001b[1;33m,\u001b[0m \u001b[1;33m[\u001b[0m\u001b[0mcolumns\u001b[0m\u001b[1;33m,\u001b[0m \u001b[0mindex\u001b[0m\u001b[1;33m]\u001b[0m\u001b[1;33m)\u001b[0m\u001b[1;33m\u001b[0m\u001b[1;33m\u001b[0m\u001b[0m\n\u001b[0m\u001b[0;32m    214\u001b[0m \u001b[1;33m\u001b[0m\u001b[0m\n\u001b[0;32m    215\u001b[0m \u001b[1;33m\u001b[0m\u001b[0m\n",
      "\u001b[1;32m~\\Miniconda3\\envs\\sams_env\\lib\\site-packages\\pandas\\core\\internals\\managers.py\u001b[0m in \u001b[0;36mcreate_block_manager_from_blocks\u001b[1;34m(blocks, axes)\u001b[0m\n\u001b[0;32m   1686\u001b[0m         \u001b[0mblocks\u001b[0m \u001b[1;33m=\u001b[0m \u001b[1;33m[\u001b[0m\u001b[0mgetattr\u001b[0m\u001b[1;33m(\u001b[0m\u001b[0mb\u001b[0m\u001b[1;33m,\u001b[0m \u001b[1;34m\"values\"\u001b[0m\u001b[1;33m,\u001b[0m \u001b[0mb\u001b[0m\u001b[1;33m)\u001b[0m \u001b[1;32mfor\u001b[0m \u001b[0mb\u001b[0m \u001b[1;32min\u001b[0m \u001b[0mblocks\u001b[0m\u001b[1;33m]\u001b[0m\u001b[1;33m\u001b[0m\u001b[1;33m\u001b[0m\u001b[0m\n\u001b[0;32m   1687\u001b[0m         \u001b[0mtot_items\u001b[0m \u001b[1;33m=\u001b[0m \u001b[0msum\u001b[0m\u001b[1;33m(\u001b[0m\u001b[0mb\u001b[0m\u001b[1;33m.\u001b[0m\u001b[0mshape\u001b[0m\u001b[1;33m[\u001b[0m\u001b[1;36m0\u001b[0m\u001b[1;33m]\u001b[0m \u001b[1;32mfor\u001b[0m \u001b[0mb\u001b[0m \u001b[1;32min\u001b[0m \u001b[0mblocks\u001b[0m\u001b[1;33m)\u001b[0m\u001b[1;33m\u001b[0m\u001b[1;33m\u001b[0m\u001b[0m\n\u001b[1;32m-> 1688\u001b[1;33m         \u001b[0mconstruction_error\u001b[0m\u001b[1;33m(\u001b[0m\u001b[0mtot_items\u001b[0m\u001b[1;33m,\u001b[0m \u001b[0mblocks\u001b[0m\u001b[1;33m[\u001b[0m\u001b[1;36m0\u001b[0m\u001b[1;33m]\u001b[0m\u001b[1;33m.\u001b[0m\u001b[0mshape\u001b[0m\u001b[1;33m[\u001b[0m\u001b[1;36m1\u001b[0m\u001b[1;33m:\u001b[0m\u001b[1;33m]\u001b[0m\u001b[1;33m,\u001b[0m \u001b[0maxes\u001b[0m\u001b[1;33m,\u001b[0m \u001b[0me\u001b[0m\u001b[1;33m)\u001b[0m\u001b[1;33m\u001b[0m\u001b[1;33m\u001b[0m\u001b[0m\n\u001b[0m\u001b[0;32m   1689\u001b[0m \u001b[1;33m\u001b[0m\u001b[0m\n\u001b[0;32m   1690\u001b[0m \u001b[1;33m\u001b[0m\u001b[0m\n",
      "\u001b[1;32m~\\Miniconda3\\envs\\sams_env\\lib\\site-packages\\pandas\\core\\internals\\managers.py\u001b[0m in \u001b[0;36mconstruction_error\u001b[1;34m(tot_items, block_shape, axes, e)\u001b[0m\n\u001b[0;32m   1717\u001b[0m         \u001b[1;32mraise\u001b[0m \u001b[0mValueError\u001b[0m\u001b[1;33m(\u001b[0m\u001b[1;34m\"Empty data passed with indices specified.\"\u001b[0m\u001b[1;33m)\u001b[0m\u001b[1;33m\u001b[0m\u001b[1;33m\u001b[0m\u001b[0m\n\u001b[0;32m   1718\u001b[0m     raise ValueError(\n\u001b[1;32m-> 1719\u001b[1;33m         \u001b[1;34m\"Shape of passed values is {0}, indices imply {1}\"\u001b[0m\u001b[1;33m.\u001b[0m\u001b[0mformat\u001b[0m\u001b[1;33m(\u001b[0m\u001b[0mpassed\u001b[0m\u001b[1;33m,\u001b[0m \u001b[0mimplied\u001b[0m\u001b[1;33m)\u001b[0m\u001b[1;33m\u001b[0m\u001b[1;33m\u001b[0m\u001b[0m\n\u001b[0m\u001b[0;32m   1720\u001b[0m     )\n\u001b[0;32m   1721\u001b[0m \u001b[1;33m\u001b[0m\u001b[0m\n",
      "\u001b[1;31mValueError\u001b[0m: Shape of passed values is (1272, 1), indices imply (134, 1)"
     ]
    }
   ],
   "source": [
    "predictions = pd.DataFrame(rf_model.predict(X_test), index = index)\n",
    "dates = pd.DataFrame(datetimes[index], index = index)\n",
    "rf_prediction = pd.concat([predictions, dates], axis = 1)\n",
    "rf_prediction.to_csv('data/rf_prediction')"
   ]
  },
  {
   "cell_type": "markdown",
   "metadata": {},
   "source": [
    "##### Most important features from Random Forest Model"
   ]
  },
  {
   "cell_type": "code",
   "execution_count": 15,
   "metadata": {
    "scrolled": true
   },
   "outputs": [
    {
     "data": {
      "text/plain": [
       "['favorite_count',\n",
       " 'coming',\n",
       " 'way',\n",
       " 'got',\n",
       " 'together',\n",
       " 'hour',\n",
       " 'state',\n",
       " 'united',\n",
       " 'usa',\n",
       " 'mexico']"
      ]
     },
     "execution_count": 15,
     "metadata": {},
     "output_type": "execute_result"
    }
   ],
   "source": [
    "feature_list = dict(zip(X_train.columns.values, rf_model.feature_importances_))\n",
    "top_10_features = sorted(feature_list, key = feature_list.get, reverse = True)[:10]\n",
    "top_10_features"
   ]
  },
  {
   "cell_type": "markdown",
   "metadata": {},
   "source": [
    "<div class='theme'> Neural Network </div>"
   ]
  },
  {
   "cell_type": "code",
   "execution_count": 16,
   "metadata": {},
   "outputs": [
    {
     "name": "stdout",
     "output_type": "stream",
     "text": [
      "WARNING:tensorflow:From C:\\Users\\sw708\\Miniconda3\\envs\\sams_env\\lib\\site-packages\\tensorflow\\python\\ops\\resource_variable_ops.py:435: colocate_with (from tensorflow.python.framework.ops) is deprecated and will be removed in a future version.\n",
      "Instructions for updating:\n",
      "Colocations handled automatically by placer.\n",
      "WARNING:tensorflow:From C:\\Users\\sw708\\Miniconda3\\envs\\sams_env\\lib\\site-packages\\tensorflow\\python\\keras\\layers\\core.py:143: calling dropout (from tensorflow.python.ops.nn_ops) with keep_prob is deprecated and will be removed in a future version.\n",
      "Instructions for updating:\n",
      "Please use `rate` instead of `keep_prob`. Rate should be set to `rate = 1 - keep_prob`.\n"
     ]
    }
   ],
   "source": [
    "model = Sequential()\n",
    "model.add(Dense(16, input_shape = (152,), activation = 'relu'))\n",
    "model.add(Dense(32, activation = 'relu',kernel_regularizer=regularizers.l2(0.01)))\n",
    "model.add(Dropout(.6))\n",
    "model.add(Dense(1, activation = 'sigmoid'))\n",
    "model.compile(optimizer = 'adam',loss = 'binary_crossentropy', metrics = ['accuracy'])"
   ]
  },
  {
   "cell_type": "code",
   "execution_count": 17,
   "metadata": {},
   "outputs": [
    {
     "name": "stdout",
     "output_type": "stream",
     "text": [
      "Train on 4069 samples, validate on 1018 samples\n",
      "WARNING:tensorflow:From C:\\Users\\sw708\\Miniconda3\\envs\\sams_env\\lib\\site-packages\\tensorflow\\python\\ops\\math_ops.py:3066: to_int32 (from tensorflow.python.ops.math_ops) is deprecated and will be removed in a future version.\n",
      "Instructions for updating:\n",
      "Use tf.cast instead.\n",
      "Epoch 1/50\n",
      "4069/4069 [==============================] - 1s 214us/sample - loss: 0.9760 - acc: 0.5114 - val_loss: 0.8304 - val_acc: 0.5521\n",
      "Epoch 2/50\n",
      "4069/4069 [==============================] - 0s 62us/sample - loss: 0.8350 - acc: 0.5404 - val_loss: 0.7823 - val_acc: 0.5639\n",
      "Epoch 3/50\n",
      "4069/4069 [==============================] - 0s 62us/sample - loss: 0.7844 - acc: 0.5367 - val_loss: 0.7533 - val_acc: 0.5737\n",
      "Epoch 4/50\n",
      "4069/4069 [==============================] - 0s 62us/sample - loss: 0.7470 - acc: 0.5608 - val_loss: 0.7348 - val_acc: 0.5678\n",
      "Epoch 5/50\n",
      "4069/4069 [==============================] - 0s 62us/sample - loss: 0.7269 - acc: 0.5694 - val_loss: 0.7217 - val_acc: 0.5629\n",
      "Epoch 6/50\n",
      "4069/4069 [==============================] - 0s 60us/sample - loss: 0.7113 - acc: 0.5829 - val_loss: 0.7133 - val_acc: 0.5629\n",
      "Epoch 7/50\n",
      "4069/4069 [==============================] - 0s 62us/sample - loss: 0.7025 - acc: 0.5790 - val_loss: 0.7070 - val_acc: 0.5629\n",
      "Epoch 8/50\n",
      "4069/4069 [==============================] - 0s 62us/sample - loss: 0.6947 - acc: 0.5844 - val_loss: 0.7028 - val_acc: 0.5560\n",
      "Epoch 9/50\n",
      "4069/4069 [==============================] - 0s 61us/sample - loss: 0.6861 - acc: 0.5866 - val_loss: 0.7008 - val_acc: 0.5481\n",
      "Epoch 10/50\n",
      "4069/4069 [==============================] - 0s 62us/sample - loss: 0.6823 - acc: 0.5886 - val_loss: 0.7009 - val_acc: 0.5560\n",
      "Epoch 11/50\n",
      "4069/4069 [==============================] - 0s 62us/sample - loss: 0.6792 - acc: 0.5965 - val_loss: 0.7001 - val_acc: 0.5688\n",
      "Epoch 12/50\n",
      "4069/4069 [==============================] - 0s 62us/sample - loss: 0.6740 - acc: 0.5933 - val_loss: 0.7005 - val_acc: 0.5668\n",
      "Epoch 13/50\n",
      "4069/4069 [==============================] - 0s 59us/sample - loss: 0.6692 - acc: 0.6031 - val_loss: 0.7051 - val_acc: 0.5511\n",
      "Epoch 14/50\n",
      "4069/4069 [==============================] - 0s 62us/sample - loss: 0.6635 - acc: 0.6073 - val_loss: 0.7093 - val_acc: 0.5511\n",
      "Epoch 15/50\n",
      "4069/4069 [==============================] - 0s 62us/sample - loss: 0.6574 - acc: 0.6208 - val_loss: 0.7117 - val_acc: 0.5432\n",
      "Epoch 16/50\n",
      "4069/4069 [==============================] - 0s 62us/sample - loss: 0.6521 - acc: 0.6323 - val_loss: 0.7175 - val_acc: 0.5344\n",
      "Epoch 17/50\n",
      "4069/4069 [==============================] - 0s 62us/sample - loss: 0.6445 - acc: 0.6323 - val_loss: 0.7243 - val_acc: 0.5354\n",
      "Epoch 18/50\n",
      "4069/4069 [==============================] - 0s 62us/sample - loss: 0.6419 - acc: 0.6363 - val_loss: 0.7279 - val_acc: 0.5344\n",
      "Epoch 19/50\n",
      "4069/4069 [==============================] - 0s 62us/sample - loss: 0.6326 - acc: 0.6461 - val_loss: 0.7347 - val_acc: 0.5246\n",
      "Epoch 20/50\n",
      "4069/4069 [==============================] - 0s 62us/sample - loss: 0.6242 - acc: 0.6599 - val_loss: 0.7466 - val_acc: 0.5187\n",
      "Epoch 21/50\n",
      "4069/4069 [==============================] - 0s 62us/sample - loss: 0.6165 - acc: 0.6658 - val_loss: 0.7571 - val_acc: 0.5128\n",
      "Epoch 22/50\n",
      "4069/4069 [==============================] - 0s 62us/sample - loss: 0.6113 - acc: 0.6682 - val_loss: 0.7716 - val_acc: 0.5167\n",
      "Epoch 23/50\n",
      "4069/4069 [==============================] - 0s 62us/sample - loss: 0.5944 - acc: 0.6822 - val_loss: 0.7925 - val_acc: 0.5226\n",
      "Epoch 24/50\n",
      "4069/4069 [==============================] - 0s 62us/sample - loss: 0.5909 - acc: 0.6926 - val_loss: 0.7809 - val_acc: 0.5128\n",
      "Epoch 25/50\n",
      "4069/4069 [==============================] - 0s 60us/sample - loss: 0.5824 - acc: 0.6985 - val_loss: 0.8056 - val_acc: 0.5108\n",
      "Epoch 26/50\n",
      "4069/4069 [==============================] - 0s 61us/sample - loss: 0.5744 - acc: 0.7034 - val_loss: 0.8106 - val_acc: 0.5167\n",
      "Epoch 27/50\n",
      "4069/4069 [==============================] - 0s 61us/sample - loss: 0.5629 - acc: 0.7147 - val_loss: 0.8303 - val_acc: 0.5275\n",
      "Epoch 28/50\n",
      "4069/4069 [==============================] - 0s 62us/sample - loss: 0.5513 - acc: 0.7279 - val_loss: 0.8523 - val_acc: 0.5226\n",
      "Epoch 29/50\n",
      "4069/4069 [==============================] - 0s 62us/sample - loss: 0.5423 - acc: 0.7392 - val_loss: 0.8802 - val_acc: 0.5118\n",
      "Epoch 30/50\n",
      "4069/4069 [==============================] - 0s 62us/sample - loss: 0.5337 - acc: 0.7402 - val_loss: 0.8708 - val_acc: 0.5118\n",
      "Epoch 31/50\n",
      "4069/4069 [==============================] - 0s 62us/sample - loss: 0.5332 - acc: 0.7447 - val_loss: 0.8960 - val_acc: 0.5246\n",
      "Epoch 32/50\n",
      "4069/4069 [==============================] - 0s 60us/sample - loss: 0.5153 - acc: 0.7560 - val_loss: 0.9219 - val_acc: 0.5167\n",
      "Epoch 33/50\n",
      "4069/4069 [==============================] - 0s 62us/sample - loss: 0.5018 - acc: 0.7651 - val_loss: 0.9362 - val_acc: 0.5138\n",
      "Epoch 34/50\n",
      "4069/4069 [==============================] - 0s 62us/sample - loss: 0.4987 - acc: 0.7670 - val_loss: 0.9556 - val_acc: 0.5138\n",
      "Epoch 35/50\n",
      "4069/4069 [==============================] - 0s 61us/sample - loss: 0.4858 - acc: 0.7746 - val_loss: 0.9639 - val_acc: 0.5334\n",
      "Epoch 36/50\n",
      "4069/4069 [==============================] - 0s 62us/sample - loss: 0.4849 - acc: 0.7695 - val_loss: 0.9852 - val_acc: 0.5236\n",
      "Epoch 37/50\n",
      "4069/4069 [==============================] - 0s 62us/sample - loss: 0.4753 - acc: 0.7820 - val_loss: 0.9994 - val_acc: 0.5157\n",
      "Epoch 38/50\n",
      "4069/4069 [==============================] - 0s 61us/sample - loss: 0.4642 - acc: 0.7913 - val_loss: 1.0096 - val_acc: 0.5305\n",
      "Epoch 39/50\n",
      "4069/4069 [==============================] - 0s 59us/sample - loss: 0.4627 - acc: 0.7894 - val_loss: 1.0288 - val_acc: 0.5147\n",
      "Epoch 40/50\n",
      "4069/4069 [==============================] - 0s 60us/sample - loss: 0.4495 - acc: 0.7972 - val_loss: 1.0420 - val_acc: 0.5206\n",
      "Epoch 41/50\n",
      "4069/4069 [==============================] - 0s 62us/sample - loss: 0.4432 - acc: 0.8004 - val_loss: 1.0753 - val_acc: 0.5098\n",
      "Epoch 42/50\n",
      "4069/4069 [==============================] - 0s 62us/sample - loss: 0.4344 - acc: 0.8066 - val_loss: 1.0877 - val_acc: 0.5157\n",
      "Epoch 43/50\n",
      "4069/4069 [==============================] - 0s 61us/sample - loss: 0.4307 - acc: 0.8086 - val_loss: 1.1056 - val_acc: 0.5020\n",
      "Epoch 44/50\n",
      "4069/4069 [==============================] - 0s 59us/sample - loss: 0.4303 - acc: 0.8098 - val_loss: 1.1441 - val_acc: 0.5187\n",
      "Epoch 45/50\n",
      "4069/4069 [==============================] - 0s 59us/sample - loss: 0.4241 - acc: 0.8152 - val_loss: 1.1280 - val_acc: 0.5305\n",
      "Epoch 46/50\n",
      "4069/4069 [==============================] - 0s 62us/sample - loss: 0.4059 - acc: 0.8267 - val_loss: 1.1933 - val_acc: 0.5147\n",
      "Epoch 47/50\n",
      "4069/4069 [==============================] - 0s 62us/sample - loss: 0.4091 - acc: 0.8167 - val_loss: 1.1926 - val_acc: 0.5246\n",
      "Epoch 48/50\n",
      "4069/4069 [==============================] - 0s 62us/sample - loss: 0.4073 - acc: 0.8176 - val_loss: 1.2340 - val_acc: 0.5206\n",
      "Epoch 49/50\n",
      "4069/4069 [==============================] - 0s 62us/sample - loss: 0.3945 - acc: 0.8228 - val_loss: 1.2372 - val_acc: 0.5216\n",
      "Epoch 50/50\n",
      "4069/4069 [==============================] - 0s 59us/sample - loss: 0.3882 - acc: 0.8307 - val_loss: 1.2522 - val_acc: 0.5079\n"
     ]
    }
   ],
   "source": [
    "hist = model.fit(X_train, y_train, validation_split = .2, batch_size = 32, epochs = 50)"
   ]
  },
  {
   "cell_type": "markdown",
   "metadata": {},
   "source": [
    "##### Visualization"
   ]
  },
  {
   "cell_type": "code",
   "execution_count": 19,
   "metadata": {},
   "outputs": [
    {
     "data": {
      "text/plain": [
       "[<matplotlib.lines.Line2D at 0x2a53cc16848>]"
      ]
     },
     "execution_count": 19,
     "metadata": {},
     "output_type": "execute_result"
    },
    {
     "data": {
      "image/png": "[encoded data removed]",
      "text/plain": [
       "<Figure size 432x288 with 1 Axes>"
      ]
     },
     "metadata": {
      "needs_background": "light"
     },
     "output_type": "display_data"
    }
   ],
   "source": [
    "plt.plot(hist.history['acc'])\n",
    "plt.plot(hist.history['val_acc'])"
   ]
  },
  {
   "cell_type": "markdown",
   "metadata": {},
   "source": [
    "##### Neural Network Results"
   ]
  },
  {
   "cell_type": "code",
   "execution_count": 26,
   "metadata": {},
   "outputs": [],
   "source": [
    "predictions_train = model.predict(X_train)\n",
    "predictions_test = model.predict(X_test)\n",
    "prediction = pd.DataFrame(predictions_test, index = X_test.index)\n",
    "dates = temp.iloc[X_test.index]['created_at']\n",
    "neural_predict = pd.concat([prediction, dates], axis = 1)\n",
    "neural_predict.to_csv('data/neural_prediction')"
   ]
  },
  {
   "cell_type": "code",
   "execution_count": 23,
   "metadata": {},
   "outputs": [],
   "source": [
    "predict_tr = [1 if x > .9 else 0 for x in predictions_train]\n",
    "predict_test = [1 if x > .9 else 0 for x in predictions_test]\n",
    "nn_tr_score = accuracy_score(y_train, predict_tr)*100\n",
    "nn_test_score = accuracy_score(y_test, predict_test)*100\n",
    "index = np.where(prediction[0] > .9)[0]\n",
    "# top_tweet = temp.iloc[np.where(prediction[0] > .90)]['text'][488]\n",
    "# print('tweet that would raise stock market is: ', top_tweet)\n",
    "# worst_tweet = temp.iloc[np.where(prediction[0] < .01)]['text'][899]\n",
    "# print('tweet that would lower stock market is: ', worst_tweet)"
   ]
  },
  {
   "cell_type": "markdown",
   "metadata": {},
   "source": [
    "# Model Results"
   ]
  },
  {
   "cell_type": "code",
   "execution_count": 25,
   "metadata": {},
   "outputs": [
    {
     "data": {
      "text/html": [
       "<div>\n",
       "<style scoped>\n",
       "    .dataframe tbody tr th:only-of-type {\n",
       "        vertical-align: middle;\n",
       "    }\n",
       "\n",
       "    .dataframe tbody tr th {\n",
       "        vertical-align: top;\n",
       "    }\n",
       "\n",
       "    .dataframe thead th {\n",
       "        text-align: right;\n",
       "    }\n",
       "</style>\n",
       "<table border=\"1\" class=\"dataframe\">\n",
       "  <thead>\n",
       "    <tr style=\"text-align: right;\">\n",
       "      <th></th>\n",
       "      <th>Training Accuracy (%)</th>\n",
       "      <th>Testing Accuracy (%)</th>\n",
       "    </tr>\n",
       "  </thead>\n",
       "  <tbody>\n",
       "    <tr>\n",
       "      <th>Linear Regression</th>\n",
       "      <td>60.035384</td>\n",
       "      <td>54.481132</td>\n",
       "    </tr>\n",
       "    <tr>\n",
       "      <th>Simple Logistic</th>\n",
       "      <td>59.996068</td>\n",
       "      <td>54.245283</td>\n",
       "    </tr>\n",
       "    <tr>\n",
       "      <th>Regularized Logistic</th>\n",
       "      <td>56.536269</td>\n",
       "      <td>56.525157</td>\n",
       "    </tr>\n",
       "    <tr>\n",
       "      <th>Random Forest</th>\n",
       "      <td>65.244741</td>\n",
       "      <td>56.446541</td>\n",
       "    </tr>\n",
       "    <tr>\n",
       "      <th>Neural Network</th>\n",
       "      <td>66.837036</td>\n",
       "      <td>55.110063</td>\n",
       "    </tr>\n",
       "  </tbody>\n",
       "</table>\n",
       "</div>"
      ],
      "text/plain": [
       "                      Training Accuracy (%)  Testing Accuracy (%)\n",
       "Linear Regression                 60.035384             54.481132\n",
       "Simple Logistic                   59.996068             54.245283\n",
       "Regularized Logistic              56.536269             56.525157\n",
       "Random Forest                     65.244741             56.446541\n",
       "Neural Network                    66.837036             55.110063"
      ]
     },
     "execution_count": 25,
     "metadata": {},
     "output_type": "execute_result"
    }
   ],
   "source": [
    "names = []\n",
    "scores = []\n",
    "scores.append([[lm_score_tr, lm_score_test], [tr_score_log, test_score_log],\n",
    "               [tr_score_cv, test_score_cv], [random_forest_train_score, random_forest_test_score], [nn_tr_score, nn_test_score]])\n",
    "names.append(['Linear Regression', 'Simple Logistic', 'Regularized Logistic', 'Random Forest', 'Neural Network'])\n",
    "results_df = pd.DataFrame(scores[0], index = names[0], columns = ['Training Accuracy (%)', 'Testing Accuracy (%)'])\n",
    "results_df"
   ]
  },
  {
   "cell_type": "code",
   "execution_count": null,
   "metadata": {},
   "outputs": [],
   "source": []
  }
 ],
 "metadata": {
  "kernelspec": {
   "display_name": "Python 3",
   "language": "python",
   "name": "python3"
  },
  "language_info": {
   "codemirror_mode": {
    "name": "ipython",
    "version": 3
   },
   "file_extension": ".py",
   "mimetype": "text/x-python",
   "name": "python",
   "nbconvert_exporter": "python",
   "pygments_lexer": "ipython3",
   "version": "3.7.5"
  }
 },
 "nbformat": 4,
 "nbformat_minor": 2
}
